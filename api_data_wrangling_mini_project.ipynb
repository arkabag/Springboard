{
 "cells": [
  {
   "cell_type": "markdown",
   "metadata": {},
   "source": [
    "This exercise will require you to pull some data from https://data.nasdaq.com/ (formerly Quandl API)."
   ]
  },
  {
   "cell_type": "markdown",
   "metadata": {},
   "source": [
    "As a first step, you will need to register a free account on the https://data.nasdaq.com/ website."
   ]
  },
  {
   "cell_type": "markdown",
   "metadata": {},
   "source": [
    "After you register, you will be provided with a unique API key, that you should store:\n",
    "\n",
    "*Note*: Use a `.env` file and put your key in there and `python-dotenv` to access it in this notebook. \n",
    "\n",
    "The code below uses a key that was used when generating this project but has since been deleted. Never submit your keys to source control. There is a `.env-example` file in this repository to illusrtate what you need. Copy that to a file called `.env` and use your own api key in that `.env` file. Make sure you also have a `.gitignore` file with a line for `.env` added to it. \n",
    "\n",
    "The standard Python gitignore is [here](https://github.com/github/gitignore/blob/master/Python.gitignore) you can just copy that. "
   ]
  },
  {
   "cell_type": "code",
   "execution_count": 3,
   "metadata": {},
   "outputs": [
    {
     "name": "stdout",
     "output_type": "stream",
     "text": [
      "Collecting python-dotenv\n",
      "  Downloading python_dotenv-1.0.0-py3-none-any.whl (19 kB)\n",
      "Installing collected packages: python-dotenv\n",
      "Successfully installed python-dotenv-1.0.0\n"
     ]
    }
   ],
   "source": [
    "!pip install python-dotenv"
   ]
  },
  {
   "cell_type": "code",
   "execution_count": 6,
   "metadata": {},
   "outputs": [
    {
     "name": "stdout",
     "output_type": "stream",
     "text": [
      "_CV9WztniAoPyq5MNcrp\n"
     ]
    }
   ],
   "source": [
    "import os\n",
    "from dotenv import load_dotenv\n",
    "\n",
    "# Specifying the path to nasdaq.env\n",
    "path_to_env = \"/Users/arka_bagchi/Desktop/Springboard/dsc/Unit 7 - Data Wrangling/nasdaq.env\"\n",
    "load_dotenv(dotenv_path=path_to_env)\n",
    "\n",
    "API_KEY = os.getenv('NASDAQ_API_KEY')\n",
    "print(API_KEY)"
   ]
  },
  {
   "cell_type": "markdown",
   "metadata": {},
   "source": [
    "Nasdaq Data has a large number of data sources, but, unfortunately, most of them require a Premium subscription. Still, there are also a good number of free datasets."
   ]
  },
  {
   "cell_type": "markdown",
   "metadata": {},
   "source": [
    "For this mini project, we will focus on equities data from the Frankfurt Stock Exhange (FSE), which is available for free. We'll try and analyze the stock prices of a company called Carl Zeiss Meditec, which manufactures tools for eye examinations, as well as medical lasers for laser eye surgery: https://www.zeiss.com/meditec/int/home.html. The company is listed under the stock ticker AFX_X."
   ]
  },
  {
   "cell_type": "markdown",
   "metadata": {},
   "source": [
    "You can find the detailed Nasdaq Data API instructions here: https://docs.data.nasdaq.com/docs/in-depth-usage"
   ]
  },
  {
   "cell_type": "markdown",
   "metadata": {},
   "source": [
    "While there is a dedicated Python package for connecting to the Nasdaq API, we would prefer that you use the *requests* package, which can be easily downloaded using *pip* or *conda*. You can find the documentation for the package here: http://docs.python-requests.org/en/master/ "
   ]
  },
  {
   "cell_type": "markdown",
   "metadata": {},
   "source": [
    "Finally, apart from the *requests* package, you are encouraged to not use any third party Python packages, such as *pandas*, and instead focus on what's available in the Python Standard Library (the *collections* module might come in handy: https://pymotw.com/3/collections/).\n",
    "Also, since you won't have access to DataFrames, you are encouraged to us Python's native data structures - preferably dictionaries, though some questions can also be answered using lists.\n",
    "You can read more on these data structures here: https://docs.python.org/3/tutorial/datastructures.html"
   ]
  },
  {
   "cell_type": "markdown",
   "metadata": {},
   "source": [
    "Keep in mind that the JSON responses you will be getting from the API map almost one-to-one to Python's dictionaries. Unfortunately, they can be very nested, so make sure you read up on indexing dictionaries in the documentation provided above."
   ]
  },
  {
   "cell_type": "code",
   "execution_count": 7,
   "metadata": {},
   "outputs": [],
   "source": [
    "# First, import the relevant modules\n",
    "import requests\n",
    "from collections import defaultdict, namedtuple, Counter, deque\n",
    "import json\n",
    "import sys\n",
    "import os\n",
    "import math\n",
    "import random\n",
    "import pickle\n",
    "import urllib"
   ]
  },
  {
   "cell_type": "markdown",
   "metadata": {},
   "source": [
    "Note: API's can change a bit with each version, for this exercise it is reccomended to use the nasdaq api at `https://data.nasdaq.com/api/v3/`. This is the same api as what used to be quandl so `https://www.quandl.com/api/v3/` should work too.\n",
    "\n",
    "Hint: We are looking for the `AFX_X` data on the `datasets/FSE/` dataset."
   ]
  },
  {
   "cell_type": "code",
   "execution_count": 8,
   "metadata": {},
   "outputs": [
    {
     "name": "stdout",
     "output_type": "stream",
     "text": [
      "{\n",
      "    \"dataset_data\": {\n",
      "        \"limit\": null,\n",
      "        \"transform\": null,\n",
      "        \"column_index\": null,\n",
      "        \"column_names\": [\n",
      "            \"Date\",\n",
      "            \"Open\",\n",
      "            \"High\",\n",
      "            \"Low\",\n",
      "            \"Close\",\n",
      "            \"Change\",\n",
      "            \"Traded Volume\",\n",
      "            \"Turnover\",\n",
      "            \"Last Price of the Day\",\n",
      "            \"Daily Traded Units\",\n",
      "            \"Daily Turnover\"\n",
      "        ],\n",
      "        \"start_date\": \"2021-01-01\",\n",
      "        \"end_date\": \"2020-12-01\",\n",
      "        \"frequency\": \"daily\",\n",
      "        \"data\": [],\n",
      "        \"collapse\": null,\n",
      "        \"order\": null\n",
      "    }\n",
      "}\n"
     ]
    }
   ],
   "source": [
    "# Now, call the Nasdaq API and pull out a small sample of the data (only one day) to get a glimpse\n",
    "# into the JSON structure that will be returned\n",
    "\n",
    "# Define the endpoint URL\n",
    "url = \"https://data.nasdaq.com/api/v3/datasets/FSE/AFX_X/data.json\"\n",
    "\n",
    "# Define the parameters\n",
    "params = {\n",
    "    'start_date': '2021-01-01',\n",
    "    'end_date': '2021-01-01',\n",
    "    'api_key': API_KEY\n",
    "}\n",
    "\n",
    "# Make the API call\n",
    "response = requests.get(url, params=params)\n",
    "\n",
    "# Parse the JSON data\n",
    "data = response.json()\n",
    "\n",
    "# Print a glimpse of the data\n",
    "print(json.dumps(data, indent=4))"
   ]
  },
  {
   "cell_type": "code",
   "execution_count": 12,
   "metadata": {},
   "outputs": [
    {
     "name": "stdout",
     "output_type": "stream",
     "text": [
      "Top-level keys: dict_keys(['dataset_data'])\n"
     ]
    }
   ],
   "source": [
    "# Inspect the JSON structure of the object you created, and take note of how nested it is,\n",
    "# as well as the overall structure\n",
    "# Inspect top-level keys\n",
    "print(\"Top-level keys:\", data.keys())"
   ]
  },
  {
   "cell_type": "code",
   "execution_count": 13,
   "metadata": {},
   "outputs": [
    {
     "name": "stdout",
     "output_type": "stream",
     "text": [
      "\n",
      "Keys under 'dataset_data': dict_keys(['limit', 'transform', 'column_index', 'column_names', 'start_date', 'end_date', 'frequency', 'data', 'collapse', 'order'])\n"
     ]
    }
   ],
   "source": [
    "# Inspect 'dataset_data' structure since it seems to be the main container for the data\n",
    "print(\"\\nKeys under 'dataset_data':\", data['dataset_data'].keys())"
   ]
  },
  {
   "cell_type": "code",
   "execution_count": 14,
   "metadata": {},
   "outputs": [
    {
     "name": "stdout",
     "output_type": "stream",
     "text": [
      "\n",
      "Column Names: ['Date', 'Open', 'High', 'Low', 'Close', 'Change', 'Traded Volume', 'Turnover', 'Last Price of the Day', 'Daily Traded Units', 'Daily Turnover']\n"
     ]
    }
   ],
   "source": [
    "# Print the 'column_names' to understand the kind of data we're working with\n",
    "print(\"\\nColumn Names:\", data['dataset_data']['column_names'])"
   ]
  },
  {
   "cell_type": "code",
   "execution_count": 16,
   "metadata": {},
   "outputs": [
    {
     "name": "stdout",
     "output_type": "stream",
     "text": [
      "Key: dataset_data\n",
      "  Key: limit\n",
      "    Value: None\n",
      "  Key: transform\n",
      "    Value: None\n",
      "  Key: column_index\n",
      "    Value: None\n",
      "  Key: column_names\n",
      "    List of length 11\n",
      "      Value: Date\n",
      "  Key: start_date\n",
      "    Value: 2021-01-01\n",
      "  Key: end_date\n",
      "    Value: 2020-12-01\n",
      "  Key: frequency\n",
      "    Value: daily\n",
      "  Key: data\n",
      "    List of length 0\n",
      "  Key: collapse\n",
      "    Value: None\n",
      "  Key: order\n",
      "    Value: None\n"
     ]
    }
   ],
   "source": [
    "def explore_structure(data, indent=0):\n",
    "    \"\"\"Recursively explore the structure of a dictionary.\"\"\"\n",
    "    \n",
    "    # Check if the input is a dictionary\n",
    "    if isinstance(data, dict):\n",
    "        for key, value in data.items():\n",
    "            print('  ' * indent + f'Key: {key}')\n",
    "            explore_structure(value, indent+1)\n",
    "    # Check if the input is a list\n",
    "    elif isinstance(data, list):\n",
    "        print('  ' * indent + f'List of length {len(data)}')\n",
    "        # To avoid extensive printing, we can explore the structure of just the first item\n",
    "        if data:\n",
    "            explore_structure(data[0], indent+1)\n",
    "    else:\n",
    "        print('  ' * indent + f'Value: {data}')\n",
    "\n",
    "# Use the function to explore the structure of our data\n",
    "explore_structure(data)"
   ]
  },
  {
   "cell_type": "markdown",
   "metadata": {},
   "source": [
    "These are your tasks for this mini project:\n",
    "\n",
    "1. Collect data from the Franfurt Stock Exchange, for the ticker AFX_X, for the whole year 2017 (keep in mind that the date format is YYYY-MM-DD).\n",
    "2. Convert the returned JSON object into a Python dictionary.\n",
    "3. Calculate what the highest and lowest opening prices were for the stock in this period.\n",
    "4. What was the largest change in any one day (based on High and Low price)?\n",
    "5. What was the largest change between any two days (based on Closing Price)?\n",
    "6. What was the average daily trading volume during this year?\n",
    "7. (Optional) What was the median trading volume during this year. (Note: you may need to implement your own function for calculating the median.)"
   ]
  },
  {
   "cell_type": "code",
   "execution_count": 17,
   "metadata": {},
   "outputs": [
    {
     "name": "stdout",
     "output_type": "stream",
     "text": [
      "Data successfully fetched!\n"
     ]
    }
   ],
   "source": [
    "# Define the endpoint URL\n",
    "url = \"https://data.nasdaq.com/api/v3/datasets/FSE/AFX_X/data.json\"\n",
    "\n",
    "# Define the parameters: start and end date for the year 2017\n",
    "params = {\n",
    "    'start_date': '2017-01-01',\n",
    "    'end_date': '2017-12-31',\n",
    "    'api_key': API_KEY\n",
    "}\n",
    "\n",
    "# Make the API request\n",
    "response = requests.get(url, params=params)\n",
    "\n",
    "# Ensure the request was successful\n",
    "if response.status_code == 200:\n",
    "    # Convert the response to JSON\n",
    "    data_2017 = response.json()\n",
    "    print(\"Data successfully fetched!\")\n",
    "else:\n",
    "    print(f\"Failed to retrieve data. Status code: {response.status_code}\")\n"
   ]
  },
  {
   "cell_type": "code",
   "execution_count": 20,
   "metadata": {},
   "outputs": [
    {
     "name": "stdout",
     "output_type": "stream",
     "text": [
      "dict_keys(['limit', 'transform', 'column_index', 'column_names', 'start_date', 'end_date', 'frequency', 'data', 'collapse', 'order'])\n"
     ]
    }
   ],
   "source": [
    "# Extract the dataset from the JSON response\n",
    "afx_2017_data = data_2017['dataset_data']\n",
    "\n",
    "# Print the keys of the dictionary to see its structure\n",
    "print(afx_2017_data.keys())"
   ]
  },
  {
   "cell_type": "code",
   "execution_count": 21,
   "metadata": {},
   "outputs": [
    {
     "name": "stdout",
     "output_type": "stream",
     "text": [
      "[['2017-12-29', 51.76, 51.94, 51.45, 51.76, None, 34640.0, 1792304.0, None, None, None], ['2017-12-28', 51.65, 51.82, 51.43, 51.6, None, 40660.0, 2099024.0, None, None, None], ['2017-12-27', 51.45, 51.89, 50.76, 51.82, None, 57452.0, 2957018.0, None, None, None], ['2017-12-22', 51.05, 51.5, 50.92, 51.32, None, 71165.0, 3641949.0, None, None, None], ['2017-12-21', 51.16, 51.52, 50.9, 51.4, None, 120649.0, 6179433.0, None, None, None]]\n"
     ]
    }
   ],
   "source": [
    "# Optionally, if we want to see the first few records of the data:\n",
    "print(afx_2017_data['data'][:5])  # This will print the first 5 data records"
   ]
  },
  {
   "cell_type": "code",
   "execution_count": 22,
   "metadata": {},
   "outputs": [
    {
     "name": "stdout",
     "output_type": "stream",
     "text": [
      "Highest opening price in 2017: 53.11\n",
      "Lowest opening price in 2017: 34.0\n"
     ]
    }
   ],
   "source": [
    "# Extract the column names and find the index of the 'Open' prices\n",
    "column_names = afx_2017_data['column_names']\n",
    "open_index = column_names.index('Open')\n",
    "\n",
    "# Extract the data and get all opening prices, excluding any missing values (None)\n",
    "opening_prices = [daily_data[open_index] for daily_data in afx_2017_data['data'] if daily_data[open_index] is not None]\n",
    "\n",
    "# Find the highest and lowest opening prices\n",
    "highest_opening = max(opening_prices)\n",
    "lowest_opening = min(opening_prices)\n",
    "\n",
    "print(f\"Highest opening price in 2017: {highest_opening}\")\n",
    "print(f\"Lowest opening price in 2017: {lowest_opening}\")\n"
   ]
  },
  {
   "cell_type": "code",
   "execution_count": 23,
   "metadata": {},
   "outputs": [
    {
     "name": "stdout",
     "output_type": "stream",
     "text": [
      "Largest change in any one day in 2017: 2.81\n"
     ]
    }
   ],
   "source": [
    "# Identify the positions of the 'High' and 'Low' prices in the column names\n",
    "high_index = column_names.index('High')\n",
    "low_index = column_names.index('Low')\n",
    "\n",
    "# Calculate the daily differences (High - Low) and find the maximum difference\n",
    "daily_differences = [(daily_data[high_index] - daily_data[low_index]) for daily_data in afx_2017_data['data']]\n",
    "largest_change = max(daily_differences)\n",
    "\n",
    "print(f\"Largest change in any one day in 2017: {largest_change:.2f}\")"
   ]
  },
  {
   "cell_type": "code",
   "execution_count": 24,
   "metadata": {},
   "outputs": [
    {
     "name": "stdout",
     "output_type": "stream",
     "text": [
      "Largest change between any two days based on Closing Price in 2017: 2.56\n"
     ]
    }
   ],
   "source": [
    "# Identify the position of the 'Close' price in the column names\n",
    "close_index = column_names.index('Close')\n",
    "\n",
    "# Extract closing prices from the data\n",
    "closing_prices = [daily_data[close_index] for daily_data in afx_2017_data['data']]\n",
    "\n",
    "# Calculate the absolute differences between consecutive days\n",
    "daily_changes = [abs(closing_prices[i+1] - closing_prices[i]) for i in range(len(closing_prices)-1)]\n",
    "\n",
    "# Get the maximum difference\n",
    "largest_two_day_change = max(daily_changes)\n",
    "\n",
    "print(f\"Largest change between any two days based on Closing Price in 2017: {largest_two_day_change:.2f}\")\n"
   ]
  },
  {
   "cell_type": "code",
   "execution_count": 25,
   "metadata": {},
   "outputs": [
    {
     "name": "stdout",
     "output_type": "stream",
     "text": [
      "Average daily trading volume in 2017: 89124.34\n"
     ]
    }
   ],
   "source": [
    "# Identify the position of the 'Traded Volume' in the column names\n",
    "volume_index = column_names.index('Traded Volume')\n",
    "\n",
    "# Extract trading volumes from the data\n",
    "daily_volumes = [daily_data[volume_index] for daily_data in afx_2017_data['data']]\n",
    "\n",
    "# Calculate the average trading volume\n",
    "average_volume = sum(daily_volumes) / len(daily_volumes)\n",
    "\n",
    "print(f\"Average daily trading volume in 2017: {average_volume:.2f}\")\n"
   ]
  },
  {
   "cell_type": "code",
   "execution_count": 26,
   "metadata": {},
   "outputs": [
    {
     "name": "stdout",
     "output_type": "stream",
     "text": [
      "Median trading volume in 2017: 76286.00\n"
     ]
    }
   ],
   "source": [
    "def median(lst):\n",
    "    \"\"\"Calculate the median of a list.\"\"\"\n",
    "    sorted_lst = sorted(lst)\n",
    "    lst_len = len(sorted_lst)\n",
    "    \n",
    "    # Check if the list has an odd number of elements\n",
    "    if lst_len % 2 == 1:\n",
    "        return sorted_lst[lst_len // 2]\n",
    "    else:\n",
    "        left_mid = sorted_lst[(lst_len - 1) // 2]\n",
    "        right_mid = sorted_lst[lst_len // 2]\n",
    "        return (left_mid + right_mid) / 2\n",
    "\n",
    "# Using the daily_volumes list we created in the previous task:\n",
    "median_volume = median(daily_volumes)\n",
    "\n",
    "print(f\"Median trading volume in 2017: {median_volume:.2f}\")"
   ]
  },
  {
   "cell_type": "code",
   "execution_count": null,
   "metadata": {},
   "outputs": [],
   "source": []
  }
 ],
 "metadata": {
  "interpreter": {
   "hash": "7635eb1b9d0fe97add78a7368b6b431c09bb8ad5c42e437d64abdd99821c31ae"
  },
  "kernelspec": {
   "display_name": "Python 3 (ipykernel)",
   "language": "python",
   "name": "python3"
  },
  "language_info": {
   "codemirror_mode": {
    "name": "ipython",
    "version": 3
   },
   "file_extension": ".py",
   "mimetype": "text/x-python",
   "name": "python",
   "nbconvert_exporter": "python",
   "pygments_lexer": "ipython3",
   "version": "3.9.12"
  }
 },
 "nbformat": 4,
 "nbformat_minor": 4
}
