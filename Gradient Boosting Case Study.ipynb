{
 "cells": [
  {
   "cell_type": "code",
   "execution_count": 1,
   "metadata": {
    "colab": {},
    "colab_type": "code",
    "id": "DX307zY7Rz8L"
   },
   "outputs": [],
   "source": [
    "import pandas as pd\n",
    "import numpy as np\n",
    "import scipy\n",
    "import matplotlib.pyplot as plt\n",
    "from sklearn import tree\n",
    "from IPython.display import Image\n",
    "%matplotlib inline\n",
    "from sklearn import preprocessing\n",
    "from sklearn.ensemble import GradientBoostingClassifier\n",
    "from sklearn.metrics import classification_report, confusion_matrix, roc_curve, auc"
   ]
  },
  {
   "cell_type": "markdown",
   "metadata": {
    "colab_type": "text",
    "id": "IXO1tobzRz8R",
    "run_control": {
     "frozen": false,
     "read_only": false
    }
   },
   "source": [
    "### Gradient boosting\n",
    "\n",
    "You may recall that we last encountered gradients when discussing the gradient descent algorithm in the context of fitting linear regression models.  For a particular regression model with n parameters, an n+1 dimensional space existed defined by all the parameters plus the cost/loss function to minimize.  The combination of parameters and loss function define a surface within the space.  The regression model is fitted by moving down the steepest 'downhill' gradient until we reach the lowest point of the surface, where all possible gradients are 'uphill.'  The final model is made up of the parameter estimates that define that location on the surface.\n",
    "\n",
    "Throughout all iterations of the gradient descent algorithm for linear regression, one thing remains constant: The underlying data used to estimate the parameters and calculate the loss function never changes.  In gradient boosting, however, the underlying data do change.  \n",
    "\n",
    "Each time we run a decision tree, we extract the residuals.  Then we run a new decision tree, using those residuals as the outcome to be predicted.  After reaching a stopping point, we add together the predicted values from all of the decision trees to create the final gradient boosted prediction.\n",
    "\n",
    "Gradient boosting can work on any combination of loss function and model type, as long as we can calculate the derivatives of the loss function with respect to the model parameters.  Most often, however, gradient boosting uses decision trees, and minimizes either the  residual (regression trees) or the negative log-likelihood (classification trees).  \n",
    "\n",
    "Let’s go through a simple regression example using Decision Trees as the base predictors (of course Gradient Boosting also works great with regression tasks). This is called Gradient Tree Boosting, or Gradient Boosted Regression Trees. First, let’s fit a `DecisionTreeRegressor` to the training set."
   ]
  },
  {
   "cell_type": "code",
   "execution_count": 2,
   "metadata": {
    "colab": {},
    "colab_type": "code",
    "id": "gGreKgygRz8R"
   },
   "outputs": [],
   "source": [
    "np.random.seed(42)\n",
    "X = np.random.rand(100, 1) - 0.5\n",
    "y = 3*X[:, 0]**2 + 0.05 * np.random.randn(100)"
   ]
  },
  {
   "cell_type": "code",
   "execution_count": 3,
   "metadata": {
    "colab": {},
    "colab_type": "code",
    "id": "a48uXlSBRz8U",
    "outputId": "f077e2e2-ca97-4aae-987a-176736cc6f1f"
   },
   "outputs": [
    {
     "data": {
      "text/plain": [
       "DecisionTreeRegressor(max_depth=2, random_state=42)"
      ]
     },
     "execution_count": 3,
     "metadata": {},
     "output_type": "execute_result"
    }
   ],
   "source": [
    "from sklearn.tree import DecisionTreeRegressor\n",
    "\n",
    "tree_reg1 = DecisionTreeRegressor(max_depth=2, random_state=42)\n",
    "tree_reg1.fit(X, y)"
   ]
  },
  {
   "cell_type": "markdown",
   "metadata": {
    "colab_type": "text",
    "id": "W3ao2m6RRz8Z"
   },
   "source": [
    "Now train a second `DecisionTreeRegressor` on the residual errors made by the first predictor:"
   ]
  },
  {
   "cell_type": "code",
   "execution_count": 4,
   "metadata": {
    "colab": {},
    "colab_type": "code",
    "id": "j_wMy80MRz8Z",
    "outputId": "41e4143a-5dad-40e7-b816-b08ff7a39799"
   },
   "outputs": [
    {
     "data": {
      "text/plain": [
       "DecisionTreeRegressor(max_depth=2, random_state=42)"
      ]
     },
     "execution_count": 4,
     "metadata": {},
     "output_type": "execute_result"
    }
   ],
   "source": [
    "y2 = y - tree_reg1.predict(X)\n",
    "tree_reg2 = DecisionTreeRegressor(max_depth=2, random_state=42)\n",
    "tree_reg2.fit(X, y2)"
   ]
  },
  {
   "cell_type": "markdown",
   "metadata": {
    "colab_type": "text",
    "id": "T7iraM6-Rz8c"
   },
   "source": [
    "Then we train a third regressor on the residual errors made by the second predictor:\n",
    "\n"
   ]
  },
  {
   "cell_type": "code",
   "execution_count": 5,
   "metadata": {
    "colab": {},
    "colab_type": "code",
    "id": "luWV0lZGRz8c",
    "outputId": "53ef51ac-8293-4c24-b403-853320cdd4a7"
   },
   "outputs": [
    {
     "data": {
      "text/plain": [
       "DecisionTreeRegressor(max_depth=2, random_state=42)"
      ]
     },
     "execution_count": 5,
     "metadata": {},
     "output_type": "execute_result"
    }
   ],
   "source": [
    "y3 = y2 - tree_reg2.predict(X)\n",
    "tree_reg3 = DecisionTreeRegressor(max_depth=2, random_state=42)\n",
    "tree_reg3.fit(X, y3)"
   ]
  },
  {
   "cell_type": "markdown",
   "metadata": {
    "colab_type": "text",
    "id": "hNqDI9AcRz8g"
   },
   "source": [
    "Now we have an ensemble containing three trees. It can make predictions on a new instance simply by adding up the predictions of all the trees:"
   ]
  },
  {
   "cell_type": "code",
   "execution_count": 6,
   "metadata": {
    "colab": {},
    "colab_type": "code",
    "id": "5UxW0hN1Rz8g"
   },
   "outputs": [],
   "source": [
    "X_new = np.array([[0.8]])"
   ]
  },
  {
   "cell_type": "code",
   "execution_count": 7,
   "metadata": {
    "colab": {},
    "colab_type": "code",
    "id": "2O_e-UpZRz8j"
   },
   "outputs": [],
   "source": [
    "y_pred = sum(tree.predict(X_new) for tree in (tree_reg1, tree_reg2, tree_reg3))"
   ]
  },
  {
   "cell_type": "code",
   "execution_count": 8,
   "metadata": {
    "colab": {},
    "colab_type": "code",
    "id": "TKw9-uOJRz8m",
    "outputId": "2d615aee-f854-489a-e517-d8fbc7d1ea48"
   },
   "outputs": [
    {
     "data": {
      "text/plain": [
       "array([0.75026781])"
      ]
     },
     "execution_count": 8,
     "metadata": {},
     "output_type": "execute_result"
    }
   ],
   "source": [
    "y_pred"
   ]
  },
  {
   "cell_type": "markdown",
   "metadata": {
    "colab_type": "text",
    "id": "PlbPjAa1Rz8o"
   },
   "source": [
    "The figure below represents the predictions of these three trees in the left column, and the ensemble’s predictions in the right column. In the first row, the ensemble has just one tree, so its predictions are exactly the same as the first tree’s predictions. In the second row, a new tree is trained on the residual errors of the first tree. On the right you can see that the ensemble’s predictions are equal to the sum of the predictions of the first two trees. Similarly, in the third row another tree is trained on the residual errors of the second tree. You can see that the ensemble’s predictions gradually get better as trees are added to the ensemble."
   ]
  },
  {
   "cell_type": "markdown",
   "metadata": {
    "colab_type": "text",
    "id": "WRMKci30Rz8p",
    "tags": []
   },
   "source": [
    "**<font color='teal'>Run the below cell to develop a visual representation.</font>**"
   ]
  },
  {
   "cell_type": "code",
   "execution_count": 9,
   "metadata": {
    "colab": {},
    "colab_type": "code",
    "id": "gbuQDXNWRz8p",
    "outputId": "62b85e30-cc06-4585-bd8f-860924249c53",
    "tags": []
   },
   "outputs": [
    {
     "data": {
      "image/png": "[encoded data removed]",
      "text/plain": [
       "<Figure size 792x792 with 6 Axes>"
      ]
     },
     "metadata": {
      "needs_background": "light"
     },
     "output_type": "display_data"
    }
   ],
   "source": [
    "def plot_predictions(regressors, X, y, axes, label=None, style=\"r-\", data_style=\"b.\", data_label=None):\n",
    "    x1 = np.linspace(axes[0], axes[1], 500)\n",
    "    y_pred = sum(regressor.predict(x1.reshape(-1, 1)) for regressor in regressors)\n",
    "    plt.plot(X[:, 0], y, data_style, label=data_label)\n",
    "    plt.plot(x1, y_pred, style, linewidth=2, label=label)\n",
    "    if label or data_label:\n",
    "        plt.legend(loc=\"upper center\", fontsize=16)\n",
    "    plt.axis(axes)\n",
    "\n",
    "plt.figure(figsize=(11,11))\n",
    "\n",
    "plt.subplot(321)\n",
    "plot_predictions([tree_reg1], X, y, axes=[-0.5, 0.5, -0.1, 0.8], label=\"$h_1(x_1)$\", style=\"g-\", data_label=\"Training set\")\n",
    "plt.ylabel(\"$y$\", fontsize=16, rotation=0)\n",
    "plt.title(\"Residuals and tree predictions\", fontsize=16)\n",
    "\n",
    "plt.subplot(322)\n",
    "plot_predictions([tree_reg1], X, y, axes=[-0.5, 0.5, -0.1, 0.8], label=\"$h(x_1) = h_1(x_1)$\", data_label=\"Training set\")\n",
    "plt.ylabel(\"$y$\", fontsize=16, rotation=0)\n",
    "plt.title(\"Ensemble predictions\", fontsize=16)\n",
    "\n",
    "plt.subplot(323)\n",
    "plot_predictions([tree_reg2], X, y2, axes=[-0.5, 0.5, -0.5, 0.5], label=\"$h_2(x_1)$\", style=\"g-\", data_style=\"k+\", data_label=\"Residuals\")\n",
    "plt.ylabel(\"$y - h_1(x_1)$\", fontsize=16)\n",
    "\n",
    "plt.subplot(324)\n",
    "plot_predictions([tree_reg1, tree_reg2], X, y, axes=[-0.5, 0.5, -0.1, 0.8], label=\"$h(x_1) = h_1(x_1) + h_2(x_1)$\")\n",
    "plt.ylabel(\"$y$\", fontsize=16, rotation=0)\n",
    "\n",
    "plt.subplot(325)\n",
    "plot_predictions([tree_reg3], X, y3, axes=[-0.5, 0.5, -0.5, 0.5], label=\"$h_3(x_1)$\", style=\"g-\", data_style=\"k+\")\n",
    "plt.ylabel(\"$y - h_1(x_1) - h_2(x_1)$\", fontsize=16)\n",
    "plt.xlabel(\"$x_1$\", fontsize=16)\n",
    "\n",
    "plt.subplot(326)\n",
    "plot_predictions([tree_reg1, tree_reg2, tree_reg3], X, y, axes=[-0.5, 0.5, -0.1, 0.8], label=\"$h(x_1) = h_1(x_1) + h_2(x_1) + h_3(x_1)$\")\n",
    "plt.xlabel(\"$x_1$\", fontsize=16)\n",
    "plt.ylabel(\"$y$\", fontsize=16, rotation=0)\n",
    "\n",
    "#save_fig(\"gradient_boosting_plot\")\n",
    "plt.show()"
   ]
  },
  {
   "cell_type": "markdown",
   "metadata": {
    "colab_type": "text",
    "id": "9dsMW-TCRz8s"
   },
   "source": [
    "Now that you have solid understanding of Gradient Boosting in the regression scenario, let's apply the same algorithm to a classification problem. Specifically, the Titanic dataset and predicting survival."
   ]
  },
  {
   "cell_type": "markdown",
   "metadata": {
    "colab_type": "text",
    "id": "oaIC-pukRz8s",
    "tags": []
   },
   "source": [
    "**<font color='teal'>Use pandas read csv to load in the Titantic data set into a dataframe called df.</font>**\n",
    "\n",
    "Hint: in this case you can use [dropna()](https://pandas.pydata.org/pandas-docs/stable/reference/api/pandas.DataFrame.dropna.html) to just throw away any incomplete rows. For the purpose of this exercise we will disregard them but obviously in the real world you need to be much more careful and decide how to handle incomplete observations. "
   ]
  },
  {
   "cell_type": "code",
   "execution_count": 10,
   "metadata": {
    "colab": {},
    "colab_type": "code",
    "id": "2MG_oc_cRz8s"
   },
   "outputs": [
    {
     "data": {
      "text/html": [
       "<div>\n",
       "<style scoped>\n",
       "    .dataframe tbody tr th:only-of-type {\n",
       "        vertical-align: middle;\n",
       "    }\n",
       "\n",
       "    .dataframe tbody tr th {\n",
       "        vertical-align: top;\n",
       "    }\n",
       "\n",
       "    .dataframe thead th {\n",
       "        text-align: right;\n",
       "    }\n",
       "</style>\n",
       "<table border=\"1\" class=\"dataframe\">\n",
       "  <thead>\n",
       "    <tr style=\"text-align: right;\">\n",
       "      <th></th>\n",
       "      <th>PassengerId</th>\n",
       "      <th>Survived</th>\n",
       "      <th>Pclass</th>\n",
       "      <th>Name</th>\n",
       "      <th>Sex</th>\n",
       "      <th>Age</th>\n",
       "      <th>SibSp</th>\n",
       "      <th>Parch</th>\n",
       "      <th>Ticket</th>\n",
       "      <th>Fare</th>\n",
       "      <th>Cabin</th>\n",
       "      <th>Embarked</th>\n",
       "    </tr>\n",
       "  </thead>\n",
       "  <tbody>\n",
       "    <tr>\n",
       "      <th>0</th>\n",
       "      <td>1</td>\n",
       "      <td>0</td>\n",
       "      <td>3</td>\n",
       "      <td>Braund, Mr. Owen Harris</td>\n",
       "      <td>male</td>\n",
       "      <td>22.0</td>\n",
       "      <td>1</td>\n",
       "      <td>0</td>\n",
       "      <td>A/5 21171</td>\n",
       "      <td>7.2500</td>\n",
       "      <td>NaN</td>\n",
       "      <td>S</td>\n",
       "    </tr>\n",
       "    <tr>\n",
       "      <th>1</th>\n",
       "      <td>2</td>\n",
       "      <td>1</td>\n",
       "      <td>1</td>\n",
       "      <td>Cumings, Mrs. John Bradley (Florence Briggs Th...</td>\n",
       "      <td>female</td>\n",
       "      <td>38.0</td>\n",
       "      <td>1</td>\n",
       "      <td>0</td>\n",
       "      <td>PC 17599</td>\n",
       "      <td>71.2833</td>\n",
       "      <td>C85</td>\n",
       "      <td>C</td>\n",
       "    </tr>\n",
       "    <tr>\n",
       "      <th>2</th>\n",
       "      <td>3</td>\n",
       "      <td>1</td>\n",
       "      <td>3</td>\n",
       "      <td>Heikkinen, Miss. Laina</td>\n",
       "      <td>female</td>\n",
       "      <td>26.0</td>\n",
       "      <td>0</td>\n",
       "      <td>0</td>\n",
       "      <td>STON/O2. 3101282</td>\n",
       "      <td>7.9250</td>\n",
       "      <td>NaN</td>\n",
       "      <td>S</td>\n",
       "    </tr>\n",
       "    <tr>\n",
       "      <th>3</th>\n",
       "      <td>4</td>\n",
       "      <td>1</td>\n",
       "      <td>1</td>\n",
       "      <td>Futrelle, Mrs. Jacques Heath (Lily May Peel)</td>\n",
       "      <td>female</td>\n",
       "      <td>35.0</td>\n",
       "      <td>1</td>\n",
       "      <td>0</td>\n",
       "      <td>113803</td>\n",
       "      <td>53.1000</td>\n",
       "      <td>C123</td>\n",
       "      <td>S</td>\n",
       "    </tr>\n",
       "    <tr>\n",
       "      <th>4</th>\n",
       "      <td>5</td>\n",
       "      <td>0</td>\n",
       "      <td>3</td>\n",
       "      <td>Allen, Mr. William Henry</td>\n",
       "      <td>male</td>\n",
       "      <td>35.0</td>\n",
       "      <td>0</td>\n",
       "      <td>0</td>\n",
       "      <td>373450</td>\n",
       "      <td>8.0500</td>\n",
       "      <td>NaN</td>\n",
       "      <td>S</td>\n",
       "    </tr>\n",
       "  </tbody>\n",
       "</table>\n",
       "</div>"
      ],
      "text/plain": [
       "   PassengerId  Survived  Pclass  \\\n",
       "0            1         0       3   \n",
       "1            2         1       1   \n",
       "2            3         1       3   \n",
       "3            4         1       1   \n",
       "4            5         0       3   \n",
       "\n",
       "                                                Name     Sex   Age  SibSp  \\\n",
       "0                            Braund, Mr. Owen Harris    male  22.0      1   \n",
       "1  Cumings, Mrs. John Bradley (Florence Briggs Th...  female  38.0      1   \n",
       "2                             Heikkinen, Miss. Laina  female  26.0      0   \n",
       "3       Futrelle, Mrs. Jacques Heath (Lily May Peel)  female  35.0      1   \n",
       "4                           Allen, Mr. William Henry    male  35.0      0   \n",
       "\n",
       "   Parch            Ticket     Fare Cabin Embarked  \n",
       "0      0         A/5 21171   7.2500   NaN        S  \n",
       "1      0          PC 17599  71.2833   C85        C  \n",
       "2      0  STON/O2. 3101282   7.9250   NaN        S  \n",
       "3      0            113803  53.1000  C123        S  \n",
       "4      0            373450   8.0500   NaN        S  "
      ]
     },
     "execution_count": 10,
     "metadata": {},
     "output_type": "execute_result"
    }
   ],
   "source": [
    "df = pd.read_csv('/Users/arka_bagchi/Desktop/Springboard/Gradient_Boosting_Case_Study/titanic.csv')\n",
    "df.head()"
   ]
  },
  {
   "cell_type": "markdown",
   "metadata": {
    "colab_type": "text",
    "id": "zLvRIfuSRz8w",
    "tags": []
   },
   "source": [
    "**<font color='teal'>Print the levels of the categorical data using 'select_dtypes'. </font>**"
   ]
  },
  {
   "cell_type": "code",
   "execution_count": 11,
   "metadata": {
    "colab": {},
    "colab_type": "code",
    "id": "RmwDwRljRz8x"
   },
   "outputs": [
    {
     "data": {
      "text/plain": [
       "{'Name': array(['Braund, Mr. Owen Harris',\n",
       "        'Cumings, Mrs. John Bradley (Florence Briggs Thayer)',\n",
       "        'Heikkinen, Miss. Laina',\n",
       "        'Futrelle, Mrs. Jacques Heath (Lily May Peel)',\n",
       "        'Allen, Mr. William Henry', 'Moran, Mr. James',\n",
       "        'McCarthy, Mr. Timothy J', 'Palsson, Master. Gosta Leonard',\n",
       "        'Johnson, Mrs. Oscar W (Elisabeth Vilhelmina Berg)',\n",
       "        'Nasser, Mrs. Nicholas (Adele Achem)',\n",
       "        'Sandstrom, Miss. Marguerite Rut', 'Bonnell, Miss. Elizabeth',\n",
       "        'Saundercock, Mr. William Henry', 'Andersson, Mr. Anders Johan',\n",
       "        'Vestrom, Miss. Hulda Amanda Adolfina',\n",
       "        'Hewlett, Mrs. (Mary D Kingcome) ', 'Rice, Master. Eugene',\n",
       "        'Williams, Mr. Charles Eugene',\n",
       "        'Vander Planke, Mrs. Julius (Emelia Maria Vandemoortele)',\n",
       "        'Masselmani, Mrs. Fatima', 'Fynney, Mr. Joseph J',\n",
       "        'Beesley, Mr. Lawrence', 'McGowan, Miss. Anna \"Annie\"',\n",
       "        'Sloper, Mr. William Thompson', 'Palsson, Miss. Torborg Danira',\n",
       "        'Asplund, Mrs. Carl Oscar (Selma Augusta Emilia Johansson)',\n",
       "        'Emir, Mr. Farred Chehab', 'Fortune, Mr. Charles Alexander',\n",
       "        'O\\'Dwyer, Miss. Ellen \"Nellie\"', 'Todoroff, Mr. Lalio',\n",
       "        'Uruchurtu, Don. Manuel E',\n",
       "        'Spencer, Mrs. William Augustus (Marie Eugenie)',\n",
       "        'Glynn, Miss. Mary Agatha', 'Wheadon, Mr. Edward H',\n",
       "        'Meyer, Mr. Edgar Joseph', 'Holverson, Mr. Alexander Oskar',\n",
       "        'Mamee, Mr. Hanna', 'Cann, Mr. Ernest Charles',\n",
       "        'Vander Planke, Miss. Augusta Maria',\n",
       "        'Nicola-Yarred, Miss. Jamila',\n",
       "        'Ahlin, Mrs. Johan (Johanna Persdotter Larsson)',\n",
       "        'Turpin, Mrs. William John Robert (Dorothy Ann Wonnacott)',\n",
       "        'Kraeff, Mr. Theodor', 'Laroche, Miss. Simonne Marie Anne Andree',\n",
       "        'Devaney, Miss. Margaret Delia', 'Rogers, Mr. William John',\n",
       "        'Lennon, Mr. Denis', \"O'Driscoll, Miss. Bridget\",\n",
       "        'Samaan, Mr. Youssef',\n",
       "        'Arnold-Franchi, Mrs. Josef (Josefine Franchi)',\n",
       "        'Panula, Master. Juha Niilo', 'Nosworthy, Mr. Richard Cater',\n",
       "        'Harper, Mrs. Henry Sleeper (Myna Haxtun)',\n",
       "        'Faunthorpe, Mrs. Lizzie (Elizabeth Anne Wilkinson)',\n",
       "        'Ostby, Mr. Engelhart Cornelius', 'Woolner, Mr. Hugh',\n",
       "        'Rugg, Miss. Emily', 'Novel, Mr. Mansouer',\n",
       "        'West, Miss. Constance Mirium',\n",
       "        'Goodwin, Master. William Frederick', 'Sirayanian, Mr. Orsen',\n",
       "        'Icard, Miss. Amelie', 'Harris, Mr. Henry Birkhardt',\n",
       "        'Skoog, Master. Harald', 'Stewart, Mr. Albert A',\n",
       "        'Moubarek, Master. Gerios', 'Nye, Mrs. (Elizabeth Ramell)',\n",
       "        'Crease, Mr. Ernest James', 'Andersson, Miss. Erna Alexandra',\n",
       "        'Kink, Mr. Vincenz', 'Jenkin, Mr. Stephen Curnow',\n",
       "        'Goodwin, Miss. Lillian Amy', 'Hood, Mr. Ambrose Jr',\n",
       "        'Chronopoulos, Mr. Apostolos', 'Bing, Mr. Lee',\n",
       "        'Moen, Mr. Sigurd Hansen', 'Staneff, Mr. Ivan',\n",
       "        'Moutal, Mr. Rahamin Haim', 'Caldwell, Master. Alden Gates',\n",
       "        'Dowdell, Miss. Elizabeth', 'Waelens, Mr. Achille',\n",
       "        'Sheerlinck, Mr. Jan Baptist', 'McDermott, Miss. Brigdet Delia',\n",
       "        'Carrau, Mr. Francisco M', 'Ilett, Miss. Bertha',\n",
       "        'Backstrom, Mrs. Karl Alfred (Maria Mathilda Gustafsson)',\n",
       "        'Ford, Mr. William Neal', 'Slocovski, Mr. Selman Francis',\n",
       "        'Fortune, Miss. Mabel Helen', 'Celotti, Mr. Francesco',\n",
       "        'Christmann, Mr. Emil', 'Andreasson, Mr. Paul Edvin',\n",
       "        'Chaffee, Mr. Herbert Fuller', 'Dean, Mr. Bertram Frank',\n",
       "        'Coxon, Mr. Daniel', 'Shorney, Mr. Charles Joseph',\n",
       "        'Goldschmidt, Mr. George B', 'Greenfield, Mr. William Bertram',\n",
       "        'Doling, Mrs. John T (Ada Julia Bone)', 'Kantor, Mr. Sinai',\n",
       "        'Petranec, Miss. Matilda', 'Petroff, Mr. Pastcho (\"Pentcho\")',\n",
       "        'White, Mr. Richard Frasar', 'Johansson, Mr. Gustaf Joel',\n",
       "        'Gustafsson, Mr. Anders Vilhelm', 'Mionoff, Mr. Stoytcho',\n",
       "        'Salkjelsvik, Miss. Anna Kristine', 'Moss, Mr. Albert Johan',\n",
       "        'Rekic, Mr. Tido', 'Moran, Miss. Bertha',\n",
       "        'Porter, Mr. Walter Chamberlain', 'Zabour, Miss. Hileni',\n",
       "        'Barton, Mr. David John', 'Jussila, Miss. Katriina',\n",
       "        'Attalah, Miss. Malake', 'Pekoniemi, Mr. Edvard',\n",
       "        'Connors, Mr. Patrick', 'Turpin, Mr. William John Robert',\n",
       "        'Baxter, Mr. Quigg Edmond', 'Andersson, Miss. Ellis Anna Maria',\n",
       "        'Hickman, Mr. Stanley George', 'Moore, Mr. Leonard Charles',\n",
       "        'Nasser, Mr. Nicholas', 'Webber, Miss. Susan',\n",
       "        'White, Mr. Percival Wayland', 'Nicola-Yarred, Master. Elias',\n",
       "        'McMahon, Mr. Martin', 'Madsen, Mr. Fridtjof Arne',\n",
       "        'Peter, Miss. Anna', 'Ekstrom, Mr. Johan', 'Drazenoic, Mr. Jozef',\n",
       "        'Coelho, Mr. Domingos Fernandeo',\n",
       "        'Robins, Mrs. Alexander A (Grace Charity Laury)',\n",
       "        'Weisz, Mrs. Leopold (Mathilde Francoise Pede)',\n",
       "        'Sobey, Mr. Samuel James Hayden', 'Richard, Mr. Emile',\n",
       "        'Newsom, Miss. Helen Monypeny', 'Futrelle, Mr. Jacques Heath',\n",
       "        'Osen, Mr. Olaf Elon', 'Giglio, Mr. Victor',\n",
       "        'Boulos, Mrs. Joseph (Sultana)', 'Nysten, Miss. Anna Sofia',\n",
       "        'Hakkarainen, Mrs. Pekka Pietari (Elin Matilda Dolck)',\n",
       "        'Burke, Mr. Jeremiah', 'Andrew, Mr. Edgardo Samuel',\n",
       "        'Nicholls, Mr. Joseph Charles',\n",
       "        'Andersson, Mr. August Edvard (\"Wennerstrom\")',\n",
       "        'Ford, Miss. Robina Maggie \"Ruby\"',\n",
       "        'Navratil, Mr. Michel (\"Louis M Hoffman\")',\n",
       "        'Byles, Rev. Thomas Roussel Davids', 'Bateman, Rev. Robert James',\n",
       "        'Pears, Mrs. Thomas (Edith Wearne)', 'Meo, Mr. Alfonzo',\n",
       "        'van Billiard, Mr. Austin Blyler', 'Olsen, Mr. Ole Martin',\n",
       "        'Williams, Mr. Charles Duane', 'Gilnagh, Miss. Katherine \"Katie\"',\n",
       "        'Corn, Mr. Harry', 'Smiljanic, Mr. Mile',\n",
       "        'Sage, Master. Thomas Henry', 'Cribb, Mr. John Hatfield',\n",
       "        'Watt, Mrs. James (Elizabeth \"Bessie\" Inglis Milne)',\n",
       "        'Bengtsson, Mr. John Viktor', 'Calic, Mr. Jovo',\n",
       "        'Panula, Master. Eino Viljami',\n",
       "        'Goldsmith, Master. Frank John William \"Frankie\"',\n",
       "        'Chibnall, Mrs. (Edith Martha Bowerman)',\n",
       "        'Skoog, Mrs. William (Anna Bernhardina Karlsson)',\n",
       "        'Baumann, Mr. John D', 'Ling, Mr. Lee',\n",
       "        'Van der hoef, Mr. Wyckoff', 'Rice, Master. Arthur',\n",
       "        'Johnson, Miss. Eleanor Ileen', 'Sivola, Mr. Antti Wilhelm',\n",
       "        'Smith, Mr. James Clinch', 'Klasen, Mr. Klas Albin',\n",
       "        'Lefebre, Master. Henry Forbes', 'Isham, Miss. Ann Elizabeth',\n",
       "        'Hale, Mr. Reginald', 'Leonard, Mr. Lionel',\n",
       "        'Sage, Miss. Constance Gladys', 'Pernot, Mr. Rene',\n",
       "        'Asplund, Master. Clarence Gustaf Hugo',\n",
       "        'Becker, Master. Richard F', 'Kink-Heilmann, Miss. Luise Gretchen',\n",
       "        'Rood, Mr. Hugh Roscoe',\n",
       "        'O\\'Brien, Mrs. Thomas (Johanna \"Hannah\" Godfrey)',\n",
       "        'Romaine, Mr. Charles Hallace (\"Mr C Rolmane\")',\n",
       "        'Bourke, Mr. John', 'Turcin, Mr. Stjepan', 'Pinsky, Mrs. (Rosa)',\n",
       "        'Carbines, Mr. William',\n",
       "        'Andersen-Jensen, Miss. Carla Christine Nielsine',\n",
       "        'Navratil, Master. Michel M',\n",
       "        'Brown, Mrs. James Joseph (Margaret Tobin)',\n",
       "        'Lurette, Miss. Elise', 'Mernagh, Mr. Robert',\n",
       "        'Olsen, Mr. Karl Siegwart Andreas',\n",
       "        'Madigan, Miss. Margaret \"Maggie\"',\n",
       "        'Yrois, Miss. Henriette (\"Mrs Harbeck\")',\n",
       "        'Vande Walle, Mr. Nestor Cyriel', 'Sage, Mr. Frederick',\n",
       "        'Johanson, Mr. Jakob Alfred', 'Youseff, Mr. Gerious',\n",
       "        'Cohen, Mr. Gurshon \"Gus\"', 'Strom, Miss. Telma Matilda',\n",
       "        'Backstrom, Mr. Karl Alfred', 'Albimona, Mr. Nassef Cassem',\n",
       "        'Carr, Miss. Helen \"Ellen\"', 'Blank, Mr. Henry', 'Ali, Mr. Ahmed',\n",
       "        'Cameron, Miss. Clear Annie', 'Perkin, Mr. John Henry',\n",
       "        'Givard, Mr. Hans Kristensen', 'Kiernan, Mr. Philip',\n",
       "        'Newell, Miss. Madeleine', 'Honkanen, Miss. Eliina',\n",
       "        'Jacobsohn, Mr. Sidney Samuel', 'Bazzani, Miss. Albina',\n",
       "        'Harris, Mr. Walter', 'Sunderland, Mr. Victor Francis',\n",
       "        'Bracken, Mr. James H', 'Green, Mr. George Henry',\n",
       "        'Nenkoff, Mr. Christo', 'Hoyt, Mr. Frederick Maxfield',\n",
       "        'Berglund, Mr. Karl Ivar Sven', 'Mellors, Mr. William John',\n",
       "        'Lovell, Mr. John Hall (\"Henry\")', 'Fahlstrom, Mr. Arne Jonas',\n",
       "        'Lefebre, Miss. Mathilde',\n",
       "        'Harris, Mrs. Henry Birkhardt (Irene Wallach)',\n",
       "        'Larsson, Mr. Bengt Edvin', 'Sjostedt, Mr. Ernst Adolf',\n",
       "        'Asplund, Miss. Lillian Gertrud',\n",
       "        'Leyson, Mr. Robert William Norman',\n",
       "        'Harknett, Miss. Alice Phoebe', 'Hold, Mr. Stephen',\n",
       "        'Collyer, Miss. Marjorie \"Lottie\"',\n",
       "        'Pengelly, Mr. Frederick William', 'Hunt, Mr. George Henry',\n",
       "        'Zabour, Miss. Thamine', 'Murphy, Miss. Katherine \"Kate\"',\n",
       "        'Coleridge, Mr. Reginald Charles', 'Maenpaa, Mr. Matti Alexanteri',\n",
       "        'Attalah, Mr. Sleiman', 'Minahan, Dr. William Edward',\n",
       "        'Lindahl, Miss. Agda Thorilda Viktoria',\n",
       "        'Hamalainen, Mrs. William (Anna)', 'Beckwith, Mr. Richard Leonard',\n",
       "        'Carter, Rev. Ernest Courtenay', 'Reed, Mr. James George',\n",
       "        'Strom, Mrs. Wilhelm (Elna Matilda Persson)',\n",
       "        'Stead, Mr. William Thomas', 'Lobb, Mr. William Arthur',\n",
       "        'Rosblom, Mrs. Viktor (Helena Wilhelmina)',\n",
       "        'Touma, Mrs. Darwis (Hanne Youssef Razi)',\n",
       "        'Thorne, Mrs. Gertrude Maybelle', 'Cherry, Miss. Gladys',\n",
       "        'Ward, Miss. Anna', 'Parrish, Mrs. (Lutie Davis)',\n",
       "        'Smith, Mr. Thomas', 'Asplund, Master. Edvin Rojj Felix',\n",
       "        'Taussig, Mr. Emil', 'Harrison, Mr. William', 'Henry, Miss. Delia',\n",
       "        'Reeves, Mr. David', 'Panula, Mr. Ernesti Arvid',\n",
       "        'Persson, Mr. Ernst Ulrik',\n",
       "        'Graham, Mrs. William Thompson (Edith Junkins)',\n",
       "        'Bissette, Miss. Amelia', 'Cairns, Mr. Alexander',\n",
       "        'Tornquist, Mr. William Henry',\n",
       "        'Mellinger, Mrs. (Elizabeth Anne Maidment)',\n",
       "        'Natsch, Mr. Charles H', 'Healy, Miss. Hanora \"Nora\"',\n",
       "        'Andrews, Miss. Kornelia Theodosia',\n",
       "        'Lindblom, Miss. Augusta Charlotta', 'Parkes, Mr. Francis \"Frank\"',\n",
       "        'Rice, Master. Eric', 'Abbott, Mrs. Stanton (Rosa Hunt)',\n",
       "        'Duane, Mr. Frank', 'Olsson, Mr. Nils Johan Goransson',\n",
       "        'de Pelsmaeker, Mr. Alfons', 'Dorking, Mr. Edward Arthur',\n",
       "        'Smith, Mr. Richard William', 'Stankovic, Mr. Ivan',\n",
       "        'de Mulder, Mr. Theodore', 'Naidenoff, Mr. Penko',\n",
       "        'Hosono, Mr. Masabumi', 'Connolly, Miss. Kate',\n",
       "        'Barber, Miss. Ellen \"Nellie\"',\n",
       "        'Bishop, Mrs. Dickinson H (Helen Walton)',\n",
       "        'Levy, Mr. Rene Jacques', 'Haas, Miss. Aloisia',\n",
       "        'Mineff, Mr. Ivan', 'Lewy, Mr. Ervin G', 'Hanna, Mr. Mansour',\n",
       "        'Allison, Miss. Helen Loraine', 'Saalfeld, Mr. Adolphe',\n",
       "        'Baxter, Mrs. James (Helene DeLaudeniere Chaput)',\n",
       "        'Kelly, Miss. Anna Katherine \"Annie Kate\"', 'McCoy, Mr. Bernard',\n",
       "        'Johnson, Mr. William Cahoone Jr', 'Keane, Miss. Nora A',\n",
       "        'Williams, Mr. Howard Hugh \"Harry\"',\n",
       "        'Allison, Master. Hudson Trevor', 'Fleming, Miss. Margaret',\n",
       "        'Penasco y Castellana, Mrs. Victor de Satode (Maria Josefa Perez de Soto y Vallejo)',\n",
       "        'Abelson, Mr. Samuel', 'Francatelli, Miss. Laura Mabel',\n",
       "        'Hays, Miss. Margaret Bechstein', 'Ryerson, Miss. Emily Borie',\n",
       "        'Lahtinen, Mrs. William (Anna Sylfven)', 'Hendekovic, Mr. Ignjac',\n",
       "        'Hart, Mr. Benjamin', 'Nilsson, Miss. Helmina Josefina',\n",
       "        'Kantor, Mrs. Sinai (Miriam Sternin)', 'Moraweck, Dr. Ernest',\n",
       "        'Wick, Miss. Mary Natalie',\n",
       "        'Spedden, Mrs. Frederic Oakley (Margaretta Corning Stone)',\n",
       "        'Dennis, Mr. Samuel', 'Danoff, Mr. Yoto',\n",
       "        'Slayter, Miss. Hilda Mary',\n",
       "        'Caldwell, Mrs. Albert Francis (Sylvia Mae Harbaugh)',\n",
       "        'Sage, Mr. George John Jr', 'Young, Miss. Marie Grice',\n",
       "        'Nysveen, Mr. Johan Hansen', 'Ball, Mrs. (Ada E Hall)',\n",
       "        'Goldsmith, Mrs. Frank John (Emily Alice Brown)',\n",
       "        'Hippach, Miss. Jean Gertrude', 'McCoy, Miss. Agnes',\n",
       "        'Partner, Mr. Austen', 'Graham, Mr. George Edward',\n",
       "        'Vander Planke, Mr. Leo Edmondus',\n",
       "        'Frauenthal, Mrs. Henry William (Clara Heinsheimer)',\n",
       "        'Denkoff, Mr. Mitto', 'Pears, Mr. Thomas Clinton',\n",
       "        'Burns, Miss. Elizabeth Margaret', 'Dahl, Mr. Karl Edwart',\n",
       "        'Blackwell, Mr. Stephen Weart', 'Navratil, Master. Edmond Roger',\n",
       "        'Fortune, Miss. Alice Elizabeth', 'Collander, Mr. Erik Gustaf',\n",
       "        'Sedgwick, Mr. Charles Frederick Waddington',\n",
       "        'Fox, Mr. Stanley Hubert', 'Brown, Miss. Amelia \"Mildred\"',\n",
       "        'Smith, Miss. Marion Elsie',\n",
       "        'Davison, Mrs. Thomas Henry (Mary E Finck)',\n",
       "        'Coutts, Master. William Loch \"William\"', 'Dimic, Mr. Jovan',\n",
       "        'Odahl, Mr. Nils Martin', 'Williams-Lambert, Mr. Fletcher Fellows',\n",
       "        'Elias, Mr. Tannous', 'Arnold-Franchi, Mr. Josef',\n",
       "        'Yousif, Mr. Wazli', 'Vanden Steen, Mr. Leo Peter',\n",
       "        'Bowerman, Miss. Elsie Edith', 'Funk, Miss. Annie Clemmer',\n",
       "        'McGovern, Miss. Mary', 'Mockler, Miss. Helen Mary \"Ellie\"',\n",
       "        'Skoog, Mr. Wilhelm', 'del Carlo, Mr. Sebastiano',\n",
       "        'Barbara, Mrs. (Catherine David)', 'Asim, Mr. Adola',\n",
       "        \"O'Brien, Mr. Thomas\", 'Adahl, Mr. Mauritz Nils Martin',\n",
       "        'Warren, Mrs. Frank Manley (Anna Sophia Atkinson)',\n",
       "        'Moussa, Mrs. (Mantoura Boulos)', 'Jermyn, Miss. Annie',\n",
       "        'Aubart, Mme. Leontine Pauline', 'Harder, Mr. George Achilles',\n",
       "        'Wiklund, Mr. Jakob Alfred', 'Beavan, Mr. William Thomas',\n",
       "        'Ringhini, Mr. Sante', 'Palsson, Miss. Stina Viola',\n",
       "        'Meyer, Mrs. Edgar Joseph (Leila Saks)',\n",
       "        'Landergren, Miss. Aurora Adelia', 'Widener, Mr. Harry Elkins',\n",
       "        'Betros, Mr. Tannous', 'Gustafsson, Mr. Karl Gideon',\n",
       "        'Bidois, Miss. Rosalie', 'Nakid, Miss. Maria (\"Mary\")',\n",
       "        'Tikkanen, Mr. Juho',\n",
       "        'Holverson, Mrs. Alexander Oskar (Mary Aline Towner)',\n",
       "        'Plotcharsky, Mr. Vasil', 'Davies, Mr. Charles Henry',\n",
       "        'Goodwin, Master. Sidney Leonard', 'Buss, Miss. Kate',\n",
       "        'Sadlier, Mr. Matthew', 'Lehmann, Miss. Bertha',\n",
       "        'Carter, Mr. William Ernest', 'Jansson, Mr. Carl Olof',\n",
       "        'Gustafsson, Mr. Johan Birger', 'Newell, Miss. Marjorie',\n",
       "        'Sandstrom, Mrs. Hjalmar (Agnes Charlotta Bengtsson)',\n",
       "        'Johansson, Mr. Erik', 'Olsson, Miss. Elina',\n",
       "        'McKane, Mr. Peter David', 'Pain, Dr. Alfred',\n",
       "        'Trout, Mrs. William H (Jessie L)', 'Niskanen, Mr. Juha',\n",
       "        'Adams, Mr. John', 'Jussila, Miss. Mari Aina',\n",
       "        'Hakkarainen, Mr. Pekka Pietari', 'Oreskovic, Miss. Marija',\n",
       "        'Gale, Mr. Shadrach', 'Widegren, Mr. Carl/Charles Peter',\n",
       "        'Richards, Master. William Rowe',\n",
       "        'Birkeland, Mr. Hans Martin Monsen', 'Lefebre, Miss. Ida',\n",
       "        'Sdycoff, Mr. Todor', 'Hart, Mr. Henry', 'Minahan, Miss. Daisy E',\n",
       "        'Cunningham, Mr. Alfred Fleming', 'Sundman, Mr. Johan Julian',\n",
       "        'Meek, Mrs. Thomas (Annie Louise Rowley)',\n",
       "        'Drew, Mrs. James Vivian (Lulu Thorne Christian)',\n",
       "        'Silven, Miss. Lyyli Karoliina', 'Matthews, Mr. William John',\n",
       "        'Van Impe, Miss. Catharina', 'Gheorgheff, Mr. Stanio',\n",
       "        'Charters, Mr. David', 'Zimmerman, Mr. Leo',\n",
       "        'Danbom, Mrs. Ernst Gilbert (Anna Sigrid Maria Brogren)',\n",
       "        'Rosblom, Mr. Viktor Richard', 'Wiseman, Mr. Phillippe',\n",
       "        'Clarke, Mrs. Charles V (Ada Maria Winfield)',\n",
       "        'Phillips, Miss. Kate Florence (\"Mrs Kate Louise Phillips Marshall\")',\n",
       "        'Flynn, Mr. James', 'Pickard, Mr. Berk (Berk Trembisky)',\n",
       "        'Bjornstrom-Steffansson, Mr. Mauritz Hakan',\n",
       "        'Thorneycroft, Mrs. Percival (Florence Kate White)',\n",
       "        'Louch, Mrs. Charles Alexander (Alice Adelaide Slow)',\n",
       "        'Kallio, Mr. Nikolai Erland', 'Silvey, Mr. William Baird',\n",
       "        'Carter, Miss. Lucile Polk',\n",
       "        'Ford, Miss. Doolina Margaret \"Daisy\"',\n",
       "        'Richards, Mrs. Sidney (Emily Hocking)', 'Fortune, Mr. Mark',\n",
       "        'Kvillner, Mr. Johan Henrik Johannesson',\n",
       "        'Hart, Mrs. Benjamin (Esther Ada Bloomfield)', 'Hampe, Mr. Leon',\n",
       "        'Petterson, Mr. Johan Emil', 'Reynaldo, Ms. Encarnacion',\n",
       "        'Johannesen-Bratthammer, Mr. Bernt', 'Dodge, Master. Washington',\n",
       "        'Mellinger, Miss. Madeleine Violet', 'Seward, Mr. Frederic Kimber',\n",
       "        'Baclini, Miss. Marie Catherine', 'Peuchen, Major. Arthur Godfrey',\n",
       "        'West, Mr. Edwy Arthur', 'Hagland, Mr. Ingvald Olai Olsen',\n",
       "        'Foreman, Mr. Benjamin Laventall', 'Goldenberg, Mr. Samuel L',\n",
       "        'Peduzzi, Mr. Joseph', 'Jalsevac, Mr. Ivan',\n",
       "        'Millet, Mr. Francis Davis', 'Kenyon, Mrs. Frederick R (Marion)',\n",
       "        'Toomey, Miss. Ellen', \"O'Connor, Mr. Maurice\",\n",
       "        'Anderson, Mr. Harry', 'Morley, Mr. William', 'Gee, Mr. Arthur H',\n",
       "        'Milling, Mr. Jacob Christian', 'Maisner, Mr. Simon',\n",
       "        'Goncalves, Mr. Manuel Estanslas', 'Campbell, Mr. William',\n",
       "        'Smart, Mr. John Montgomery', 'Scanlan, Mr. James',\n",
       "        'Baclini, Miss. Helene Barbara', 'Keefe, Mr. Arthur',\n",
       "        'Cacic, Mr. Luka', 'West, Mrs. Edwy Arthur (Ada Mary Worth)',\n",
       "        'Jerwan, Mrs. Amin S (Marie Marthe Thuillard)',\n",
       "        'Strandberg, Miss. Ida Sofia', 'Clifford, Mr. George Quincy',\n",
       "        'Renouf, Mr. Peter Henry', 'Braund, Mr. Lewis Richard',\n",
       "        'Karlsson, Mr. Nils August', 'Hirvonen, Miss. Hildur E',\n",
       "        'Goodwin, Master. Harold Victor',\n",
       "        'Frost, Mr. Anthony Wood \"Archie\"', 'Rouse, Mr. Richard Henry',\n",
       "        'Turkula, Mrs. (Hedwig)', 'Bishop, Mr. Dickinson H',\n",
       "        'Lefebre, Miss. Jeannie',\n",
       "        'Hoyt, Mrs. Frederick Maxfield (Jane Anne Forby)',\n",
       "        'Kent, Mr. Edward Austin', 'Somerton, Mr. Francis William',\n",
       "        'Coutts, Master. Eden Leslie \"Neville\"',\n",
       "        'Hagland, Mr. Konrad Mathias Reiersen', 'Windelov, Mr. Einar',\n",
       "        'Molson, Mr. Harry Markland', 'Artagaveytia, Mr. Ramon',\n",
       "        'Stanley, Mr. Edward Roland', 'Yousseff, Mr. Gerious',\n",
       "        'Eustis, Miss. Elizabeth Mussey',\n",
       "        'Shellard, Mr. Frederick William',\n",
       "        'Allison, Mrs. Hudson J C (Bessie Waldo Daniels)',\n",
       "        'Svensson, Mr. Olof', 'Calic, Mr. Petar', 'Canavan, Miss. Mary',\n",
       "        \"O'Sullivan, Miss. Bridget Mary\", 'Laitinen, Miss. Kristina Sofia',\n",
       "        'Maioni, Miss. Roberta',\n",
       "        'Penasco y Castellana, Mr. Victor de Satode',\n",
       "        'Quick, Mrs. Frederick Charles (Jane Richards)',\n",
       "        'Bradley, Mr. George (\"George Arthur Brayton\")',\n",
       "        'Olsen, Mr. Henry Margido', 'Lang, Mr. Fang',\n",
       "        'Daly, Mr. Eugene Patrick', 'Webber, Mr. James',\n",
       "        'McGough, Mr. James Robert',\n",
       "        'Rothschild, Mrs. Martin (Elizabeth L. Barrett)',\n",
       "        'Coleff, Mr. Satio', 'Walker, Mr. William Anderson',\n",
       "        'Lemore, Mrs. (Amelia Milley)', 'Ryan, Mr. Patrick',\n",
       "        'Angle, Mrs. William A (Florence \"Mary\" Agnes Hughes)',\n",
       "        'Pavlovic, Mr. Stefo', 'Perreault, Miss. Anne', 'Vovk, Mr. Janko',\n",
       "        'Lahoud, Mr. Sarkis',\n",
       "        'Hippach, Mrs. Louis Albert (Ida Sophia Fischer)',\n",
       "        'Kassem, Mr. Fared', 'Farrell, Mr. James', 'Ridsdale, Miss. Lucy',\n",
       "        'Farthing, Mr. John', 'Salonen, Mr. Johan Werner',\n",
       "        'Hocking, Mr. Richard George', 'Quick, Miss. Phyllis May',\n",
       "        'Toufik, Mr. Nakli', 'Elias, Mr. Joseph Jr',\n",
       "        'Peter, Mrs. Catherine (Catherine Rizk)', 'Cacic, Miss. Marija',\n",
       "        'Hart, Miss. Eva Miriam', 'Butt, Major. Archibald Willingham',\n",
       "        'LeRoy, Miss. Bertha', 'Risien, Mr. Samuel Beard',\n",
       "        'Frolicher, Miss. Hedwig Margaritha', 'Crosby, Miss. Harriet R',\n",
       "        'Andersson, Miss. Ingeborg Constanzia',\n",
       "        'Andersson, Miss. Sigrid Elisabeth', 'Beane, Mr. Edward',\n",
       "        'Douglas, Mr. Walter Donald', 'Nicholson, Mr. Arthur Ernest',\n",
       "        'Beane, Mrs. Edward (Ethel Clarke)', 'Padro y Manent, Mr. Julian',\n",
       "        'Goldsmith, Mr. Frank John', 'Davies, Master. John Morgan Jr',\n",
       "        'Thayer, Mr. John Borland Jr', 'Sharp, Mr. Percival James R',\n",
       "        \"O'Brien, Mr. Timothy\", 'Leeni, Mr. Fahim (\"Philip Zenni\")',\n",
       "        'Ohman, Miss. Velin', 'Wright, Mr. George',\n",
       "        'Duff Gordon, Lady. (Lucille Christiana Sutherland) (\"Mrs Morgan\")',\n",
       "        'Robbins, Mr. Victor', 'Taussig, Mrs. Emil (Tillie Mandelbaum)',\n",
       "        'de Messemaeker, Mrs. Guillaume Joseph (Emma)',\n",
       "        'Morrow, Mr. Thomas Rowan', 'Sivic, Mr. Husein',\n",
       "        'Norman, Mr. Robert Douglas', 'Simmons, Mr. John',\n",
       "        'Meanwell, Miss. (Marion Ogden)', 'Davies, Mr. Alfred J',\n",
       "        'Stoytcheff, Mr. Ilia',\n",
       "        'Palsson, Mrs. Nils (Alma Cornelia Berglund)',\n",
       "        'Doharr, Mr. Tannous', 'Jonsson, Mr. Carl', 'Harris, Mr. George',\n",
       "        'Appleton, Mrs. Edward Dale (Charlotte Lamson)',\n",
       "        'Flynn, Mr. John Irwin (\"Irving\")', 'Kelly, Miss. Mary',\n",
       "        'Rush, Mr. Alfred George John', 'Patchett, Mr. George',\n",
       "        'Garside, Miss. Ethel',\n",
       "        'Silvey, Mrs. William Baird (Alice Munger)',\n",
       "        'Caram, Mrs. Joseph (Maria Elias)', 'Jussila, Mr. Eiriik',\n",
       "        'Christy, Miss. Julie Rachel',\n",
       "        'Thayer, Mrs. John Borland (Marian Longstreth Morris)',\n",
       "        'Downton, Mr. William James', 'Ross, Mr. John Hugo',\n",
       "        'Paulner, Mr. Uscher', 'Taussig, Miss. Ruth',\n",
       "        'Jarvis, Mr. John Denzil', 'Frolicher-Stehli, Mr. Maxmillian',\n",
       "        'Gilinski, Mr. Eliezer', 'Murdlin, Mr. Joseph',\n",
       "        'Rintamaki, Mr. Matti',\n",
       "        'Stephenson, Mrs. Walter Bertram (Martha Eustis)',\n",
       "        'Elsbury, Mr. William James', 'Bourke, Miss. Mary',\n",
       "        'Chapman, Mr. John Henry', 'Van Impe, Mr. Jean Baptiste',\n",
       "        'Leitch, Miss. Jessie Wills', 'Johnson, Mr. Alfred',\n",
       "        'Boulos, Mr. Hanna',\n",
       "        'Duff Gordon, Sir. Cosmo Edmund (\"Mr Morgan\")',\n",
       "        'Jacobsohn, Mrs. Sidney Samuel (Amy Frances Christy)',\n",
       "        'Slabenoff, Mr. Petco', 'Harrington, Mr. Charles H',\n",
       "        'Torber, Mr. Ernst William', 'Homer, Mr. Harry (\"Mr E Haven\")',\n",
       "        'Lindell, Mr. Edvard Bengtsson', 'Karaic, Mr. Milan',\n",
       "        'Daniel, Mr. Robert Williams',\n",
       "        'Laroche, Mrs. Joseph (Juliette Marie Louise Lafargue)',\n",
       "        'Shutes, Miss. Elizabeth W',\n",
       "        'Andersson, Mrs. Anders Johan (Alfrida Konstantia Brogren)',\n",
       "        'Jardin, Mr. Jose Neto', 'Murphy, Miss. Margaret Jane',\n",
       "        'Horgan, Mr. John', 'Brocklebank, Mr. William Alfred',\n",
       "        'Herman, Miss. Alice', 'Danbom, Mr. Ernst Gilbert',\n",
       "        'Lobb, Mrs. William Arthur (Cordelia K Stanlick)',\n",
       "        'Becker, Miss. Marion Louise', 'Gavey, Mr. Lawrence',\n",
       "        'Yasbeck, Mr. Antoni', 'Kimball, Mr. Edwin Nelson Jr',\n",
       "        'Nakid, Mr. Sahid', 'Hansen, Mr. Henry Damsgaard',\n",
       "        'Bowen, Mr. David John \"Dai\"', 'Sutton, Mr. Frederick',\n",
       "        'Kirkland, Rev. Charles Leonard', 'Longley, Miss. Gretchen Fiske',\n",
       "        'Bostandyeff, Mr. Guentcho', \"O'Connell, Mr. Patrick D\",\n",
       "        'Barkworth, Mr. Algernon Henry Wilson',\n",
       "        'Lundahl, Mr. Johan Svensson', 'Stahelin-Maeglin, Dr. Max',\n",
       "        'Parr, Mr. William Henry Marsh', 'Skoog, Miss. Mabel',\n",
       "        'Davis, Miss. Mary', 'Leinonen, Mr. Antti Gustaf',\n",
       "        'Collyer, Mr. Harvey', 'Panula, Mrs. Juha (Maria Emilia Ojala)',\n",
       "        'Thorneycroft, Mr. Percival', 'Jensen, Mr. Hans Peder',\n",
       "        'Sagesser, Mlle. Emma', 'Skoog, Miss. Margit Elizabeth',\n",
       "        'Foo, Mr. Choong', 'Baclini, Miss. Eugenie',\n",
       "        'Harper, Mr. Henry Sleeper', 'Cor, Mr. Liudevit',\n",
       "        'Simonius-Blumer, Col. Oberst Alfons', 'Willey, Mr. Edward',\n",
       "        'Stanley, Miss. Amy Zillah Elsie', 'Mitkoff, Mr. Mito',\n",
       "        'Doling, Miss. Elsie', 'Kalvik, Mr. Johannes Halvorsen',\n",
       "        'O\\'Leary, Miss. Hanora \"Norah\"', 'Hegarty, Miss. Hanora \"Nora\"',\n",
       "        'Hickman, Mr. Leonard Mark', 'Radeff, Mr. Alexander',\n",
       "        'Bourke, Mrs. John (Catherine)', 'Eitemiller, Mr. George Floyd',\n",
       "        'Newell, Mr. Arthur Webster', 'Frauenthal, Dr. Henry William',\n",
       "        'Badt, Mr. Mohamed', 'Colley, Mr. Edward Pomeroy',\n",
       "        'Coleff, Mr. Peju', 'Lindqvist, Mr. Eino William',\n",
       "        'Hickman, Mr. Lewis', 'Butler, Mr. Reginald Fenton',\n",
       "        'Rommetvedt, Mr. Knud Paust', 'Cook, Mr. Jacob',\n",
       "        'Taylor, Mrs. Elmer Zebley (Juliet Cummins Wright)',\n",
       "        'Brown, Mrs. Thomas William Solomon (Elizabeth Catherine Ford)',\n",
       "        'Davidson, Mr. Thornton', 'Mitchell, Mr. Henry Michael',\n",
       "        'Wilhelms, Mr. Charles', 'Watson, Mr. Ennis Hastings',\n",
       "        'Edvardsson, Mr. Gustaf Hjalmar', 'Sawyer, Mr. Frederick Charles',\n",
       "        'Turja, Miss. Anna Sofia',\n",
       "        'Goodwin, Mrs. Frederick (Augusta Tyler)',\n",
       "        'Cardeza, Mr. Thomas Drake Martinez', 'Peters, Miss. Katie',\n",
       "        'Hassab, Mr. Hammad', 'Olsvigen, Mr. Thor Anderson',\n",
       "        'Goodwin, Mr. Charles Edward', 'Brown, Mr. Thomas William Solomon',\n",
       "        'Laroche, Mr. Joseph Philippe Lemercier',\n",
       "        'Panula, Mr. Jaako Arnold', 'Dakic, Mr. Branko',\n",
       "        'Fischer, Mr. Eberhard Thelander',\n",
       "        'Madill, Miss. Georgette Alexandra', 'Dick, Mr. Albert Adrian',\n",
       "        'Karun, Miss. Manca', 'Lam, Mr. Ali', 'Saad, Mr. Khalil',\n",
       "        'Weir, Col. John', 'Chapman, Mr. Charles Henry',\n",
       "        'Kelly, Mr. James', 'Mullens, Miss. Katherine \"Katie\"',\n",
       "        'Thayer, Mr. John Borland',\n",
       "        'Humblen, Mr. Adolf Mathias Nicolai Olsen',\n",
       "        'Astor, Mrs. John Jacob (Madeleine Talmadge Force)',\n",
       "        'Silverthorne, Mr. Spencer Victor', 'Barbara, Miss. Saiide',\n",
       "        'Gallagher, Mr. Martin', 'Hansen, Mr. Henrik Juul',\n",
       "        'Morley, Mr. Henry Samuel (\"Mr Henry Marshall\")',\n",
       "        'Kelly, Mrs. Florence \"Fannie\"',\n",
       "        'Calderhead, Mr. Edward Pennington', 'Cleaver, Miss. Alice',\n",
       "        'Moubarek, Master. Halim Gonios (\"William George\")',\n",
       "        'Mayne, Mlle. Berthe Antonine (\"Mrs de Villiers\")',\n",
       "        'Klaber, Mr. Herman', 'Taylor, Mr. Elmer Zebley',\n",
       "        'Larsson, Mr. August Viktor', 'Greenberg, Mr. Samuel',\n",
       "        'Soholt, Mr. Peter Andreas Lauritz Andersen',\n",
       "        'Endres, Miss. Caroline Louise',\n",
       "        'Troutt, Miss. Edwina Celia \"Winnie\"', 'McEvoy, Mr. Michael',\n",
       "        'Johnson, Mr. Malkolm Joackim',\n",
       "        'Harper, Miss. Annie Jessie \"Nina\"', 'Jensen, Mr. Svend Lauritz',\n",
       "        'Gillespie, Mr. William Henry', 'Hodges, Mr. Henry Price',\n",
       "        'Chambers, Mr. Norman Campbell', 'Oreskovic, Mr. Luka',\n",
       "        'Renouf, Mrs. Peter Henry (Lillian Jefferys)',\n",
       "        'Mannion, Miss. Margareth', 'Bryhl, Mr. Kurt Arnold Gottfrid',\n",
       "        'Ilmakangas, Miss. Pieta Sofia', 'Allen, Miss. Elisabeth Walton',\n",
       "        'Hassan, Mr. Houssein G N', 'Knight, Mr. Robert J',\n",
       "        'Berriman, Mr. William John', 'Troupiansky, Mr. Moses Aaron',\n",
       "        'Williams, Mr. Leslie', 'Ford, Mrs. Edward (Margaret Ann Watson)',\n",
       "        'Lesurer, Mr. Gustave J', 'Ivanoff, Mr. Kanio',\n",
       "        'Nankoff, Mr. Minko', 'Hawksford, Mr. Walter James',\n",
       "        'Cavendish, Mr. Tyrell William',\n",
       "        'Ryerson, Miss. Susan Parker \"Suzette\"', 'McNamee, Mr. Neal',\n",
       "        'Stranden, Mr. Juho', 'Crosby, Capt. Edward Gifford',\n",
       "        'Abbott, Mr. Rossmore Edward', 'Sinkkonen, Miss. Anna',\n",
       "        'Marvin, Mr. Daniel Warner', 'Connaghton, Mr. Michael',\n",
       "        'Wells, Miss. Joan', 'Moor, Master. Meier',\n",
       "        'Vande Velde, Mr. Johannes Joseph', 'Jonkoff, Mr. Lalio',\n",
       "        'Herman, Mrs. Samuel (Jane Laver)', 'Hamalainen, Master. Viljo',\n",
       "        'Carlsson, Mr. August Sigfrid', 'Bailey, Mr. Percy Andrew',\n",
       "        'Theobald, Mr. Thomas Leonard',\n",
       "        'Rothes, the Countess. of (Lucy Noel Martha Dyer-Edwards)',\n",
       "        'Garfirth, Mr. John', 'Nirva, Mr. Iisakki Antino Aijo',\n",
       "        'Barah, Mr. Hanna Assi',\n",
       "        'Carter, Mrs. William Ernest (Lucile Polk)',\n",
       "        'Eklund, Mr. Hans Linus', 'Hogeboom, Mrs. John C (Anna Andrews)',\n",
       "        'Brewe, Dr. Arthur Jackson', 'Mangan, Miss. Mary',\n",
       "        'Moran, Mr. Daniel J', 'Gronnestad, Mr. Daniel Danielsen',\n",
       "        'Lievens, Mr. Rene Aime', 'Jensen, Mr. Niels Peder',\n",
       "        'Mack, Mrs. (Mary)', 'Elias, Mr. Dibo',\n",
       "        'Hocking, Mrs. Elizabeth (Eliza Needs)',\n",
       "        'Myhrman, Mr. Pehr Fabian Oliver Malkolm', 'Tobin, Mr. Roger',\n",
       "        'Emanuel, Miss. Virginia Ethel', 'Kilgannon, Mr. Thomas J',\n",
       "        'Robert, Mrs. Edward Scott (Elisabeth Walton McMillan)',\n",
       "        'Ayoub, Miss. Banoura',\n",
       "        'Dick, Mrs. Albert Adrian (Vera Gillespie)',\n",
       "        'Long, Mr. Milton Clyde', 'Johnston, Mr. Andrew G',\n",
       "        'Ali, Mr. William', 'Harmer, Mr. Abraham (David Lishin)',\n",
       "        'Sjoblom, Miss. Anna Sofia', 'Rice, Master. George Hugh',\n",
       "        'Dean, Master. Bertram Vere', 'Guggenheim, Mr. Benjamin',\n",
       "        'Keane, Mr. Andrew \"Andy\"', 'Gaskell, Mr. Alfred',\n",
       "        'Sage, Miss. Stella Anna', 'Hoyt, Mr. William Fisher',\n",
       "        'Dantcheff, Mr. Ristiu', 'Otter, Mr. Richard',\n",
       "        'Leader, Dr. Alice (Farnham)', 'Osman, Mrs. Mara',\n",
       "        'Ibrahim Shawah, Mr. Yousseff',\n",
       "        'Van Impe, Mrs. Jean Baptiste (Rosalie Paula Govaert)',\n",
       "        'Ponesell, Mr. Martin',\n",
       "        'Collyer, Mrs. Harvey (Charlotte Annie Tate)',\n",
       "        'Carter, Master. William Thornton II',\n",
       "        'Thomas, Master. Assad Alexander', 'Hedman, Mr. Oskar Arvid',\n",
       "        'Johansson, Mr. Karl Johan', 'Andrews, Mr. Thomas Jr',\n",
       "        'Pettersson, Miss. Ellen Natalia', 'Meyer, Mr. August',\n",
       "        'Chambers, Mrs. Norman Campbell (Bertha Griggs)',\n",
       "        'Alexander, Mr. William', 'Lester, Mr. James',\n",
       "        'Slemen, Mr. Richard James', 'Andersson, Miss. Ebba Iris Alfrida',\n",
       "        'Tomlin, Mr. Ernest Portage', 'Fry, Mr. Richard',\n",
       "        'Heininen, Miss. Wendla Maria', 'Mallet, Mr. Albert',\n",
       "        'Holm, Mr. John Fredrik Alexander', 'Skoog, Master. Karl Thorsten',\n",
       "        'Hays, Mrs. Charles Melville (Clara Jennings Gregg)',\n",
       "        'Lulic, Mr. Nikola', 'Reuchlin, Jonkheer. John George',\n",
       "        'Moor, Mrs. (Beila)', 'Panula, Master. Urho Abraham',\n",
       "        'Flynn, Mr. John', 'Lam, Mr. Len', 'Mallet, Master. Andre',\n",
       "        'McCormack, Mr. Thomas Joseph',\n",
       "        'Stone, Mrs. George Nelson (Martha Evelyn)',\n",
       "        'Yasbeck, Mrs. Antoni (Selini Alexander)',\n",
       "        'Richards, Master. George Sibley', 'Saad, Mr. Amin',\n",
       "        'Augustsson, Mr. Albert', 'Allum, Mr. Owen George',\n",
       "        'Compton, Miss. Sara Rebecca', 'Pasic, Mr. Jakob',\n",
       "        'Sirota, Mr. Maurice', 'Chip, Mr. Chang', 'Marechal, Mr. Pierre',\n",
       "        'Alhomaki, Mr. Ilmari Rudolf', 'Mudd, Mr. Thomas Charles',\n",
       "        'Serepeca, Miss. Augusta', 'Lemberopolous, Mr. Peter L',\n",
       "        'Culumovic, Mr. Jeso', 'Abbing, Mr. Anthony',\n",
       "        'Sage, Mr. Douglas Bullen', 'Markoff, Mr. Marin',\n",
       "        'Harper, Rev. John',\n",
       "        'Goldenberg, Mrs. Samuel L (Edwiga Grabowska)',\n",
       "        'Andersson, Master. Sigvard Harald Elias', 'Svensson, Mr. Johan',\n",
       "        'Boulos, Miss. Nourelain', 'Lines, Miss. Mary Conover',\n",
       "        'Carter, Mrs. Ernest Courtenay (Lilian Hughes)',\n",
       "        'Aks, Mrs. Sam (Leah Rosen)',\n",
       "        'Wick, Mrs. George Dennick (Mary Hitchcock)',\n",
       "        'Daly, Mr. Peter Denis ', 'Baclini, Mrs. Solomon (Latifa Qurban)',\n",
       "        'Razi, Mr. Raihed', 'Hansen, Mr. Claus Peter',\n",
       "        'Giles, Mr. Frederick Edward',\n",
       "        'Swift, Mrs. Frederick Joel (Margaret Welles Barron)',\n",
       "        'Sage, Miss. Dorothy Edith \"Dolly\"', 'Gill, Mr. John William',\n",
       "        'Bystrom, Mrs. (Karolina)', 'Duran y More, Miss. Asuncion',\n",
       "        'Roebling, Mr. Washington Augustus II',\n",
       "        'van Melkebeke, Mr. Philemon', 'Johnson, Master. Harold Theodor',\n",
       "        'Balkic, Mr. Cerin',\n",
       "        'Beckwith, Mrs. Richard Leonard (Sallie Monypeny)',\n",
       "        'Carlsson, Mr. Frans Olof', 'Vander Cruyssen, Mr. Victor',\n",
       "        'Abelson, Mrs. Samuel (Hannah Wizosky)',\n",
       "        'Najib, Miss. Adele Kiamie \"Jane\"',\n",
       "        'Gustafsson, Mr. Alfred Ossian', 'Petroff, Mr. Nedelio',\n",
       "        'Laleff, Mr. Kristo',\n",
       "        'Potter, Mrs. Thomas Jr (Lily Alexenia Wilson)',\n",
       "        'Shelley, Mrs. William (Imanita Parrish Hall)',\n",
       "        'Markun, Mr. Johann', 'Dahlberg, Miss. Gerda Ulrika',\n",
       "        'Banfield, Mr. Frederick James', 'Sutehall, Mr. Henry Jr',\n",
       "        'Rice, Mrs. William (Margaret Norton)', 'Montvila, Rev. Juozas',\n",
       "        'Graham, Miss. Margaret Edith',\n",
       "        'Johnston, Miss. Catherine Helen \"Carrie\"',\n",
       "        'Behr, Mr. Karl Howell', 'Dooley, Mr. Patrick'], dtype=object),\n",
       " 'Sex': array(['male', 'female'], dtype=object),\n",
       " 'Ticket': array(['A/5 21171', 'PC 17599', 'STON/O2. 3101282', '113803', '373450',\n",
       "        '330877', '17463', '349909', '347742', '237736', 'PP 9549',\n",
       "        '113783', 'A/5. 2151', '347082', '350406', '248706', '382652',\n",
       "        '244373', '345763', '2649', '239865', '248698', '330923', '113788',\n",
       "        '347077', '2631', '19950', '330959', '349216', 'PC 17601',\n",
       "        'PC 17569', '335677', 'C.A. 24579', 'PC 17604', '113789', '2677',\n",
       "        'A./5. 2152', '345764', '2651', '7546', '11668', '349253',\n",
       "        'SC/Paris 2123', '330958', 'S.C./A.4. 23567', '370371', '14311',\n",
       "        '2662', '349237', '3101295', 'A/4. 39886', 'PC 17572', '2926',\n",
       "        '113509', '19947', 'C.A. 31026', '2697', 'C.A. 34651', 'CA 2144',\n",
       "        '2669', '113572', '36973', '347088', 'PC 17605', '2661',\n",
       "        'C.A. 29395', 'S.P. 3464', '3101281', '315151', 'C.A. 33111',\n",
       "        'S.O.C. 14879', '2680', '1601', '348123', '349208', '374746',\n",
       "        '248738', '364516', '345767', '345779', '330932', '113059',\n",
       "        'SO/C 14885', '3101278', 'W./C. 6608', 'SOTON/OQ 392086', '343275',\n",
       "        '343276', '347466', 'W.E.P. 5734', 'C.A. 2315', '364500', '374910',\n",
       "        'PC 17754', 'PC 17759', '231919', '244367', '349245', '349215',\n",
       "        '35281', '7540', '3101276', '349207', '343120', '312991', '349249',\n",
       "        '371110', '110465', '2665', '324669', '4136', '2627',\n",
       "        'STON/O 2. 3101294', '370369', 'PC 17558', 'A4. 54510', '27267',\n",
       "        '370372', 'C 17369', '2668', '347061', '349241',\n",
       "        'SOTON/O.Q. 3101307', 'A/5. 3337', '228414', 'C.A. 29178',\n",
       "        'SC/PARIS 2133', '11752', '7534', 'PC 17593', '2678', '347081',\n",
       "        'STON/O2. 3101279', '365222', '231945', 'C.A. 33112', '350043',\n",
       "        '230080', '244310', 'S.O.P. 1166', '113776', 'A.5. 11206',\n",
       "        'A/5. 851', 'Fa 265302', 'PC 17597', '35851', 'SOTON/OQ 392090',\n",
       "        '315037', 'CA. 2343', '371362', 'C.A. 33595', '347068', '315093',\n",
       "        '363291', '113505', 'PC 17318', '111240', 'STON/O 2. 3101280',\n",
       "        '17764', '350404', '4133', 'PC 17595', '250653', 'LINE',\n",
       "        'SC/PARIS 2131', '230136', '315153', '113767', '370365', '111428',\n",
       "        '364849', '349247', '234604', '28424', '350046', 'PC 17610',\n",
       "        '368703', '4579', '370370', '248747', '345770', '3101264', '2628',\n",
       "        'A/5 3540', '347054', '2699', '367231', '112277',\n",
       "        'SOTON/O.Q. 3101311', 'F.C.C. 13528', 'A/5 21174', '250646',\n",
       "        '367229', '35273', 'STON/O2. 3101283', '243847', '11813',\n",
       "        'W/C 14208', 'SOTON/OQ 392089', '220367', '21440', '349234',\n",
       "        '19943', 'PP 4348', 'SW/PP 751', 'A/5 21173', '236171', '347067',\n",
       "        '237442', 'C.A. 29566', 'W./C. 6609', '26707', 'C.A. 31921',\n",
       "        '28665', 'SCO/W 1585', '367230', 'W./C. 14263',\n",
       "        'STON/O 2. 3101275', '2694', '19928', '347071', '250649', '11751',\n",
       "        '244252', '362316', '113514', 'A/5. 3336', '370129', '2650',\n",
       "        'PC 17585', '110152', 'PC 17755', '230433', '384461', '110413',\n",
       "        '112059', '382649', 'C.A. 17248', '347083', 'PC 17582', 'PC 17760',\n",
       "        '113798', '250644', 'PC 17596', '370375', '13502', '347073',\n",
       "        '239853', 'C.A. 2673', '336439', '347464', '345778', 'A/5. 10482',\n",
       "        '113056', '349239', '345774', '349206', '237798', '370373',\n",
       "        '19877', '11967', 'SC/Paris 2163', '349236', '349233', 'PC 17612',\n",
       "        '2693', '113781', '19988', '9234', '367226', '226593', 'A/5 2466',\n",
       "        '17421', 'PC 17758', 'P/PP 3381', 'PC 17485', '11767', 'PC 17608',\n",
       "        '250651', '349243', 'F.C.C. 13529', '347470', '29011', '36928',\n",
       "        '16966', 'A/5 21172', '349219', '234818', '345364', '28551',\n",
       "        '111361', '113043', 'PC 17611', '349225', '7598', '113784',\n",
       "        '248740', '244361', '229236', '248733', '31418', '386525',\n",
       "        'C.A. 37671', '315088', '7267', '113510', '2695', '2647', '345783',\n",
       "        '237671', '330931', '330980', 'SC/PARIS 2167', '2691',\n",
       "        'SOTON/O.Q. 3101310', 'C 7076', '110813', '2626', '14313',\n",
       "        'PC 17477', '11765', '3101267', '323951', 'C 7077', '113503',\n",
       "        '2648', '347069', 'PC 17757', '2653', 'STON/O 2. 3101293',\n",
       "        '349227', '27849', '367655', 'SC 1748', '113760', '350034',\n",
       "        '3101277', '350052', '350407', '28403', '244278', '240929',\n",
       "        'STON/O 2. 3101289', '341826', '4137', '315096', '28664', '347064',\n",
       "        '29106', '312992', '349222', '394140', 'STON/O 2. 3101269',\n",
       "        '343095', '28220', '250652', '28228', '345773', '349254',\n",
       "        'A/5. 13032', '315082', '347080', 'A/4. 34244', '2003', '250655',\n",
       "        '364851', 'SOTON/O.Q. 392078', '110564', '376564', 'SC/AH 3085',\n",
       "        'STON/O 2. 3101274', '13507', 'C.A. 18723', '345769', '347076',\n",
       "        '230434', '65306', '33638', '113794', '2666', '113786', '65303',\n",
       "        '113051', '17453', 'A/5 2817', '349240', '13509', '17464',\n",
       "        'F.C.C. 13531', '371060', '19952', '364506', '111320', '234360',\n",
       "        'A/S 2816', 'SOTON/O.Q. 3101306', '113792', '36209', '323592',\n",
       "        '315089', 'SC/AH Basle 541', '7553', '31027', '3460', '350060',\n",
       "        '3101298', '239854', 'A/5 3594', '4134', '11771', 'A.5. 18509',\n",
       "        '65304', 'SOTON/OQ 3101317', '113787', 'PC 17609', 'A/4 45380',\n",
       "        '36947', 'C.A. 6212', '350035', '315086', '364846', '330909',\n",
       "        '4135', '26360', '111427', 'C 4001', '382651', 'SOTON/OQ 3101316',\n",
       "        'PC 17473', 'PC 17603', '349209', '36967', 'C.A. 34260', '226875',\n",
       "        '349242', '12749', '349252', '2624', '2700', '367232',\n",
       "        'W./C. 14258', 'PC 17483', '3101296', '29104', '2641', '2690',\n",
       "        '315084', '113050', 'PC 17761', '364498', '13568', 'WE/P 5735',\n",
       "        '2908', '693', 'SC/PARIS 2146', '244358', '330979', '2620',\n",
       "        '347085', '113807', '11755', '345572', '372622', '349251',\n",
       "        '218629', 'SOTON/OQ 392082', 'SOTON/O.Q. 392087', 'A/4 48871',\n",
       "        '349205', '2686', '350417', 'S.W./PP 752', '11769', 'PC 17474',\n",
       "        '14312', 'A/4. 20589', '358585', '243880', '2689',\n",
       "        'STON/O 2. 3101286', '237789', '13049', '3411', '237565', '13567',\n",
       "        '14973', 'A./5. 3235', 'STON/O 2. 3101273', 'A/5 3902', '364848',\n",
       "        'SC/AH 29037', '248727', '2664', '349214', '113796', '364511',\n",
       "        '111426', '349910', '349246', '113804', 'SOTON/O.Q. 3101305',\n",
       "        '370377', '364512', '220845', '31028', '2659', '11753', '350029',\n",
       "        '54636', '36963', '219533', '349224', '334912', '27042', '347743',\n",
       "        '13214', '112052', '237668', 'STON/O 2. 3101292', '350050',\n",
       "        '349231', '13213', 'S.O./P.P. 751', 'CA. 2314', '349221', '8475',\n",
       "        '330919', '365226', '349223', '29751', '2623', '5727', '349210',\n",
       "        'STON/O 2. 3101285', '234686', '312993', 'A/5 3536', '19996',\n",
       "        '29750', 'F.C. 12750', 'C.A. 24580', '244270', '239856', '349912',\n",
       "        '342826', '4138', '330935', '6563', '349228', '350036', '24160',\n",
       "        '17474', '349256', '2672', '113800', '248731', '363592', '35852',\n",
       "        '348121', 'PC 17475', '36864', '350025', '223596', 'PC 17476',\n",
       "        'PC 17482', '113028', '7545', '250647', '348124', '34218', '36568',\n",
       "        '347062', '350048', '12233', '250643', '113806', '315094', '36866',\n",
       "        '236853', 'STON/O2. 3101271', '239855', '28425', '233639',\n",
       "        '349201', '349218', '16988', '376566', 'STON/O 2. 3101288',\n",
       "        '250648', '113773', '335097', '29103', '392096', '345780',\n",
       "        '349204', '350042', '29108', '363294', 'SOTON/O2 3101272', '2663',\n",
       "        '347074', '112379', '364850', '8471', '345781', '350047',\n",
       "        'S.O./P.P. 3', '2674', '29105', '347078', '383121', '36865',\n",
       "        '2687', '113501', 'W./C. 6607', 'SOTON/O.Q. 3101312', '374887',\n",
       "        '3101265', '12460', 'PC 17600', '349203', '28213', '17465',\n",
       "        '349244', '2685', '2625', '347089', '347063', '112050', '347087',\n",
       "        '248723', '3474', '28206', '364499', '112058', 'STON/O2. 3101290',\n",
       "        'S.C./PARIS 2079', 'C 7075', '315098', '19972', '368323', '367228',\n",
       "        '2671', '347468', '2223', 'PC 17756', '315097', '392092', '11774',\n",
       "        'SOTON/O2 3101287', '2683', '315090', 'C.A. 5547', '349213',\n",
       "        '347060', 'PC 17592', '392091', '113055', '2629', '350026',\n",
       "        '28134', '17466', '233866', '236852', 'SC/PARIS 2149', 'PC 17590',\n",
       "        '345777', '349248', '695', '345765', '2667', '349212', '349217',\n",
       "        '349257', '7552', 'C.A./SOTON 34068', 'SOTON/OQ 392076', '211536',\n",
       "        '112053', '111369', '370376'], dtype=object),\n",
       " 'Cabin': array([nan, 'C85', 'C123', 'E46', 'G6', 'C103', 'D56', 'A6',\n",
       "        'C23 C25 C27', 'B78', 'D33', 'B30', 'C52', 'B28', 'C83', 'F33',\n",
       "        'F G73', 'E31', 'A5', 'D10 D12', 'D26', 'C110', 'B58 B60', 'E101',\n",
       "        'F E69', 'D47', 'B86', 'F2', 'C2', 'E33', 'B19', 'A7', 'C49', 'F4',\n",
       "        'A32', 'B4', 'B80', 'A31', 'D36', 'D15', 'C93', 'C78', 'D35',\n",
       "        'C87', 'B77', 'E67', 'B94', 'C125', 'C99', 'C118', 'D7', 'A19',\n",
       "        'B49', 'D', 'C22 C26', 'C106', 'C65', 'E36', 'C54',\n",
       "        'B57 B59 B63 B66', 'C7', 'E34', 'C32', 'B18', 'C124', 'C91', 'E40',\n",
       "        'T', 'C128', 'D37', 'B35', 'E50', 'C82', 'B96 B98', 'E10', 'E44',\n",
       "        'A34', 'C104', 'C111', 'C92', 'E38', 'D21', 'E12', 'E63', 'A14',\n",
       "        'B37', 'C30', 'D20', 'B79', 'E25', 'D46', 'B73', 'C95', 'B38',\n",
       "        'B39', 'B22', 'C86', 'C70', 'A16', 'C101', 'C68', 'A10', 'E68',\n",
       "        'B41', 'A20', 'D19', 'D50', 'D9', 'A23', 'B50', 'A26', 'D48',\n",
       "        'E58', 'C126', 'B71', 'B51 B53 B55', 'D49', 'B5', 'B20', 'F G63',\n",
       "        'C62 C64', 'E24', 'C90', 'C45', 'E8', 'B101', 'D45', 'C46', 'D30',\n",
       "        'E121', 'D11', 'E77', 'F38', 'B3', 'D6', 'B82 B84', 'D17', 'A36',\n",
       "        'B102', 'B69', 'E49', 'C47', 'D28', 'E17', 'A24', 'C50', 'B42',\n",
       "        'C148'], dtype=object),\n",
       " 'Embarked': array(['S', 'C', 'Q', nan], dtype=object)}"
      ]
     },
     "execution_count": 11,
     "metadata": {},
     "output_type": "execute_result"
    }
   ],
   "source": [
    "# Selecting only the categorical columns from the dataframe\n",
    "categorical_cols = df.select_dtypes(include=['object'])\n",
    "\n",
    "# Printing the unique levels of each categorical column\n",
    "levels = {}\n",
    "for column in categorical_cols.columns:\n",
    "    levels[column] = categorical_cols[column].unique()\n",
    "\n",
    "levels"
   ]
  },
  {
   "cell_type": "markdown",
   "metadata": {
    "colab_type": "text",
    "id": "D07cr6M5Rz8z",
    "tags": []
   },
   "source": [
    "**<font color='teal'>Create dummy features for the categorical features and add those to the 'df' dataframe. Make sure to also remove the original categorical columns from the dataframe.</font>**"
   ]
  },
  {
   "cell_type": "code",
   "execution_count": 12,
   "metadata": {
    "colab": {},
    "colab_type": "code",
    "id": "vPF6cbioRz8z"
   },
   "outputs": [
    {
     "name": "stdout",
     "output_type": "stream",
     "text": [
      "(891, 11)\n"
     ]
    },
    {
     "data": {
      "text/html": [
       "<div>\n",
       "<style scoped>\n",
       "    .dataframe tbody tr th:only-of-type {\n",
       "        vertical-align: middle;\n",
       "    }\n",
       "\n",
       "    .dataframe tbody tr th {\n",
       "        vertical-align: top;\n",
       "    }\n",
       "\n",
       "    .dataframe thead th {\n",
       "        text-align: right;\n",
       "    }\n",
       "</style>\n",
       "<table border=\"1\" class=\"dataframe\">\n",
       "  <thead>\n",
       "    <tr style=\"text-align: right;\">\n",
       "      <th></th>\n",
       "      <th>Survived</th>\n",
       "      <th>Pclass</th>\n",
       "      <th>Age</th>\n",
       "      <th>SibSp</th>\n",
       "      <th>Parch</th>\n",
       "      <th>Fare</th>\n",
       "      <th>Sex_female</th>\n",
       "      <th>Sex_male</th>\n",
       "      <th>Embarked_C</th>\n",
       "      <th>Embarked_Q</th>\n",
       "      <th>Embarked_S</th>\n",
       "    </tr>\n",
       "  </thead>\n",
       "  <tbody>\n",
       "    <tr>\n",
       "      <th>0</th>\n",
       "      <td>0</td>\n",
       "      <td>3</td>\n",
       "      <td>22.0</td>\n",
       "      <td>1</td>\n",
       "      <td>0</td>\n",
       "      <td>7.2500</td>\n",
       "      <td>0</td>\n",
       "      <td>1</td>\n",
       "      <td>0</td>\n",
       "      <td>0</td>\n",
       "      <td>1</td>\n",
       "    </tr>\n",
       "    <tr>\n",
       "      <th>1</th>\n",
       "      <td>1</td>\n",
       "      <td>1</td>\n",
       "      <td>38.0</td>\n",
       "      <td>1</td>\n",
       "      <td>0</td>\n",
       "      <td>71.2833</td>\n",
       "      <td>1</td>\n",
       "      <td>0</td>\n",
       "      <td>1</td>\n",
       "      <td>0</td>\n",
       "      <td>0</td>\n",
       "    </tr>\n",
       "    <tr>\n",
       "      <th>2</th>\n",
       "      <td>1</td>\n",
       "      <td>3</td>\n",
       "      <td>26.0</td>\n",
       "      <td>0</td>\n",
       "      <td>0</td>\n",
       "      <td>7.9250</td>\n",
       "      <td>1</td>\n",
       "      <td>0</td>\n",
       "      <td>0</td>\n",
       "      <td>0</td>\n",
       "      <td>1</td>\n",
       "    </tr>\n",
       "    <tr>\n",
       "      <th>3</th>\n",
       "      <td>1</td>\n",
       "      <td>1</td>\n",
       "      <td>35.0</td>\n",
       "      <td>1</td>\n",
       "      <td>0</td>\n",
       "      <td>53.1000</td>\n",
       "      <td>1</td>\n",
       "      <td>0</td>\n",
       "      <td>0</td>\n",
       "      <td>0</td>\n",
       "      <td>1</td>\n",
       "    </tr>\n",
       "    <tr>\n",
       "      <th>4</th>\n",
       "      <td>0</td>\n",
       "      <td>3</td>\n",
       "      <td>35.0</td>\n",
       "      <td>0</td>\n",
       "      <td>0</td>\n",
       "      <td>8.0500</td>\n",
       "      <td>0</td>\n",
       "      <td>1</td>\n",
       "      <td>0</td>\n",
       "      <td>0</td>\n",
       "      <td>1</td>\n",
       "    </tr>\n",
       "  </tbody>\n",
       "</table>\n",
       "</div>"
      ],
      "text/plain": [
       "   Survived  Pclass   Age  SibSp  Parch     Fare  Sex_female  Sex_male  \\\n",
       "0         0       3  22.0      1      0   7.2500           0         1   \n",
       "1         1       1  38.0      1      0  71.2833           1         0   \n",
       "2         1       3  26.0      0      0   7.9250           1         0   \n",
       "3         1       1  35.0      1      0  53.1000           1         0   \n",
       "4         0       3  35.0      0      0   8.0500           0         1   \n",
       "\n",
       "   Embarked_C  Embarked_Q  Embarked_S  \n",
       "0           0           0           1  \n",
       "1           1           0           0  \n",
       "2           0           0           1  \n",
       "3           0           0           1  \n",
       "4           0           0           1  "
      ]
     },
     "execution_count": 12,
     "metadata": {},
     "output_type": "execute_result"
    }
   ],
   "source": [
    "df = df.drop(['Name', 'Cabin', 'Ticket', 'PassengerId'], axis=1)\n",
    "df = pd.get_dummies(df)\n",
    "print(df.shape)\n",
    "df.head()"
   ]
  },
  {
   "cell_type": "markdown",
   "metadata": {
    "colab_type": "text",
    "id": "8kU862wQRz82",
    "tags": []
   },
   "source": [
    "**<font color='teal'>Print the null values for each column in the dataframe.</font>**"
   ]
  },
  {
   "cell_type": "code",
   "execution_count": 13,
   "metadata": {
    "colab": {},
    "colab_type": "code",
    "id": "ZV2mKhf_Rz82"
   },
   "outputs": [
    {
     "data": {
      "text/plain": [
       "Survived        0\n",
       "Pclass          0\n",
       "Age           177\n",
       "SibSp           0\n",
       "Parch           0\n",
       "Fare            0\n",
       "Sex_female      0\n",
       "Sex_male        0\n",
       "Embarked_C      0\n",
       "Embarked_Q      0\n",
       "Embarked_S      0\n",
       "dtype: int64"
      ]
     },
     "execution_count": 13,
     "metadata": {},
     "output_type": "execute_result"
    }
   ],
   "source": [
    "# Calculating the number of null values for each column in the dataframe\n",
    "null_values = df.isnull().sum()\n",
    "null_values"
   ]
  },
  {
   "cell_type": "code",
   "execution_count": 14,
   "metadata": {},
   "outputs": [
    {
     "data": {
      "text/plain": [
       "Survived      0\n",
       "Pclass        0\n",
       "Age           0\n",
       "SibSp         0\n",
       "Parch         0\n",
       "Fare          0\n",
       "Sex_female    0\n",
       "Sex_male      0\n",
       "Embarked_C    0\n",
       "Embarked_Q    0\n",
       "Embarked_S    0\n",
       "dtype: int64"
      ]
     },
     "execution_count": 14,
     "metadata": {},
     "output_type": "execute_result"
    }
   ],
   "source": [
    "# Replacing NaN values in the 'Age' column with its median\n",
    "df['Age'].fillna(df['Age'].median(), inplace=True)\n",
    "\n",
    "# Verifying if there are any null values left\n",
    "null_values_updated = df.isnull().sum()\n",
    "null_values_updated\n"
   ]
  },
  {
   "cell_type": "markdown",
   "metadata": {
    "colab_type": "text",
    "id": "zsDK9CraRz85",
    "tags": []
   },
   "source": [
    "**<font color='teal'>Create the X and y matrices from the dataframe, where y = df.Survived </font>**"
   ]
  },
  {
   "cell_type": "code",
   "execution_count": 15,
   "metadata": {
    "colab": {},
    "colab_type": "code",
    "id": "dle4w3vRRz85"
   },
   "outputs": [
    {
     "data": {
      "text/plain": [
       "(   Pclass   Age  SibSp  Parch     Fare  Sex_female  Sex_male  Embarked_C  \\\n",
       " 0       3  22.0      1      0   7.2500           0         1           0   \n",
       " 1       1  38.0      1      0  71.2833           1         0           1   \n",
       " 2       3  26.0      0      0   7.9250           1         0           0   \n",
       " 3       1  35.0      1      0  53.1000           1         0           0   \n",
       " 4       3  35.0      0      0   8.0500           0         1           0   \n",
       " \n",
       "    Embarked_Q  Embarked_S  \n",
       " 0           0           1  \n",
       " 1           0           0  \n",
       " 2           0           1  \n",
       " 3           0           1  \n",
       " 4           0           1  ,\n",
       " 0    0\n",
       " 1    1\n",
       " 2    1\n",
       " 3    1\n",
       " 4    0\n",
       " Name: Survived, dtype: int64)"
      ]
     },
     "execution_count": 15,
     "metadata": {},
     "output_type": "execute_result"
    }
   ],
   "source": [
    "# Creating the X and y matrices\n",
    "X = df.drop('Survived', axis=1)\n",
    "y = df['Survived']\n",
    "\n",
    "X.head(), y.head()\n"
   ]
  },
  {
   "cell_type": "markdown",
   "metadata": {
    "colab_type": "text",
    "id": "lT_yoTjtRz88",
    "tags": []
   },
   "source": [
    "**<font color='teal'>Apply the standard scaler to the X matrix.</font>**"
   ]
  },
  {
   "cell_type": "code",
   "execution_count": 16,
   "metadata": {
    "colab": {},
    "colab_type": "code",
    "id": "c8VoJndnRz88"
   },
   "outputs": [
    {
     "data": {
      "text/plain": [
       "array([[ 0.82737724, -0.56573646,  0.43279337, -0.47367361, -0.50244517,\n",
       "        -0.73769513,  0.73769513, -0.48204268, -0.30756234,  0.61930636],\n",
       "       [-1.56610693,  0.66386103,  0.43279337, -0.47367361,  0.78684529,\n",
       "         1.35557354, -1.35557354,  2.0745051 , -0.30756234, -1.61470971],\n",
       "       [ 0.82737724, -0.25833709, -0.4745452 , -0.47367361, -0.48885426,\n",
       "         1.35557354, -1.35557354, -0.48204268, -0.30756234,  0.61930636],\n",
       "       [-1.56610693,  0.4333115 ,  0.43279337, -0.47367361,  0.42073024,\n",
       "         1.35557354, -1.35557354, -0.48204268, -0.30756234,  0.61930636],\n",
       "       [ 0.82737724,  0.4333115 , -0.4745452 , -0.47367361, -0.48633742,\n",
       "        -0.73769513,  0.73769513, -0.48204268, -0.30756234,  0.61930636]])"
      ]
     },
     "execution_count": 16,
     "metadata": {},
     "output_type": "execute_result"
    }
   ],
   "source": [
    "# Applying the standard scaler to the X matrix\n",
    "scaler = preprocessing.StandardScaler().fit(X)\n",
    "X_scaled = scaler.transform(X)\n",
    "\n",
    "X_scaled[:5]  # Displaying the first 5 rows of the scaled X matrix"
   ]
  },
  {
   "cell_type": "markdown",
   "metadata": {
    "colab_type": "text",
    "id": "-59l61rsRz9A",
    "tags": []
   },
   "source": [
    "**<font color='teal'>Split the X_scaled and y into 75/25 training and testing data subsets..</font>**"
   ]
  },
  {
   "cell_type": "code",
   "execution_count": 17,
   "metadata": {
    "colab": {},
    "colab_type": "code",
    "id": "rJZsUA0xRz9A"
   },
   "outputs": [
    {
     "data": {
      "text/plain": [
       "((668, 10), (223, 10), (668,), (223,))"
      ]
     },
     "execution_count": 17,
     "metadata": {},
     "output_type": "execute_result"
    }
   ],
   "source": [
    "# Importing the train_test_split function\n",
    "from sklearn.model_selection import train_test_split\n",
    "\n",
    "# Splitting the X_scaled and y into 75/25 training and testing data subsets\n",
    "X_train, X_test, y_train, y_test = train_test_split(X_scaled, y, test_size=0.25, random_state=42)\n",
    "\n",
    "X_train.shape, X_test.shape, y_train.shape, y_test.shape\n"
   ]
  },
  {
   "cell_type": "markdown",
   "metadata": {
    "colab_type": "text",
    "id": "wTZIpc_KRz9C",
    "tags": []
   },
   "source": [
    "**<font color='teal'>Run the cell below to test multiple learning rates in your gradient boosting classifier.</font>**"
   ]
  },
  {
   "cell_type": "code",
   "execution_count": 18,
   "metadata": {
    "colab": {},
    "colab_type": "code",
    "id": "4ipqTcZPRz9D"
   },
   "outputs": [
    {
     "name": "stdout",
     "output_type": "stream",
     "text": [
      "Learning rate:  0.05\n",
      "Accuracy score (training): 0.798\n",
      "Accuracy score (validation): 0.789\n",
      "\n",
      "Learning rate:  0.1\n",
      "Accuracy score (training): 0.822\n",
      "Accuracy score (validation): 0.803\n",
      "\n",
      "Learning rate:  0.25\n",
      "Accuracy score (training): 0.832\n",
      "Accuracy score (validation): 0.798\n",
      "\n",
      "Learning rate:  0.5\n",
      "Accuracy score (training): 0.850\n",
      "Accuracy score (validation): 0.794\n",
      "\n",
      "Learning rate:  0.75\n",
      "Accuracy score (training): 0.853\n",
      "Accuracy score (validation): 0.807\n",
      "\n",
      "Learning rate:  1\n",
      "Accuracy score (training): 0.853\n",
      "Accuracy score (validation): 0.812\n",
      "\n"
     ]
    }
   ],
   "source": [
    "learning_rates = [0.05, 0.1, 0.25, 0.5, 0.75, 1]\n",
    "for learning_rate in learning_rates:\n",
    "    gb = GradientBoostingClassifier(n_estimators=20, learning_rate = learning_rate, max_features=2, max_depth = 2, random_state = 0)\n",
    "    gb.fit(X_train, y_train)\n",
    "    print(\"Learning rate: \", learning_rate)\n",
    "    print(\"Accuracy score (training): {0:.3f}\".format(gb.score(X_train, y_train)))\n",
    "    print(\"Accuracy score (validation): {0:.3f}\".format(gb.score(X_test, y_test)))\n",
    "    print()"
   ]
  },
  {
   "cell_type": "markdown",
   "metadata": {},
   "source": [
    "**<font color='teal'>Apply the best learning rate to the model fit and predict on the testing set. Print out the confusion matrix and the classification report to review the model performance.</font>**"
   ]
  },
  {
   "cell_type": "code",
   "execution_count": 19,
   "metadata": {},
   "outputs": [
    {
     "data": {
      "text/plain": [
       "(array([[121,  13],\n",
       "        [ 29,  60]]),\n",
       " '              precision    recall  f1-score   support\\n\\n           0       0.81      0.90      0.85       134\\n           1       0.82      0.67      0.74        89\\n\\n    accuracy                           0.81       223\\n   macro avg       0.81      0.79      0.80       223\\nweighted avg       0.81      0.81      0.81       223\\n')"
      ]
     },
     "execution_count": 19,
     "metadata": {},
     "output_type": "execute_result"
    }
   ],
   "source": [
    "# Based on the previous results, the best learning rate is 1 (gave the highest validation accuracy)\n",
    "best_learning_rate = 1\n",
    "\n",
    "# Applying the best learning rate to the model fit\n",
    "gb_best = GradientBoostingClassifier(n_estimators=20, learning_rate=best_learning_rate, \n",
    "                                     max_features=2, max_depth=2, random_state=0)\n",
    "gb_best.fit(X_train, y_train)\n",
    "\n",
    "# Predicting on the testing set\n",
    "y_pred = gb_best.predict(X_test)\n",
    "\n",
    "# Generating the confusion matrix and the classification report\n",
    "confusion_mat = confusion_matrix(y_test, y_pred)\n",
    "class_report = classification_report(y_test, y_pred)\n",
    "\n",
    "confusion_mat, class_report"
   ]
  },
  {
   "cell_type": "code",
   "execution_count": 21,
   "metadata": {},
   "outputs": [],
   "source": [
    "# Applying the best learning rate to the model fit\n",
    "gb_best = GradientBoostingClassifier(n_estimators=20, learning_rate=best_learning_rate, \n",
    "                                     max_features=2, max_depth=2, random_state=0)\n",
    "gb_best.fit(X_train, y_train)\n",
    "\n",
    "# Predicting on the testing set\n",
    "y_pred = gb_best.predict(X_test)\n",
    "\n",
    "# Generating the confusion matrix and the classification report\n",
    "confusion_mat = confusion_matrix(y_test, y_pred)\n",
    "class_report = classification_report(y_test, y_pred)"
   ]
  },
  {
   "cell_type": "code",
   "execution_count": 22,
   "metadata": {},
   "outputs": [
    {
     "data": {
      "text/plain": [
       "array([[121,  13],\n",
       "       [ 29,  60]])"
      ]
     },
     "execution_count": 22,
     "metadata": {},
     "output_type": "execute_result"
    }
   ],
   "source": [
    "confusion_mat"
   ]
  },
  {
   "cell_type": "code",
   "execution_count": 23,
   "metadata": {},
   "outputs": [
    {
     "data": {
      "text/plain": [
       "'              precision    recall  f1-score   support\\n\\n           0       0.81      0.90      0.85       134\\n           1       0.82      0.67      0.74        89\\n\\n    accuracy                           0.81       223\\n   macro avg       0.81      0.79      0.80       223\\nweighted avg       0.81      0.81      0.81       223\\n'"
      ]
     },
     "execution_count": 23,
     "metadata": {},
     "output_type": "execute_result"
    }
   ],
   "source": [
    "class_report"
   ]
  },
  {
   "cell_type": "markdown",
   "metadata": {
    "colab_type": "text",
    "id": "ezq61Ov2Rz9G",
    "tags": []
   },
   "source": [
    "**<font color='teal'>Calculate the ROC for the model as well.</font>**"
   ]
  },
  {
   "cell_type": "code",
   "execution_count": 24,
   "metadata": {
    "colab": {},
    "colab_type": "code",
    "id": "u1TGKEqCRz9L"
   },
   "outputs": [
    {
     "data": {
      "image/png": "[encoded data removed]",
      "text/plain": [
       "<Figure size 720x504 with 1 Axes>"
      ]
     },
     "metadata": {
      "needs_background": "light"
     },
     "output_type": "display_data"
    }
   ],
   "source": [
    "# Calculating the ROC (Receiver Operating Characteristic) curve and the AUC (Area Under the Curve)\n",
    "\n",
    "# First, get the prediction probabilities for the positive class (Survived)\n",
    "y_prob = gb_best.predict_proba(X_test)[:, 1]\n",
    "\n",
    "# Calculating the ROC curve values\n",
    "fpr, tpr, thresholds = roc_curve(y_test, y_prob)\n",
    "\n",
    "# Calculating the AUC\n",
    "roc_auc = auc(fpr, tpr)\n",
    "\n",
    "# Plotting the ROC curve\n",
    "plt.figure(figsize=(10, 7))\n",
    "plt.plot(fpr, tpr, color='darkorange', lw=2, label='ROC curve (area = {:.2f})'.format(roc_auc))\n",
    "plt.plot([0, 1], [0, 1], color='navy', lw=2, linestyle='--')\n",
    "plt.xlim([0.0, 1.0])\n",
    "plt.ylim([0.0, 1.05])\n",
    "plt.xlabel('False Positive Rate')\n",
    "plt.ylabel('True Positive Rate')\n",
    "plt.title('Receiver Operating Characteristic (ROC) Curve')\n",
    "plt.legend(loc=\"lower right\")\n",
    "plt.show()"
   ]
  },
  {
   "cell_type": "code",
   "execution_count": null,
   "metadata": {},
   "outputs": [],
   "source": []
  }
 ],
 "metadata": {
  "colab": {
   "name": "Gradient_Boosting_student.ipynb",
   "provenance": []
  },
  "deepnote_execution_queue": [],
  "hide_input": false,
  "kernelspec": {
   "display_name": "Python 3 (ipykernel)",
   "language": "python",
   "name": "python3"
  },
  "language_info": {
   "codemirror_mode": {
    "name": "ipython",
    "version": 3
   },
   "file_extension": ".py",
   "mimetype": "text/x-python",
   "name": "python",
   "nbconvert_exporter": "python",
   "pygments_lexer": "ipython3",
   "version": "3.9.12"
  },
  "toc": {
   "colors": {
    "hover_highlight": "#DAA520",
    "running_highlight": "#FF0000",
    "selected_highlight": "#FFD700"
   },
   "moveMenuLeft": true,
   "nav_menu": {
    "height": "78px",
    "width": "252px"
   },
   "navigate_menu": true,
   "number_sections": true,
   "sideBar": true,
   "threshold": 4,
   "toc_cell": false,
   "toc_section_display": "block",
   "toc_window_display": false
  }
 },
 "nbformat": 4,
 "nbformat_minor": 4
}
