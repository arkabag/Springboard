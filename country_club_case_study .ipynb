{
 "cells": [
  {
   "cell_type": "code",
   "execution_count": 1,
   "id": "81074cc1",
   "metadata": {
    "scrolled": true
   },
   "outputs": [
    {
     "name": "stdout",
     "output_type": "stream",
     "text": [
      "Requirement already satisfied: sqlalchemy in /Users/arka_bagchi/opt/anaconda3/lib/python3.9/site-packages (1.4.41)\n",
      "Requirement already satisfied: greenlet!=0.4.17 in /Users/arka_bagchi/opt/anaconda3/lib/python3.9/site-packages (from sqlalchemy) (1.1.1)\n"
     ]
    }
   ],
   "source": [
    "!pip install sqlalchemy"
   ]
  },
  {
   "cell_type": "code",
   "execution_count": 13,
   "id": "5833cfb8",
   "metadata": {},
   "outputs": [],
   "source": [
    "import pandas as pd\n",
    "from sqlalchemy import create_engine\n",
    "from sqlalchemy import inspect \n",
    "# Create an engine to the SQLite database\n",
    "engine = create_engine('sqlite:////Applications/MAMP/htdocs/sqlite_db_pythonsqlite.db')\n"
   ]
  },
  {
   "cell_type": "code",
   "execution_count": 14,
   "id": "8d657fb3",
   "metadata": {},
   "outputs": [
    {
     "name": "stdout",
     "output_type": "stream",
     "text": [
      "['Bookings', 'Facilities', 'Members']\n"
     ]
    }
   ],
   "source": [
    "inspector = inspect(engine)\n",
    "table_names = inspector.get_table_names()\n",
    "print(table_names)\n"
   ]
  },
  {
   "cell_type": "code",
   "execution_count": 15,
   "id": "948809a3",
   "metadata": {},
   "outputs": [],
   "source": [
    "#Q10\n",
    "query_revenue_under_1000 = \"\"\"\n",
    "    SELECT name,\n",
    "           SUM(CASE \n",
    "                   WHEN memid = 0 THEN slots * guestcost \n",
    "                   ELSE slots * membercost \n",
    "               END) AS revenue \n",
    "    FROM Bookings \n",
    "    LEFT JOIN Facilities USING(facid) \n",
    "    GROUP BY name \n",
    "    HAVING revenue < 1000 \n",
    "    ORDER BY revenue;\n",
    "\"\"\"\n",
    "\n",
    "# Using pandas to execute the SQL query and create a DataFrame\n",
    "df_revenue = pd.read_sql_query(query_revenue_under_1000, engine)\n"
   ]
  },
  {
   "cell_type": "code",
   "execution_count": 16,
   "id": "bca38f0c",
   "metadata": {},
   "outputs": [
    {
     "name": "stdout",
     "output_type": "stream",
     "text": [
      "            name  revenue\n",
      "0   Table Tennis      180\n",
      "1  Snooker Table      240\n",
      "2     Pool Table      270\n"
     ]
    }
   ],
   "source": [
    "print(df_revenue)\n"
   ]
  },
  {
   "cell_type": "code",
   "execution_count": 17,
   "id": "20b35cdb",
   "metadata": {},
   "outputs": [],
   "source": [
    "# Q11\n",
    "query_recommended_members = \"\"\"\n",
    "    SELECT a.surname || ', ' || a.firstname AS members,\n",
    "           b.surname || ', ' || b.firstname AS recommended_by \n",
    "    FROM Members a, Members b \n",
    "    WHERE a.recommendedby > 0 AND a.recommendedby = b.memid \n",
    "    ORDER BY a.surname, a.firstname;\n",
    "\"\"\"\n",
    "\n",
    "# Using pandas to execute the SQL query and create a DataFrame\n",
    "df_rec = pd.read_sql_query(query_recommended_members, engine)\n"
   ]
  },
  {
   "cell_type": "code",
   "execution_count": 18,
   "id": "47d40ffa",
   "metadata": {},
   "outputs": [
    {
     "name": "stdout",
     "output_type": "stream",
     "text": [
      "                     members      recommended_by\n",
      "0            Bader, Florence    Stibbons, Ponder\n",
      "1                Baker, Anne    Stibbons, Ponder\n",
      "2             Baker, Timothy     Farrell, Jemima\n",
      "3                Boothe, Tim         Rownam, Tim\n",
      "4            Butters, Gerald       Smith, Darren\n",
      "5               Coplin, Joan      Baker, Timothy\n",
      "6             Crumpet, Erica        Smith, Tracy\n",
      "7                Dare, Nancy    Joplette, Janice\n",
      "8           Genting, Matthew     Butters, Gerald\n",
      "9                 Hunt, John  Purview, Millicent\n",
      "10              Jones, David    Joplette, Janice\n",
      "11            Jones, Douglas        Jones, David\n",
      "12          Joplette, Janice       Smith, Darren\n",
      "13           Mackenzie, Anna       Smith, Darren\n",
      "14             Owen, Charles       Smith, Darren\n",
      "15             Pinker, David     Farrell, Jemima\n",
      "16        Purview, Millicent        Smith, Tracy\n",
      "17         Rumney, Henrietta    Genting, Matthew\n",
      "18         Sarwin, Ramnaresh     Bader, Florence\n",
      "19               Smith, Jack       Smith, Darren\n",
      "20          Stibbons, Ponder       Tracy, Burton\n",
      "21  Worthington-Smyth, Henry        Smith, Tracy\n"
     ]
    }
   ],
   "source": [
    "print(df_rec)\n"
   ]
  },
  {
   "cell_type": "code",
   "execution_count": 19,
   "id": "aeea7936",
   "metadata": {},
   "outputs": [],
   "source": [
    "# Q12\n",
    "query_facility_usage_by_members = \"\"\"\n",
    "    SELECT name AS facility, \n",
    "           firstname || ' ' || surname AS member_name,\n",
    "           COUNT(surname) AS 'usage' \n",
    "    FROM Bookings \n",
    "    LEFT JOIN Facilities USING(facid) \n",
    "    LEFT JOIN Members USING(memid) \n",
    "    WHERE memid != 0 \n",
    "    GROUP BY name, member_name;\n",
    "\"\"\"\n",
    "\n",
    "# Using pandas to execute the SQL query and create a DataFrame\n",
    "df_usage = pd.read_sql_query(query_facility_usage_by_members, engine)\n"
   ]
  },
  {
   "cell_type": "code",
   "execution_count": 20,
   "id": "05a67a6f",
   "metadata": {},
   "outputs": [
    {
     "name": "stdout",
     "output_type": "stream",
     "text": [
      "            facility       member_name  usage\n",
      "0    Badminton Court    Anna Mackenzie     30\n",
      "1    Badminton Court        Anne Baker     10\n",
      "2    Badminton Court      Burton Tracy      2\n",
      "3    Badminton Court      Charles Owen      6\n",
      "4    Badminton Court      Darren Smith    132\n",
      "..               ...               ...    ...\n",
      "197   Tennis Court 2  Ramnaresh Sarwin     11\n",
      "198   Tennis Court 2        Tim Boothe     52\n",
      "199   Tennis Court 2        Tim Rownam      6\n",
      "200   Tennis Court 2     Timothy Baker      7\n",
      "201   Tennis Court 2       Tracy Smith      2\n",
      "\n",
      "[202 rows x 3 columns]\n"
     ]
    }
   ],
   "source": [
    "print(df_usage)\n"
   ]
  },
  {
   "cell_type": "code",
   "execution_count": 22,
   "id": "96b7414f",
   "metadata": {},
   "outputs": [],
   "source": [
    "#Q13\n",
    "query_facility_usage_by_month = \"\"\"\n",
    "    SELECT strftime('%m', starttime) AS month, \n",
    "           name AS facility, \n",
    "           COUNT(name) AS 'usage' \n",
    "    FROM Bookings \n",
    "    LEFT JOIN Facilities USING(facid) \n",
    "    WHERE memid != 0 \n",
    "    GROUP BY month, name;\n",
    "\"\"\"\n",
    "\n",
    "# Using pandas to execute the SQL query and create a DataFrame\n",
    "df_month = pd.read_sql_query(query_facility_usage_by_month, engine)\n"
   ]
  },
  {
   "cell_type": "code",
   "execution_count": 23,
   "id": "30cee2d9",
   "metadata": {},
   "outputs": [
    {
     "name": "stdout",
     "output_type": "stream",
     "text": [
      "   month         facility  usage\n",
      "0     07  Badminton Court     51\n",
      "1     07   Massage Room 1     77\n",
      "2     07   Massage Room 2      4\n",
      "3     07       Pool Table    103\n",
      "4     07    Snooker Table     68\n",
      "5     07     Squash Court     23\n",
      "6     07     Table Tennis     48\n",
      "7     07   Tennis Court 1     65\n",
      "8     07   Tennis Court 2     41\n",
      "9     08  Badminton Court    132\n",
      "10    08   Massage Room 1    153\n",
      "11    08   Massage Room 2      9\n",
      "12    08       Pool Table    272\n",
      "13    08    Snooker Table    154\n",
      "14    08     Squash Court     85\n",
      "15    08     Table Tennis    143\n",
      "16    08   Tennis Court 1    111\n",
      "17    08   Tennis Court 2    109\n",
      "18    09  Badminton Court    161\n",
      "19    09   Massage Room 1    191\n",
      "20    09   Massage Room 2     14\n",
      "21    09       Pool Table    408\n",
      "22    09    Snooker Table    199\n",
      "23    09     Squash Court     87\n",
      "24    09     Table Tennis    194\n",
      "25    09   Tennis Court 1    132\n",
      "26    09   Tennis Court 2    126\n"
     ]
    }
   ],
   "source": [
    "print(df_month)\n"
   ]
  },
  {
   "cell_type": "code",
   "execution_count": null,
   "id": "89c72f58",
   "metadata": {},
   "outputs": [],
   "source": []
  }
 ],
 "metadata": {
  "kernelspec": {
   "display_name": "Python 3 (ipykernel)",
   "language": "python",
   "name": "python3"
  },
  "language_info": {
   "codemirror_mode": {
    "name": "ipython",
    "version": 3
   },
   "file_extension": ".py",
   "mimetype": "text/x-python",
   "name": "python",
   "nbconvert_exporter": "python",
   "pygments_lexer": "ipython3",
   "version": "3.9.12"
  }
 },
 "nbformat": 4,
 "nbformat_minor": 5
}
