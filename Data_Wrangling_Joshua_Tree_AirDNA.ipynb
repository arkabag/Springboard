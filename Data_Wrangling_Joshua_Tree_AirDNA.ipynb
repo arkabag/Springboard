{
 "cells": [
  {
   "cell_type": "code",
   "execution_count": 6,
   "id": "6bcd3c22",
   "metadata": {},
   "outputs": [
    {
     "data": {
      "text/html": [
       "<div>\n",
       "<style scoped>\n",
       "    .dataframe tbody tr th:only-of-type {\n",
       "        vertical-align: middle;\n",
       "    }\n",
       "\n",
       "    .dataframe tbody tr th {\n",
       "        vertical-align: top;\n",
       "    }\n",
       "\n",
       "    .dataframe thead th {\n",
       "        text-align: right;\n",
       "    }\n",
       "</style>\n",
       "<table border=\"1\" class=\"dataframe\">\n",
       "  <thead>\n",
       "    <tr style=\"text-align: right;\">\n",
       "      <th></th>\n",
       "      <th>longitude</th>\n",
       "      <th>Has Parking</th>\n",
       "      <th>Cancellation Policy</th>\n",
       "      <th>Airbnb Communication Rating</th>\n",
       "      <th>Has Hot Tub</th>\n",
       "      <th>country</th>\n",
       "      <th>city</th>\n",
       "      <th>bedrooms</th>\n",
       "      <th>Airbnb Accuracy Rating</th>\n",
       "      <th>Published Weekly Rate</th>\n",
       "      <th>...</th>\n",
       "      <th>Response Time</th>\n",
       "      <th>Property Manager</th>\n",
       "      <th>Number of Reviews</th>\n",
       "      <th>Number of Photos</th>\n",
       "      <th>Number of Bookings LTM</th>\n",
       "      <th>latitude</th>\n",
       "      <th>Extra People Fee</th>\n",
       "      <th>Count Blocked Days LTM</th>\n",
       "      <th>Count Available Days LTM</th>\n",
       "      <th>zipcode</th>\n",
       "    </tr>\n",
       "  </thead>\n",
       "  <tbody>\n",
       "    <tr>\n",
       "      <th>0</th>\n",
       "      <td>-116.412131</td>\n",
       "      <td>True</td>\n",
       "      <td>strict</td>\n",
       "      <td>10.0</td>\n",
       "      <td>False</td>\n",
       "      <td>United States</td>\n",
       "      <td>Rancho Mirage</td>\n",
       "      <td>1.0</td>\n",
       "      <td>10.0</td>\n",
       "      <td>2975.0</td>\n",
       "      <td>...</td>\n",
       "      <td>1.0</td>\n",
       "      <td>NaN</td>\n",
       "      <td>1.0</td>\n",
       "      <td>3.0</td>\n",
       "      <td>NaN</td>\n",
       "      <td>33.800909</td>\n",
       "      <td>0.0</td>\n",
       "      <td>NaN</td>\n",
       "      <td>NaN</td>\n",
       "      <td>92270</td>\n",
       "    </tr>\n",
       "    <tr>\n",
       "      <th>1</th>\n",
       "      <td>-116.343878</td>\n",
       "      <td>True</td>\n",
       "      <td>moderate</td>\n",
       "      <td>10.0</td>\n",
       "      <td>False</td>\n",
       "      <td>United States</td>\n",
       "      <td>Palm Desert</td>\n",
       "      <td>1.0</td>\n",
       "      <td>10.0</td>\n",
       "      <td>945.0</td>\n",
       "      <td>...</td>\n",
       "      <td>5094.0</td>\n",
       "      <td>NaN</td>\n",
       "      <td>6.0</td>\n",
       "      <td>6.0</td>\n",
       "      <td>NaN</td>\n",
       "      <td>33.764745</td>\n",
       "      <td>0.0</td>\n",
       "      <td>NaN</td>\n",
       "      <td>NaN</td>\n",
       "      <td>92211</td>\n",
       "    </tr>\n",
       "    <tr>\n",
       "      <th>2</th>\n",
       "      <td>-116.419236</td>\n",
       "      <td>True</td>\n",
       "      <td>super strict</td>\n",
       "      <td>NaN</td>\n",
       "      <td>True</td>\n",
       "      <td>United States</td>\n",
       "      <td>Rancho Mirage</td>\n",
       "      <td>3.0</td>\n",
       "      <td>NaN</td>\n",
       "      <td>6993.0</td>\n",
       "      <td>...</td>\n",
       "      <td>1373.5</td>\n",
       "      <td>Acme House</td>\n",
       "      <td>NaN</td>\n",
       "      <td>46.0</td>\n",
       "      <td>NaN</td>\n",
       "      <td>33.740625</td>\n",
       "      <td>0.0</td>\n",
       "      <td>NaN</td>\n",
       "      <td>NaN</td>\n",
       "      <td>92270</td>\n",
       "    </tr>\n",
       "    <tr>\n",
       "      <th>3</th>\n",
       "      <td>-116.479801</td>\n",
       "      <td>True</td>\n",
       "      <td>strict</td>\n",
       "      <td>NaN</td>\n",
       "      <td>True</td>\n",
       "      <td>United States</td>\n",
       "      <td>Cathedral City</td>\n",
       "      <td>1.0</td>\n",
       "      <td>NaN</td>\n",
       "      <td>1043.0</td>\n",
       "      <td>...</td>\n",
       "      <td>36045.0</td>\n",
       "      <td>NaN</td>\n",
       "      <td>NaN</td>\n",
       "      <td>8.0</td>\n",
       "      <td>NaN</td>\n",
       "      <td>33.829792</td>\n",
       "      <td>0.0</td>\n",
       "      <td>NaN</td>\n",
       "      <td>NaN</td>\n",
       "      <td>92234</td>\n",
       "    </tr>\n",
       "    <tr>\n",
       "      <th>4</th>\n",
       "      <td>-116.447929</td>\n",
       "      <td>True</td>\n",
       "      <td>flexible</td>\n",
       "      <td>NaN</td>\n",
       "      <td>False</td>\n",
       "      <td>United States</td>\n",
       "      <td>Cathedral City</td>\n",
       "      <td>2.0</td>\n",
       "      <td>NaN</td>\n",
       "      <td>2800.0</td>\n",
       "      <td>...</td>\n",
       "      <td>24151.0</td>\n",
       "      <td>NaN</td>\n",
       "      <td>NaN</td>\n",
       "      <td>5.0</td>\n",
       "      <td>NaN</td>\n",
       "      <td>33.776997</td>\n",
       "      <td>0.0</td>\n",
       "      <td>NaN</td>\n",
       "      <td>NaN</td>\n",
       "      <td>92234</td>\n",
       "    </tr>\n",
       "  </tbody>\n",
       "</table>\n",
       "<p>5 rows × 48 columns</p>\n",
       "</div>"
      ],
      "text/plain": [
       "    longitude  Has Parking Cancellation Policy  Airbnb Communication Rating  \\\n",
       "0 -116.412131         True              strict                         10.0   \n",
       "1 -116.343878         True            moderate                         10.0   \n",
       "2 -116.419236         True        super strict                          NaN   \n",
       "3 -116.479801         True              strict                          NaN   \n",
       "4 -116.447929         True            flexible                          NaN   \n",
       "\n",
       "   Has Hot Tub        country            city  bedrooms  \\\n",
       "0        False  United States   Rancho Mirage       1.0   \n",
       "1        False  United States     Palm Desert       1.0   \n",
       "2         True  United States   Rancho Mirage       3.0   \n",
       "3         True  United States  Cathedral City       1.0   \n",
       "4        False  United States  Cathedral City       2.0   \n",
       "\n",
       "   Airbnb Accuracy Rating  Published Weekly Rate  ... Response Time  \\\n",
       "0                    10.0                 2975.0  ...           1.0   \n",
       "1                    10.0                  945.0  ...        5094.0   \n",
       "2                     NaN                 6993.0  ...        1373.5   \n",
       "3                     NaN                 1043.0  ...       36045.0   \n",
       "4                     NaN                 2800.0  ...       24151.0   \n",
       "\n",
       "   Property Manager Number of Reviews  Number of Photos  \\\n",
       "0               NaN               1.0               3.0   \n",
       "1               NaN               6.0               6.0   \n",
       "2        Acme House               NaN              46.0   \n",
       "3               NaN               NaN               8.0   \n",
       "4               NaN               NaN               5.0   \n",
       "\n",
       "  Number of Bookings LTM   latitude  Extra People Fee  Count Blocked Days LTM  \\\n",
       "0                    NaN  33.800909               0.0                     NaN   \n",
       "1                    NaN  33.764745               0.0                     NaN   \n",
       "2                    NaN  33.740625               0.0                     NaN   \n",
       "3                    NaN  33.829792               0.0                     NaN   \n",
       "4                    NaN  33.776997               0.0                     NaN   \n",
       "\n",
       "   Count Available Days LTM  zipcode  \n",
       "0                       NaN    92270  \n",
       "1                       NaN    92211  \n",
       "2                       NaN    92270  \n",
       "3                       NaN    92234  \n",
       "4                       NaN    92234  \n",
       "\n",
       "[5 rows x 48 columns]"
      ]
     },
     "execution_count": 6,
     "metadata": {},
     "output_type": "execute_result"
    }
   ],
   "source": [
    "import pandas as pd\n",
    "\n",
    "# Load the dataset\n",
    "df = pd.read_csv('/Users/arka_bagchi/Desktop/AirDNA/joshua_tree_data.csv')\n",
    "\n",
    "# Display the first few rows of the dataset to ensure it has been loaded correctly\n",
    "df.head()\n"
   ]
  },
  {
   "cell_type": "markdown",
   "id": "a30a3c3a",
   "metadata": {},
   "source": [
    "First, we will look at the dataset size and shape. Then we will look at the columns and data types."
   ]
  },
  {
   "cell_type": "code",
   "execution_count": 7,
   "id": "c2ecdb96",
   "metadata": {},
   "outputs": [
    {
     "name": "stdout",
     "output_type": "stream",
     "text": [
      "<class 'pandas.core.frame.DataFrame'>\n",
      "RangeIndex: 16278 entries, 0 to 16277\n",
      "Data columns (total 48 columns):\n",
      " #   Column                       Non-Null Count  Dtype  \n",
      "---  ------                       --------------  -----  \n",
      " 0   longitude                    16278 non-null  float64\n",
      " 1   Has Parking                  16278 non-null  bool   \n",
      " 2   Cancellation Policy          14610 non-null  object \n",
      " 3   Airbnb Communication Rating  9739 non-null   float64\n",
      " 4   Has Hot Tub                  16278 non-null  bool   \n",
      " 5   country                      16278 non-null  object \n",
      " 6   city                         16278 non-null  object \n",
      " 7   bedrooms                     16086 non-null  float64\n",
      " 8   Airbnb Accuracy Rating       9740 non-null   float64\n",
      " 9   Published Weekly Rate        7071 non-null   float64\n",
      " 10  neighborhood                 2703 non-null   object \n",
      " 11  Airbnb Location Rating       9734 non-null   float64\n",
      " 12  AirDNA Market                16278 non-null  object \n",
      " 13  adr                          9193 non-null   float64\n",
      " 14  VRBO Property ID             4983 non-null   object \n",
      " 15  Response Rate                13913 non-null  float64\n",
      " 16  Published Monthly Rate       7072 non-null   float64\n",
      " 17  Pets Allowed                 16278 non-null  bool   \n",
      " 18  Occupancy Rate LTM           9193 non-null   float64\n",
      " 19  Max Guests                   16273 non-null  float64\n",
      " 20  Listing Type                 16276 non-null  object \n",
      " 21  Host Type                    16278 non-null  object \n",
      " 22  Has Pool                     16278 non-null  bool   \n",
      " 23  Created Date                 16278 non-null  object \n",
      " 24  bathrooms                    16227 non-null  float64\n",
      " 25  Property ID                  16278 non-null  object \n",
      " 26  Overall Rating               10817 non-null  float64\n",
      " 27  Minimum Stay                 16048 non-null  float64\n",
      " 28  Location Type                16278 non-null  object \n",
      " 29  license                      2328 non-null   object \n",
      " 30  Exact Location               3512 non-null   object \n",
      " 31  Cleaning Fee                 14265 non-null  float64\n",
      " 32  Price Tier                   13989 non-null  object \n",
      " 33  Listing URL                  16278 non-null  object \n",
      " 34  Has Kitchen                  16278 non-null  bool   \n",
      " 35  currency                     16278 non-null  object \n",
      " 36  Count Reservation Days LTM   9193 non-null   float64\n",
      " 37  Airbnb Checkin Rating        9733 non-null   float64\n",
      " 38  Response Time                5774 non-null   float64\n",
      " 39  Property Manager             2478 non-null   object \n",
      " 40  Number of Reviews            11131 non-null  float64\n",
      " 41  Number of Photos             16220 non-null  float64\n",
      " 42  Number of Bookings LTM       9193 non-null   float64\n",
      " 43  latitude                     16278 non-null  float64\n",
      " 44  Extra People Fee             6671 non-null   float64\n",
      " 45  Count Blocked Days LTM       9193 non-null   float64\n",
      " 46  Count Available Days LTM     9193 non-null   float64\n",
      " 47  zipcode                      16278 non-null  int64  \n",
      "dtypes: bool(5), float64(25), int64(1), object(17)\n",
      "memory usage: 5.4+ MB\n"
     ]
    },
    {
     "data": {
      "text/plain": [
       "((16278, 48), None)"
      ]
     },
     "execution_count": 7,
     "metadata": {},
     "output_type": "execute_result"
    }
   ],
   "source": [
    "# Checking the size and shape of the dataset\n",
    "df_shape = df.shape\n",
    "\n",
    "# Checking the columns and their data types\n",
    "df_info = df.info()\n",
    "\n",
    "df_shape, df_info\n"
   ]
  },
  {
   "cell_type": "markdown",
   "id": "b5014863",
   "metadata": {},
   "source": [
    "The dataset has 16,278 rows and 48 columns.\n",
    "\n",
    "Here's a breakdown of the columns and their data types:\n",
    "\n",
    "Numerical (Float64): 25 columns\n",
    "\n",
    "Object (String): 17 columns\n",
    "\n",
    "Boolean: 5 columns\n",
    "\n",
    "Integer (Int64): 1 column"
   ]
  },
  {
   "cell_type": "markdown",
   "id": "7512b95a",
   "metadata": {},
   "source": [
    "This is a pretty rough dataset with lots of missing values - let us truly dive into the nature of this dirty dataset."
   ]
  },
  {
   "cell_type": "code",
   "execution_count": 8,
   "id": "4fe4172b",
   "metadata": {},
   "outputs": [
    {
     "data": {
      "text/plain": [
       "license                        0.856985\n",
       "Property Manager               0.847770\n",
       "neighborhood                   0.833948\n",
       "Exact Location                 0.784249\n",
       "VRBO Property ID               0.693881\n",
       "Response Time                  0.645288\n",
       "Extra People Fee               0.590183\n",
       "Published Weekly Rate          0.565610\n",
       "Published Monthly Rate         0.565549\n",
       "adr                            0.435250\n",
       "Occupancy Rate LTM             0.435250\n",
       "Count Reservation Days LTM     0.435250\n",
       "Number of Bookings LTM         0.435250\n",
       "Count Blocked Days LTM         0.435250\n",
       "Count Available Days LTM       0.435250\n",
       "Airbnb Checkin Rating          0.402076\n",
       "Airbnb Location Rating         0.402015\n",
       "Airbnb Communication Rating    0.401708\n",
       "Airbnb Accuracy Rating         0.401646\n",
       "Overall Rating                 0.335483\n",
       "Number of Reviews              0.316194\n",
       "Response Rate                  0.145288\n",
       "Price Tier                     0.140619\n",
       "Cleaning Fee                   0.123664\n",
       "Cancellation Policy            0.102470\n",
       "Minimum Stay                   0.014129\n",
       "bedrooms                       0.011795\n",
       "Number of Photos               0.003563\n",
       "bathrooms                      0.003133\n",
       "Max Guests                     0.000307\n",
       "Listing Type                   0.000123\n",
       "Has Kitchen                    0.000000\n",
       "latitude                       0.000000\n",
       "currency                       0.000000\n",
       "longitude                      0.000000\n",
       "Listing URL                    0.000000\n",
       "Location Type                  0.000000\n",
       "Property ID                    0.000000\n",
       "Has Parking                    0.000000\n",
       "Created Date                   0.000000\n",
       "Has Pool                       0.000000\n",
       "Host Type                      0.000000\n",
       "Pets Allowed                   0.000000\n",
       "AirDNA Market                  0.000000\n",
       "city                           0.000000\n",
       "country                        0.000000\n",
       "Has Hot Tub                    0.000000\n",
       "zipcode                        0.000000\n",
       "dtype: float64"
      ]
     },
     "execution_count": 8,
     "metadata": {},
     "output_type": "execute_result"
    }
   ],
   "source": [
    "# Calculate the proportion of missing values for each column\n",
    "missing_values_proportion = df.isnull().mean()\n",
    "\n",
    "# Sort the columns by their proportion of missing values in descending order\n",
    "sorted_missing_values = missing_values_proportion.sort_values(ascending=False)\n",
    "\n",
    "sorted_missing_values"
   ]
  },
  {
   "cell_type": "markdown",
   "id": "800c4580",
   "metadata": {},
   "source": [
    "This list helps us understand which columns have a significant proportion of missing data. Depending on the analysis goals and the significance of each feature, we can decide on appropriate strategies to handle these missing values."
   ]
  },
  {
   "cell_type": "markdown",
   "id": "7a899a75",
   "metadata": {},
   "source": [
    "Our focus will be location based analysis. We are going to be trying characterize the rental landscape in the Joshua Tree region. Therefore, it is good that location features such as long/lat and zipcode are not missing any values. \n",
    "\n",
    "Given the focus on location, we'll certainly retain longitude, latitude, and zipcode. Additionally, columns like city, neighborhood, and Exact Location might provide more granular insight into location-specific trends.\n",
    "\n",
    "Potential Target Variables: adr, Occupancy Rate LTM, and Overall Rating are potential targets for modeling. We'll retain them but might need strategies to handle their missing values.\n",
    "\n",
    "Columns with very high missing values and low relevance to the project goal can be dropped. For instance, license, Property Manager, VRBO Property ID, etc."
   ]
  },
  {
   "cell_type": "markdown",
   "id": "83aa3dd8",
   "metadata": {},
   "source": [
    "Given the dataset and the project's focus on location-based analysis, I'll list the columns that might be less relevant or have too many missing values. For each of these columns, we'll explore their data types and unique values to make an informed decision."
   ]
  },
  {
   "cell_type": "markdown",
   "id": "e98962ee",
   "metadata": {},
   "source": [
    "VRBO Property ID: Contains specific property IDs from VRBO (a vacation rental platform). Given that we are focusing primarily on Airbnb data and the large proportion of missing values, it's a candidate for removal.\n",
    "\n",
    "Property Manager: This column has a vast array of different property managers. While this could be useful for some analyses, it's mostly missing and may not be essential for our location-based focus.\n",
    "\n",
    "Response Time: It seems to have continuous values, possibly indicating the time taken by the property owner/manager to respond. Given the high proportion of missing values, we can consider dropping it.\n",
    "\n",
    "Extra People Fee: Represents additional fees for extra people. A significant proportion of these values are missing, and it might not be crucial for location-based analysis.\n",
    "\n",
    "Exact Location: This is a binary column, indicating whether the exact location of the property is provided or not. The majority of the values are missing, so it may not be essential.\n",
    "\n",
    "license: Contains licensing information for the properties. A significant portion of this column is missing."
   ]
  },
  {
   "cell_type": "code",
   "execution_count": 9,
   "id": "8bc0391c",
   "metadata": {},
   "outputs": [
    {
     "data": {
      "text/html": [
       "<div>\n",
       "<style scoped>\n",
       "    .dataframe tbody tr th:only-of-type {\n",
       "        vertical-align: middle;\n",
       "    }\n",
       "\n",
       "    .dataframe tbody tr th {\n",
       "        vertical-align: top;\n",
       "    }\n",
       "\n",
       "    .dataframe thead th {\n",
       "        text-align: right;\n",
       "    }\n",
       "</style>\n",
       "<table border=\"1\" class=\"dataframe\">\n",
       "  <thead>\n",
       "    <tr style=\"text-align: right;\">\n",
       "      <th></th>\n",
       "      <th>longitude</th>\n",
       "      <th>Has Parking</th>\n",
       "      <th>Cancellation Policy</th>\n",
       "      <th>Airbnb Communication Rating</th>\n",
       "      <th>Has Hot Tub</th>\n",
       "      <th>country</th>\n",
       "      <th>city</th>\n",
       "      <th>bedrooms</th>\n",
       "      <th>Airbnb Accuracy Rating</th>\n",
       "      <th>Published Weekly Rate</th>\n",
       "      <th>...</th>\n",
       "      <th>currency</th>\n",
       "      <th>Count Reservation Days LTM</th>\n",
       "      <th>Airbnb Checkin Rating</th>\n",
       "      <th>Number of Reviews</th>\n",
       "      <th>Number of Photos</th>\n",
       "      <th>Number of Bookings LTM</th>\n",
       "      <th>latitude</th>\n",
       "      <th>Count Blocked Days LTM</th>\n",
       "      <th>Count Available Days LTM</th>\n",
       "      <th>zipcode</th>\n",
       "    </tr>\n",
       "  </thead>\n",
       "  <tbody>\n",
       "    <tr>\n",
       "      <th>0</th>\n",
       "      <td>-116.412131</td>\n",
       "      <td>True</td>\n",
       "      <td>strict</td>\n",
       "      <td>10.0</td>\n",
       "      <td>False</td>\n",
       "      <td>United States</td>\n",
       "      <td>Rancho Mirage</td>\n",
       "      <td>1.0</td>\n",
       "      <td>10.0</td>\n",
       "      <td>2975.0</td>\n",
       "      <td>...</td>\n",
       "      <td>usd</td>\n",
       "      <td>NaN</td>\n",
       "      <td>10.0</td>\n",
       "      <td>1.0</td>\n",
       "      <td>3.0</td>\n",
       "      <td>NaN</td>\n",
       "      <td>33.800909</td>\n",
       "      <td>NaN</td>\n",
       "      <td>NaN</td>\n",
       "      <td>92270</td>\n",
       "    </tr>\n",
       "    <tr>\n",
       "      <th>1</th>\n",
       "      <td>-116.343878</td>\n",
       "      <td>True</td>\n",
       "      <td>moderate</td>\n",
       "      <td>10.0</td>\n",
       "      <td>False</td>\n",
       "      <td>United States</td>\n",
       "      <td>Palm Desert</td>\n",
       "      <td>1.0</td>\n",
       "      <td>10.0</td>\n",
       "      <td>945.0</td>\n",
       "      <td>...</td>\n",
       "      <td>usd</td>\n",
       "      <td>NaN</td>\n",
       "      <td>10.0</td>\n",
       "      <td>6.0</td>\n",
       "      <td>6.0</td>\n",
       "      <td>NaN</td>\n",
       "      <td>33.764745</td>\n",
       "      <td>NaN</td>\n",
       "      <td>NaN</td>\n",
       "      <td>92211</td>\n",
       "    </tr>\n",
       "    <tr>\n",
       "      <th>2</th>\n",
       "      <td>-116.419236</td>\n",
       "      <td>True</td>\n",
       "      <td>super strict</td>\n",
       "      <td>NaN</td>\n",
       "      <td>True</td>\n",
       "      <td>United States</td>\n",
       "      <td>Rancho Mirage</td>\n",
       "      <td>3.0</td>\n",
       "      <td>NaN</td>\n",
       "      <td>6993.0</td>\n",
       "      <td>...</td>\n",
       "      <td>usd</td>\n",
       "      <td>NaN</td>\n",
       "      <td>NaN</td>\n",
       "      <td>NaN</td>\n",
       "      <td>46.0</td>\n",
       "      <td>NaN</td>\n",
       "      <td>33.740625</td>\n",
       "      <td>NaN</td>\n",
       "      <td>NaN</td>\n",
       "      <td>92270</td>\n",
       "    </tr>\n",
       "    <tr>\n",
       "      <th>3</th>\n",
       "      <td>-116.479801</td>\n",
       "      <td>True</td>\n",
       "      <td>strict</td>\n",
       "      <td>NaN</td>\n",
       "      <td>True</td>\n",
       "      <td>United States</td>\n",
       "      <td>Cathedral City</td>\n",
       "      <td>1.0</td>\n",
       "      <td>NaN</td>\n",
       "      <td>1043.0</td>\n",
       "      <td>...</td>\n",
       "      <td>usd</td>\n",
       "      <td>NaN</td>\n",
       "      <td>NaN</td>\n",
       "      <td>NaN</td>\n",
       "      <td>8.0</td>\n",
       "      <td>NaN</td>\n",
       "      <td>33.829792</td>\n",
       "      <td>NaN</td>\n",
       "      <td>NaN</td>\n",
       "      <td>92234</td>\n",
       "    </tr>\n",
       "    <tr>\n",
       "      <th>4</th>\n",
       "      <td>-116.447929</td>\n",
       "      <td>True</td>\n",
       "      <td>flexible</td>\n",
       "      <td>NaN</td>\n",
       "      <td>False</td>\n",
       "      <td>United States</td>\n",
       "      <td>Cathedral City</td>\n",
       "      <td>2.0</td>\n",
       "      <td>NaN</td>\n",
       "      <td>2800.0</td>\n",
       "      <td>...</td>\n",
       "      <td>usd</td>\n",
       "      <td>NaN</td>\n",
       "      <td>NaN</td>\n",
       "      <td>NaN</td>\n",
       "      <td>5.0</td>\n",
       "      <td>NaN</td>\n",
       "      <td>33.776997</td>\n",
       "      <td>NaN</td>\n",
       "      <td>NaN</td>\n",
       "      <td>92234</td>\n",
       "    </tr>\n",
       "  </tbody>\n",
       "</table>\n",
       "<p>5 rows × 42 columns</p>\n",
       "</div>"
      ],
      "text/plain": [
       "    longitude  Has Parking Cancellation Policy  Airbnb Communication Rating  \\\n",
       "0 -116.412131         True              strict                         10.0   \n",
       "1 -116.343878         True            moderate                         10.0   \n",
       "2 -116.419236         True        super strict                          NaN   \n",
       "3 -116.479801         True              strict                          NaN   \n",
       "4 -116.447929         True            flexible                          NaN   \n",
       "\n",
       "   Has Hot Tub        country            city  bedrooms  \\\n",
       "0        False  United States   Rancho Mirage       1.0   \n",
       "1        False  United States     Palm Desert       1.0   \n",
       "2         True  United States   Rancho Mirage       3.0   \n",
       "3         True  United States  Cathedral City       1.0   \n",
       "4        False  United States  Cathedral City       2.0   \n",
       "\n",
       "   Airbnb Accuracy Rating  Published Weekly Rate  ... currency  \\\n",
       "0                    10.0                 2975.0  ...      usd   \n",
       "1                    10.0                  945.0  ...      usd   \n",
       "2                     NaN                 6993.0  ...      usd   \n",
       "3                     NaN                 1043.0  ...      usd   \n",
       "4                     NaN                 2800.0  ...      usd   \n",
       "\n",
       "   Count Reservation Days LTM Airbnb Checkin Rating  Number of Reviews  \\\n",
       "0                         NaN                  10.0                1.0   \n",
       "1                         NaN                  10.0                6.0   \n",
       "2                         NaN                   NaN                NaN   \n",
       "3                         NaN                   NaN                NaN   \n",
       "4                         NaN                   NaN                NaN   \n",
       "\n",
       "   Number of Photos  Number of Bookings LTM   latitude  \\\n",
       "0               3.0                     NaN  33.800909   \n",
       "1               6.0                     NaN  33.764745   \n",
       "2              46.0                     NaN  33.740625   \n",
       "3               8.0                     NaN  33.829792   \n",
       "4               5.0                     NaN  33.776997   \n",
       "\n",
       "   Count Blocked Days LTM  Count Available Days LTM zipcode  \n",
       "0                     NaN                       NaN   92270  \n",
       "1                     NaN                       NaN   92211  \n",
       "2                     NaN                       NaN   92270  \n",
       "3                     NaN                       NaN   92234  \n",
       "4                     NaN                       NaN   92234  \n",
       "\n",
       "[5 rows x 42 columns]"
      ]
     },
     "execution_count": 9,
     "metadata": {},
     "output_type": "execute_result"
    }
   ],
   "source": [
    "# List of columns to drop\n",
    "columns_to_drop = [\"VRBO Property ID\", \"Property Manager\", \"Response Time\", \"Extra People Fee\", \"Exact Location\", \"license\"]\n",
    "\n",
    "# Drop the columns\n",
    "df = df.drop(columns=columns_to_drop)\n",
    "\n",
    "# Display the updated dataframe\n",
    "df.head()\n"
   ]
  },
  {
   "cell_type": "code",
   "execution_count": 11,
   "id": "fe32a5e6",
   "metadata": {},
   "outputs": [
    {
     "data": {
      "text/plain": [
       "(16278, 42)"
      ]
     },
     "execution_count": 11,
     "metadata": {},
     "output_type": "execute_result"
    }
   ],
   "source": [
    "df.shape"
   ]
  },
  {
   "cell_type": "code",
   "execution_count": 12,
   "id": "15ab7186",
   "metadata": {},
   "outputs": [
    {
     "data": {
      "text/plain": [
       "neighborhood                   0.833948\n",
       "Published Weekly Rate          0.565610\n",
       "Published Monthly Rate         0.565549\n",
       "Occupancy Rate LTM             0.435250\n",
       "Count Available Days LTM       0.435250\n",
       "Count Blocked Days LTM         0.435250\n",
       "Count Reservation Days LTM     0.435250\n",
       "Number of Bookings LTM         0.435250\n",
       "adr                            0.435250\n",
       "Airbnb Checkin Rating          0.402076\n",
       "Airbnb Location Rating         0.402015\n",
       "Airbnb Communication Rating    0.401708\n",
       "Airbnb Accuracy Rating         0.401646\n",
       "Overall Rating                 0.335483\n",
       "Number of Reviews              0.316194\n",
       "Response Rate                  0.145288\n",
       "Price Tier                     0.140619\n",
       "Cleaning Fee                   0.123664\n",
       "Cancellation Policy            0.102470\n",
       "Minimum Stay                   0.014129\n",
       "bedrooms                       0.011795\n",
       "Number of Photos               0.003563\n",
       "bathrooms                      0.003133\n",
       "Max Guests                     0.000307\n",
       "Listing Type                   0.000123\n",
       "Listing URL                    0.000000\n",
       "latitude                       0.000000\n",
       "currency                       0.000000\n",
       "Has Kitchen                    0.000000\n",
       "longitude                      0.000000\n",
       "Has Pool                       0.000000\n",
       "Location Type                  0.000000\n",
       "Property ID                    0.000000\n",
       "Created Date                   0.000000\n",
       "Has Parking                    0.000000\n",
       "Host Type                      0.000000\n",
       "Pets Allowed                   0.000000\n",
       "AirDNA Market                  0.000000\n",
       "city                           0.000000\n",
       "country                        0.000000\n",
       "Has Hot Tub                    0.000000\n",
       "zipcode                        0.000000\n",
       "dtype: float64"
      ]
     },
     "execution_count": 12,
     "metadata": {},
     "output_type": "execute_result"
    }
   ],
   "source": [
    "# Calculate the proportion of missing values for each column\n",
    "missing_proportions = df.isnull().mean().sort_values(ascending=False)\n",
    "\n",
    "missing_proportions\n"
   ]
  },
  {
   "cell_type": "code",
   "execution_count": 13,
   "id": "ce653c40",
   "metadata": {},
   "outputs": [
    {
     "name": "stdout",
     "output_type": "stream",
     "text": [
      "(16278, 38)\n"
     ]
    }
   ],
   "source": [
    "# Dropping the specified columns\n",
    "df.drop(columns=['neighborhood', 'Count Available Days LTM', 'Count Blocked Days LTM', 'Count Reservation Days LTM'], inplace=True)\n",
    "\n",
    "# Checking the shape of the dataframe after dropping columns\n",
    "print(df.shape)\n"
   ]
  },
  {
   "cell_type": "code",
   "execution_count": 14,
   "id": "adab301b",
   "metadata": {},
   "outputs": [
    {
     "data": {
      "text/html": [
       "<div>\n",
       "<style scoped>\n",
       "    .dataframe tbody tr th:only-of-type {\n",
       "        vertical-align: middle;\n",
       "    }\n",
       "\n",
       "    .dataframe tbody tr th {\n",
       "        vertical-align: top;\n",
       "    }\n",
       "\n",
       "    .dataframe thead th {\n",
       "        text-align: right;\n",
       "    }\n",
       "</style>\n",
       "<table border=\"1\" class=\"dataframe\">\n",
       "  <thead>\n",
       "    <tr style=\"text-align: right;\">\n",
       "      <th></th>\n",
       "      <th>missing_values_count</th>\n",
       "    </tr>\n",
       "  </thead>\n",
       "  <tbody>\n",
       "    <tr>\n",
       "      <th>8</th>\n",
       "      <td>11</td>\n",
       "    </tr>\n",
       "    <tr>\n",
       "      <th>15</th>\n",
       "      <td>11</td>\n",
       "    </tr>\n",
       "    <tr>\n",
       "      <th>24</th>\n",
       "      <td>12</td>\n",
       "    </tr>\n",
       "    <tr>\n",
       "      <th>25</th>\n",
       "      <td>12</td>\n",
       "    </tr>\n",
       "    <tr>\n",
       "      <th>27</th>\n",
       "      <td>11</td>\n",
       "    </tr>\n",
       "  </tbody>\n",
       "</table>\n",
       "</div>"
      ],
      "text/plain": [
       "    missing_values_count\n",
       "8                     11\n",
       "15                    11\n",
       "24                    12\n",
       "25                    12\n",
       "27                    11"
      ]
     },
     "execution_count": 14,
     "metadata": {},
     "output_type": "execute_result"
    }
   ],
   "source": [
    "# Calculate the number of missing values for each row\n",
    "df['missing_values_count'] = df.isnull().sum(axis=1)\n",
    "\n",
    "# Filter rows that have more than a threshold of missing values (e.g., 10)\n",
    "rows_with_high_missing = df[df['missing_values_count'] > 10]\n",
    "\n",
    "rows_with_high_missing[['missing_values_count']].head()  # Display the count of missing values for these rows\n"
   ]
  },
  {
   "cell_type": "code",
   "execution_count": 15,
   "id": "ff1725a9",
   "metadata": {},
   "outputs": [
    {
     "data": {
      "text/plain": [
       "0.10676987344882664"
      ]
     },
     "execution_count": 15,
     "metadata": {},
     "output_type": "execute_result"
    }
   ],
   "source": [
    "# Calculate the proportion of rows with missing values across multiple columns\n",
    "rows_with_many_missing = (df.isnull().sum(axis=1) > 10).sum()\n",
    "proportion_rows_with_many_missing = rows_with_many_missing / len(df)\n",
    "\n",
    "proportion_rows_with_many_missing\n"
   ]
  },
  {
   "cell_type": "code",
   "execution_count": 16,
   "id": "e65bdb27",
   "metadata": {},
   "outputs": [
    {
     "data": {
      "text/plain": [
       "(0.00012286521685710776, 0.0)"
      ]
     },
     "execution_count": 16,
     "metadata": {},
     "output_type": "execute_result"
    }
   ],
   "source": [
    "# Proportion of rows with more than 15 missing values\n",
    "prop_missing_15 = (df.isnull().sum(axis=1) > 15).mean()\n",
    "\n",
    "# Proportion of rows with more than 20 missing values\n",
    "prop_missing_20 = (df.isnull().sum(axis=1) > 20).mean()\n",
    "\n",
    "prop_missing_15, prop_missing_20\n"
   ]
  },
  {
   "cell_type": "code",
   "execution_count": 17,
   "id": "8a6336ba",
   "metadata": {},
   "outputs": [
    {
     "data": {
      "text/plain": [
       "(14540, 39)"
      ]
     },
     "execution_count": 17,
     "metadata": {},
     "output_type": "execute_result"
    }
   ],
   "source": [
    "# Drop rows that have more than 10 missing values\n",
    "df_cleaned = df[df.isnull().sum(axis=1) <= 10]\n",
    "\n",
    "# Display the shape of the cleaned dataframe\n",
    "df_cleaned.shape\n"
   ]
  },
  {
   "cell_type": "code",
   "execution_count": 18,
   "id": "f10985e7",
   "metadata": {},
   "outputs": [
    {
     "data": {
      "text/plain": [
       "0.8887207702888583"
      ]
     },
     "execution_count": 18,
     "metadata": {},
     "output_type": "execute_result"
    }
   ],
   "source": [
    "# Calculate the proportion of rows in df_cleaned that have at least one missing value\n",
    "proportion_rows_with_missing_values = df_cleaned.isnull().any(axis=1).mean()\n",
    "\n",
    "proportion_rows_with_missing_values\n"
   ]
  },
  {
   "cell_type": "code",
   "execution_count": 19,
   "id": "7f6e1532",
   "metadata": {},
   "outputs": [
    {
     "data": {
      "text/plain": [
       "Published Weekly Rate          0.550757\n",
       "Published Monthly Rate         0.550757\n",
       "adr                            0.375309\n",
       "Occupancy Rate LTM             0.375309\n",
       "Number of Bookings LTM         0.375309\n",
       "Airbnb Checkin Rating          0.330605\n",
       "Airbnb Location Rating         0.330536\n",
       "Airbnb Communication Rating    0.330193\n",
       "Airbnb Accuracy Rating         0.330124\n",
       "Overall Rating                 0.291472\n",
       "Number of Reviews              0.241059\n",
       "Response Rate                  0.105365\n",
       "Price Tier                     0.093054\n",
       "Cancellation Policy            0.092710\n",
       "Cleaning Fee                   0.070083\n",
       "bedrooms                       0.011554\n",
       "bathrooms                      0.001376\n",
       "Number of Photos               0.001307\n",
       "Minimum Stay                   0.000757\n",
       "Max Guests                     0.000069\n",
       "currency                       0.000000\n",
       "Has Kitchen                    0.000000\n",
       "Listing URL                    0.000000\n",
       "latitude                       0.000000\n",
       "zipcode                        0.000000\n",
       "longitude                      0.000000\n",
       "Host Type                      0.000000\n",
       "Location Type                  0.000000\n",
       "Property ID                    0.000000\n",
       "Created Date                   0.000000\n",
       "Has Pool                       0.000000\n",
       "Has Parking                    0.000000\n",
       "Listing Type                   0.000000\n",
       "Pets Allowed                   0.000000\n",
       "AirDNA Market                  0.000000\n",
       "city                           0.000000\n",
       "country                        0.000000\n",
       "Has Hot Tub                    0.000000\n",
       "missing_values_count           0.000000\n",
       "dtype: float64"
      ]
     },
     "execution_count": 19,
     "metadata": {},
     "output_type": "execute_result"
    }
   ],
   "source": [
    "# Calculate the proportion of missing values for each column in df_cleaned\n",
    "missing_proportions_cleaned = df_cleaned.isnull().mean().sort_values(ascending=False)\n",
    "\n",
    "missing_proportions_cleaned\n"
   ]
  },
  {
   "cell_type": "markdown",
   "id": "01fdc9bf",
   "metadata": {},
   "source": [
    "The columns \"Published Weekly Rate\", \"Published Monthly Rate\", \"adr\", \"Occupancy Rate LTM\", and \"Number of Bookings LTM\" have the highest proportions of missing values. These columns might need further examination and decisions on how to handle their missing values.\n",
    "\n",
    "\n",
    "\n",
    "\n",
    "\n"
   ]
  },
  {
   "cell_type": "code",
   "execution_count": 20,
   "id": "a6d5b5c8",
   "metadata": {},
   "outputs": [
    {
     "data": {
      "text/plain": [
       "8008"
      ]
     },
     "execution_count": 20,
     "metadata": {},
     "output_type": "execute_result"
    }
   ],
   "source": [
    "# Count the number of rows where both 'Published Weekly Rate' and 'Published Monthly Rate' are missing\n",
    "missing_both_rates = df_cleaned[df_cleaned['Published Weekly Rate'].isnull() & df_cleaned['Published Monthly Rate'].isnull()].shape[0]\n",
    "\n",
    "missing_both_rates\n"
   ]
  },
  {
   "cell_type": "code",
   "execution_count": 21,
   "id": "025ca57b",
   "metadata": {},
   "outputs": [
    {
     "data": {
      "text/plain": [
       "(14540, 37)"
      ]
     },
     "execution_count": 21,
     "metadata": {},
     "output_type": "execute_result"
    }
   ],
   "source": [
    "# Drop the two rate columns from df_cleaned\n",
    "df_cleaned = df_cleaned.drop(columns=['Published Weekly Rate', 'Published Monthly Rate'])\n",
    "\n",
    "# Display the shape of the updated dataframe\n",
    "df_cleaned.shape\n"
   ]
  },
  {
   "cell_type": "code",
   "execution_count": 22,
   "id": "4515d6ab",
   "metadata": {
    "scrolled": true
   },
   "outputs": [
    {
     "data": {
      "text/plain": [
       "Number of Bookings LTM         0.375309\n",
       "adr                            0.375309\n",
       "Occupancy Rate LTM             0.375309\n",
       "Airbnb Checkin Rating          0.330605\n",
       "Airbnb Location Rating         0.330536\n",
       "Airbnb Communication Rating    0.330193\n",
       "Airbnb Accuracy Rating         0.330124\n",
       "Overall Rating                 0.291472\n",
       "Number of Reviews              0.241059\n",
       "Response Rate                  0.105365\n",
       "Price Tier                     0.093054\n",
       "Cancellation Policy            0.092710\n",
       "Cleaning Fee                   0.070083\n",
       "bedrooms                       0.011554\n",
       "bathrooms                      0.001376\n",
       "Number of Photos               0.001307\n",
       "Minimum Stay                   0.000757\n",
       "Max Guests                     0.000069\n",
       "currency                       0.000000\n",
       "Has Kitchen                    0.000000\n",
       "Listing URL                    0.000000\n",
       "latitude                       0.000000\n",
       "zipcode                        0.000000\n",
       "longitude                      0.000000\n",
       "Has Pool                       0.000000\n",
       "Location Type                  0.000000\n",
       "Property ID                    0.000000\n",
       "Created Date                   0.000000\n",
       "Has Parking                    0.000000\n",
       "Host Type                      0.000000\n",
       "Listing Type                   0.000000\n",
       "Pets Allowed                   0.000000\n",
       "AirDNA Market                  0.000000\n",
       "city                           0.000000\n",
       "country                        0.000000\n",
       "Has Hot Tub                    0.000000\n",
       "missing_values_count           0.000000\n",
       "dtype: float64"
      ]
     },
     "execution_count": 22,
     "metadata": {},
     "output_type": "execute_result"
    }
   ],
   "source": [
    "# Calculate the proportion of missing values for each remaining column in df_cleaned\n",
    "missing_proportions_cleaned = df_cleaned.isnull().mean().sort_values(ascending=False)\n",
    "\n",
    "missing_proportions_cleaned\n"
   ]
  },
  {
   "cell_type": "code",
   "execution_count": 23,
   "id": "de7c4698",
   "metadata": {},
   "outputs": [
    {
     "data": {
      "text/plain": [
       "0.6164374140302613"
      ]
     },
     "execution_count": 23,
     "metadata": {},
     "output_type": "execute_result"
    }
   ],
   "source": [
    "# Calculate the proportion of rows missing at least one of the specified columns\n",
    "columns_to_check = [\n",
    "    \"Number of Bookings LTM\", \"adr\", \"Occupancy Rate LTM\", \n",
    "    \"Airbnb Checkin Rating\", \"Airbnb Location Rating\", \"Airbnb Communication Rating\",\n",
    "    \"Airbnb Accuracy Rating\", \"Overall Rating\", \"Number of Reviews\"\n",
    "]\n",
    "\n",
    "missing_in_specified = df_cleaned[columns_to_check].isnull().any(axis=1).mean()\n",
    "\n",
    "missing_in_specified\n"
   ]
  },
  {
   "cell_type": "markdown",
   "id": "51802df1",
   "metadata": {},
   "source": [
    "Approximately 61.64% of the rows in the cleaned dataset are missing values in one or more of the specified columns."
   ]
  },
  {
   "cell_type": "code",
   "execution_count": 24,
   "id": "770119ea",
   "metadata": {},
   "outputs": [
    {
     "data": {
      "text/plain": [
       "(Airbnb Checkin Rating     float64\n",
       " Airbnb Location Rating    float64\n",
       " Airbnb Accuracy Rating    float64\n",
       " Overall Rating            float64\n",
       " dtype: object,\n",
       " Airbnb Checkin Rating     2.0\n",
       " Airbnb Location Rating    2.0\n",
       " Airbnb Accuracy Rating    2.0\n",
       " Overall Rating            0.0\n",
       " dtype: float64,\n",
       " Airbnb Checkin Rating      10.0\n",
       " Airbnb Location Rating     10.0\n",
       " Airbnb Accuracy Rating     10.0\n",
       " Overall Rating            100.0\n",
       " dtype: float64)"
      ]
     },
     "execution_count": 24,
     "metadata": {},
     "output_type": "execute_result"
    }
   ],
   "source": [
    "# Extracting the data types for the specified columns\n",
    "column_data_types = df_cleaned[['Airbnb Checkin Rating', 'Airbnb Location Rating', 'Airbnb Accuracy Rating', 'Overall Rating']].dtypes\n",
    "\n",
    "# Extracting the minimum and maximum values for the specified columns\n",
    "column_min_values = df_cleaned[['Airbnb Checkin Rating', 'Airbnb Location Rating', 'Airbnb Accuracy Rating', 'Overall Rating']].min()\n",
    "column_max_values = df_cleaned[['Airbnb Checkin Rating', 'Airbnb Location Rating', 'Airbnb Accuracy Rating', 'Overall Rating']].max()\n",
    "\n",
    "column_data_types, column_min_values, column_max_values\n"
   ]
  },
  {
   "cell_type": "markdown",
   "id": "1a77fa38",
   "metadata": {},
   "source": [
    "It seems like the Airbnb ratings are on a scale from 2 to 10, while the Overall Rating is on a scale from 0 to 100."
   ]
  },
  {
   "cell_type": "code",
   "execution_count": 25,
   "id": "4951d636",
   "metadata": {},
   "outputs": [],
   "source": [
    "# Drop the specified columns\n",
    "df_cleaned = df_cleaned.drop(columns=['Airbnb Checkin Rating', 'Airbnb Location Rating', 'Airbnb Accuracy Rating'])\n"
   ]
  },
  {
   "cell_type": "code",
   "execution_count": 26,
   "id": "bdd91ad9",
   "metadata": {},
   "outputs": [
    {
     "data": {
      "text/plain": [
       "(14540, 34)"
      ]
     },
     "execution_count": 26,
     "metadata": {},
     "output_type": "execute_result"
    }
   ],
   "source": [
    "df_cleaned.shape\n"
   ]
  },
  {
   "cell_type": "code",
   "execution_count": 27,
   "id": "38939dbb",
   "metadata": {},
   "outputs": [
    {
     "data": {
      "text/plain": [
       "13160    flexible\n",
       "8624     moderate\n",
       "7647       strict\n",
       "3648     flexible\n",
       "4552       strict\n",
       "15335         NaN\n",
       "5475          NaN\n",
       "14500      strict\n",
       "7893     flexible\n",
       "7455     moderate\n",
       "Name: Cancellation Policy, dtype: object"
      ]
     },
     "execution_count": 27,
     "metadata": {},
     "output_type": "execute_result"
    }
   ],
   "source": [
    "# Drop the \"Airbnb Communication Rating\" column\n",
    "df_cleaned.drop('Airbnb Communication Rating', axis=1, inplace=True)\n",
    "\n",
    "# Show some sample values from the \"Cancellation Policy\" column\n",
    "cancellation_policy_samples = df_cleaned['Cancellation Policy'].sample(10)\n",
    "cancellation_policy_samples\n"
   ]
  },
  {
   "cell_type": "markdown",
   "id": "5e1a5131",
   "metadata": {},
   "source": [
    "After dropping the \"Communication Rating\" column, I've decided to look at the \"Cancellation policy\" column. It seems the \"Cancellation Policy\" column contains categorical values like \"strict\", \"flexible\", and \"moderate\"."
   ]
  },
  {
   "cell_type": "code",
   "execution_count": 28,
   "id": "6316df3a",
   "metadata": {},
   "outputs": [
    {
     "data": {
      "text/plain": [
       "15743      NaN\n",
       "14097      NaN\n",
       "15052      NaN\n",
       "12683     98.0\n",
       "5052       0.0\n",
       "7059     100.0\n",
       "10987     28.0\n",
       "14214      NaN\n",
       "7022     100.0\n",
       "12856     80.0\n",
       "Name: Response Rate, dtype: float64"
      ]
     },
     "execution_count": 28,
     "metadata": {},
     "output_type": "execute_result"
    }
   ],
   "source": [
    "# Display sample values from the \"Response Rate\" column\n",
    "df_cleaned[\"Response Rate\"].sample(10)\n"
   ]
  },
  {
   "cell_type": "markdown",
   "id": "bca3550d",
   "metadata": {},
   "source": [
    "It seems that many hosts have a 100% response rate, but there are also other values like 50% and 75%. Let's drop this column"
   ]
  },
  {
   "cell_type": "code",
   "execution_count": 29,
   "id": "3a38a49d",
   "metadata": {},
   "outputs": [
    {
     "data": {
      "text/plain": [
       "(14540, 32)"
      ]
     },
     "execution_count": 29,
     "metadata": {},
     "output_type": "execute_result"
    }
   ],
   "source": [
    "# Drop the 'Response Rate' column\n",
    "df_cleaned = df_cleaned.drop(columns=['Response Rate'])\n",
    "\n",
    "# Show the shape of the dataframe\n",
    "df_cleaned.shape\n"
   ]
  },
  {
   "cell_type": "code",
   "execution_count": 30,
   "id": "69c84c19",
   "metadata": {},
   "outputs": [
    {
     "data": {
      "text/plain": [
       "5366       luxury\n",
       "1513       budget\n",
       "11798     economy\n",
       "9996      upscale\n",
       "2677      economy\n",
       "5520       luxury\n",
       "2377      upscale\n",
       "10941    midscale\n",
       "2828      economy\n",
       "13533      luxury\n",
       "Name: Price Tier, dtype: object"
      ]
     },
     "execution_count": 30,
     "metadata": {},
     "output_type": "execute_result"
    }
   ],
   "source": [
    "# Display sample values from the \"Price Tier\" column\n",
    "df_cleaned[\"Price Tier\"].sample(10)\n"
   ]
  },
  {
   "cell_type": "markdown",
   "id": "5f466c97",
   "metadata": {},
   "source": [
    "The sample values for the \"Price Tier\" column are as follows:\n",
    "\n",
    "midscale\n",
    "luxury\n",
    "upscale\n",
    "economy\n",
    "These values represent different pricing categories or tiers for the properties."
   ]
  },
  {
   "cell_type": "code",
   "execution_count": 32,
   "id": "af8678a7",
   "metadata": {},
   "outputs": [
    {
     "data": {
      "text/plain": [
       "(Number of Bookings LTM    0.375309\n",
       " Occupancy Rate LTM        0.375309\n",
       " adr                       0.375309\n",
       " Overall Rating            0.291472\n",
       " Number of Reviews         0.241059\n",
       " Price Tier                0.093054\n",
       " Cancellation Policy       0.092710\n",
       " Cleaning Fee              0.070083\n",
       " bedrooms                  0.011554\n",
       " bathrooms                 0.001376\n",
       " Number of Photos          0.001307\n",
       " Minimum Stay              0.000757\n",
       " Max Guests                0.000069\n",
       " latitude                  0.000000\n",
       " zipcode                   0.000000\n",
       " currency                  0.000000\n",
       " Has Kitchen               0.000000\n",
       " Listing URL               0.000000\n",
       " Location Type             0.000000\n",
       " longitude                 0.000000\n",
       " Property ID               0.000000\n",
       " Has Parking               0.000000\n",
       " Created Date              0.000000\n",
       " Has Pool                  0.000000\n",
       " Host Type                 0.000000\n",
       " Listing Type              0.000000\n",
       " Pets Allowed              0.000000\n",
       " AirDNA Market             0.000000\n",
       " city                      0.000000\n",
       " country                   0.000000\n",
       " Has Hot Tub               0.000000\n",
       " missing_values_count      0.000000\n",
       " dtype: float64,\n",
       " 0.6321182943603851)"
      ]
     },
     "execution_count": 32,
     "metadata": {},
     "output_type": "execute_result"
    }
   ],
   "source": [
    "# Calculate the proportion of missing values for each column\n",
    "remaining_missing_proportions = df_cleaned.isnull().mean().sort_values(ascending=False)\n",
    "\n",
    "# Calculate the proportion of rows with any missing values\n",
    "proportion_rows_with_missing_values = (df_cleaned.isnull().sum(axis=1) > 0).mean()\n",
    "\n",
    "remaining_missing_proportions, proportion_rows_with_missing_values\n"
   ]
  },
  {
   "cell_type": "code",
   "execution_count": 33,
   "id": "14c57c77",
   "metadata": {},
   "outputs": [
    {
     "data": {
      "text/plain": [
       "(5349, 32)"
      ]
     },
     "execution_count": 33,
     "metadata": {},
     "output_type": "execute_result"
    }
   ],
   "source": [
    "# Drop rows with any missing values\n",
    "df_cleaned = df_cleaned.dropna()\n",
    "\n",
    "# Display the shape of the cleaned dataframe\n",
    "df_cleaned.shape\n"
   ]
  },
  {
   "cell_type": "code",
   "execution_count": 34,
   "id": "c336284e",
   "metadata": {},
   "outputs": [
    {
     "data": {
      "text/plain": [
       "Number of Bookings LTM    0.375309\n",
       "Occupancy Rate LTM        0.375309\n",
       "adr                       0.375309\n",
       "Overall Rating            0.291472\n",
       "Number of Reviews         0.241059\n",
       "Price Tier                0.093054\n",
       "Cancellation Policy       0.092710\n",
       "Cleaning Fee              0.070083\n",
       "bedrooms                  0.011554\n",
       "bathrooms                 0.001376\n",
       "Number of Photos          0.001307\n",
       "Minimum Stay              0.000757\n",
       "Max Guests                0.000069\n",
       "latitude                  0.000000\n",
       "zipcode                   0.000000\n",
       "currency                  0.000000\n",
       "Has Kitchen               0.000000\n",
       "Listing URL               0.000000\n",
       "Location Type             0.000000\n",
       "longitude                 0.000000\n",
       "Property ID               0.000000\n",
       "Has Parking               0.000000\n",
       "Created Date              0.000000\n",
       "Has Pool                  0.000000\n",
       "Host Type                 0.000000\n",
       "Listing Type              0.000000\n",
       "Pets Allowed              0.000000\n",
       "AirDNA Market             0.000000\n",
       "city                      0.000000\n",
       "country                   0.000000\n",
       "Has Hot Tub               0.000000\n",
       "missing_values_count      0.000000\n",
       "dtype: float64"
      ]
     },
     "execution_count": 34,
     "metadata": {},
     "output_type": "execute_result"
    }
   ],
   "source": [
    "remaining_missing_proportions "
   ]
  },
  {
   "cell_type": "code",
   "execution_count": 35,
   "id": "2634b34b",
   "metadata": {},
   "outputs": [
    {
     "name": "stdout",
     "output_type": "stream",
     "text": [
      "                    Column  Missing Proportion\n",
      "0                longitude                 0.0\n",
      "1              Has Parking                 0.0\n",
      "2                  zipcode                 0.0\n",
      "3                 latitude                 0.0\n",
      "4   Number of Bookings LTM                 0.0\n",
      "5         Number of Photos                 0.0\n",
      "6        Number of Reviews                 0.0\n",
      "7                 currency                 0.0\n",
      "8              Has Kitchen                 0.0\n",
      "9              Listing URL                 0.0\n",
      "10              Price Tier                 0.0\n",
      "11            Cleaning Fee                 0.0\n",
      "12           Location Type                 0.0\n",
      "13            Minimum Stay                 0.0\n",
      "14          Overall Rating                 0.0\n",
      "15             Property ID                 0.0\n",
      "16               bathrooms                 0.0\n",
      "17            Created Date                 0.0\n",
      "18                Has Pool                 0.0\n",
      "19               Host Type                 0.0\n",
      "20            Listing Type                 0.0\n",
      "21              Max Guests                 0.0\n",
      "22      Occupancy Rate LTM                 0.0\n",
      "23            Pets Allowed                 0.0\n",
      "24                     adr                 0.0\n",
      "25           AirDNA Market                 0.0\n",
      "26                bedrooms                 0.0\n",
      "27                    city                 0.0\n",
      "28                 country                 0.0\n",
      "29             Has Hot Tub                 0.0\n",
      "30     Cancellation Policy                 0.0\n",
      "31    missing_values_count                 0.0\n"
     ]
    }
   ],
   "source": [
    "missing_info = df_cleaned.isnull().mean().sort_values(ascending=False).rename_axis('Column').reset_index()\n",
    "missing_info.columns = ['Column', 'Missing Proportion']\n",
    "\n",
    "print(missing_info)"
   ]
  },
  {
   "cell_type": "code",
   "execution_count": 36,
   "id": "0dca91a9",
   "metadata": {},
   "outputs": [
    {
     "name": "stdout",
     "output_type": "stream",
     "text": [
      "Number of rows with NaN values: 0\n"
     ]
    }
   ],
   "source": [
    "import pandas as pd\n",
    "\n",
    "# Assuming df_cleaned is your DataFrame\n",
    "num_rows_with_nan = df_cleaned.isnull().any(axis=1).sum()\n",
    "\n",
    "print(f\"Number of rows with NaN values: {num_rows_with_nan}\")\n"
   ]
  },
  {
   "cell_type": "code",
   "execution_count": 37,
   "id": "70c0ddaa",
   "metadata": {},
   "outputs": [
    {
     "name": "stdout",
     "output_type": "stream",
     "text": [
      "longitude                 float64\n",
      "Has Parking                  bool\n",
      "Cancellation Policy        object\n",
      "Has Hot Tub                  bool\n",
      "country                    object\n",
      "city                       object\n",
      "bedrooms                  float64\n",
      "AirDNA Market              object\n",
      "adr                       float64\n",
      "Pets Allowed                 bool\n",
      "Occupancy Rate LTM        float64\n",
      "Max Guests                float64\n",
      "Listing Type               object\n",
      "Host Type                  object\n",
      "Has Pool                     bool\n",
      "Created Date               object\n",
      "bathrooms                 float64\n",
      "Property ID                object\n",
      "Overall Rating            float64\n",
      "Minimum Stay              float64\n",
      "Location Type              object\n",
      "Cleaning Fee              float64\n",
      "Price Tier                 object\n",
      "Listing URL                object\n",
      "Has Kitchen                  bool\n",
      "currency                   object\n",
      "Number of Reviews         float64\n",
      "Number of Photos          float64\n",
      "Number of Bookings LTM    float64\n",
      "latitude                  float64\n",
      "zipcode                     int64\n",
      "missing_values_count        int64\n",
      "dtype: object\n"
     ]
    }
   ],
   "source": [
    "data_types = df_cleaned.dtypes\n",
    "\n",
    "print(data_types)"
   ]
  },
  {
   "cell_type": "code",
   "execution_count": 38,
   "id": "4cdecd8b",
   "metadata": {},
   "outputs": [
    {
     "name": "stdout",
     "output_type": "stream",
     "text": [
      "Unique values for column 'Cancellation Policy':\n",
      "['strict' 'moderate' 'super strict' 'flexible']\n",
      "\n",
      "\n",
      "Unique values for column 'country':\n",
      "['United States']\n",
      "\n",
      "\n",
      "Unique values for column 'city':\n",
      "['Pioneertown' 'Palm Desert' 'Yucca Valley' 'Joshua Tree'\n",
      " 'Desert Hot Springs' 'Landers' 'Cathedral City' 'Rancho Mirage'\n",
      " 'North Palm Springs' 'Whitewater' 'Morongo Valley' 'Thousand Palms']\n",
      "\n",
      "\n",
      "Unique values for column 'AirDNA Market':\n",
      "['JOSHUA TREE, CA' 'COACHELLA VALLEY, CA']\n",
      "\n",
      "\n",
      "Unique values for column 'Listing Type':\n",
      "['Entire home/apt' 'Private room' 'Shared room' 'Hotel room']\n",
      "\n",
      "\n",
      "Unique values for column 'Host Type':\n",
      "['2-5 Units' '21+ Units' '6-20 Units' '1 Unit']\n",
      "\n",
      "\n",
      "Unique values for column 'Created Date':\n",
      "['2016-04-12' '2016-04-21' '2016-04-11' ... '2016-03-29' '2016-04-08'\n",
      " '2016-02-18']\n",
      "\n",
      "\n",
      "Unique values for column 'Property ID':\n",
      "['abnb_12412999' 'abnb_12614845' 'abnb_12402361' ... 'abnb_12469623'\n",
      " 'abnb_11378288' 'abnb_12011865']\n",
      "\n",
      "\n",
      "Unique values for column 'Location Type':\n",
      "['Destination/Resort - Mountains/Lake']\n",
      "\n",
      "\n",
      "Unique values for column 'Price Tier':\n",
      "['luxury' 'upscale' 'midscale' 'economy' 'budget']\n",
      "\n",
      "\n",
      "Unique values for column 'Listing URL':\n",
      "['https://www.airbnb.com/rooms/12412999'\n",
      " 'https://www.airbnb.com/rooms/12614845'\n",
      " 'https://www.airbnb.com/rooms/12402361' ...\n",
      " 'https://www.airbnb.com/rooms/12469623'\n",
      " 'https://www.airbnb.com/rooms/11378288'\n",
      " 'https://www.airbnb.com/rooms/12011865']\n",
      "\n",
      "\n",
      "Unique values for column 'currency':\n",
      "['usd']\n",
      "\n",
      "\n"
     ]
    }
   ],
   "source": [
    "object_columns = df_cleaned.select_dtypes(include=['object'])\n",
    "\n",
    "for column in object_columns.columns:\n",
    "    unique_values = df_cleaned[column].unique()\n",
    "    print(f\"Unique values for column '{column}':\")\n",
    "    print(unique_values)\n",
    "    print(\"\\n\")"
   ]
  },
  {
   "cell_type": "code",
   "execution_count": 39,
   "id": "62f11f3c",
   "metadata": {},
   "outputs": [
    {
     "name": "stdout",
     "output_type": "stream",
     "text": [
      "Shape of the DataFrame after dropping columns:\n",
      "(5349, 28)\n"
     ]
    }
   ],
   "source": [
    "# Drop the specified columns\n",
    "columns_to_drop = [\"Property ID\", \"country\", \"currency\", \"Listing URL\"]\n",
    "df_cleaned = df_cleaned.drop(columns=columns_to_drop)\n",
    "\n",
    "# Show the shape of the DataFrame after dropping the columns\n",
    "print(\"Shape of the DataFrame after dropping columns:\")\n",
    "print(df_cleaned.shape)\n"
   ]
  },
  {
   "cell_type": "code",
   "execution_count": 40,
   "id": "2d533955",
   "metadata": {},
   "outputs": [
    {
     "name": "stdout",
     "output_type": "stream",
     "text": [
      "longitude                 float64\n",
      "Has Parking                  bool\n",
      "Cancellation Policy        object\n",
      "Has Hot Tub                  bool\n",
      "city                       object\n",
      "bedrooms                  float64\n",
      "AirDNA Market              object\n",
      "adr                       float64\n",
      "Pets Allowed                 bool\n",
      "Occupancy Rate LTM        float64\n",
      "Max Guests                float64\n",
      "Listing Type               object\n",
      "Host Type                  object\n",
      "Has Pool                     bool\n",
      "Created Date               object\n",
      "bathrooms                 float64\n",
      "Overall Rating            float64\n",
      "Minimum Stay              float64\n",
      "Location Type              object\n",
      "Cleaning Fee              float64\n",
      "Price Tier                 object\n",
      "Has Kitchen                  bool\n",
      "Number of Reviews         float64\n",
      "Number of Photos          float64\n",
      "Number of Bookings LTM    float64\n",
      "latitude                  float64\n",
      "zipcode                     int64\n",
      "missing_values_count        int64\n",
      "dtype: object\n"
     ]
    }
   ],
   "source": [
    "# Display the list of columns and their data types\n",
    "column_data_types = df_cleaned.dtypes\n",
    "print(column_data_types)\n"
   ]
  },
  {
   "cell_type": "code",
   "execution_count": 41,
   "id": "448047eb",
   "metadata": {},
   "outputs": [
    {
     "name": "stdout",
     "output_type": "stream",
     "text": [
      "Columns and their data types:\n",
      "               Column Name Data Type\n",
      "0                longitude   float64\n",
      "1              Has Parking      bool\n",
      "2      Cancellation Policy    object\n",
      "3              Has Hot Tub      bool\n",
      "4                     city    object\n",
      "5                 bedrooms   float64\n",
      "6            AirDNA Market    object\n",
      "7                      adr   float64\n",
      "8             Pets Allowed      bool\n",
      "9       Occupancy Rate LTM   float64\n",
      "10              Max Guests   float64\n",
      "11            Listing Type    object\n",
      "12               Host Type    object\n",
      "13                Has Pool      bool\n",
      "14            Created Date    object\n",
      "15               bathrooms   float64\n",
      "16          Overall Rating   float64\n",
      "17            Minimum Stay   float64\n",
      "18           Location Type    object\n",
      "19            Cleaning Fee   float64\n",
      "20              Price Tier    object\n",
      "21             Has Kitchen      bool\n",
      "22       Number of Reviews   float64\n",
      "23        Number of Photos   float64\n",
      "24  Number of Bookings LTM   float64\n",
      "25                latitude   float64\n",
      "26                 zipcode     int64\n",
      "27    missing_values_count     int64\n",
      "\n",
      "Total number of columns: 28\n"
     ]
    }
   ],
   "source": [
    "# Get the column names and their data types\n",
    "column_info = df_cleaned.dtypes.reset_index()\n",
    "column_info.columns = ['Column Name', 'Data Type']\n",
    "\n",
    "# Get the total number of columns\n",
    "num_columns = len(df_cleaned.columns)\n",
    "\n",
    "# Display the column information and the total number of columns\n",
    "print(\"Columns and their data types:\")\n",
    "print(column_info)\n",
    "\n",
    "print(\"\\nTotal number of columns:\", num_columns)\n"
   ]
  },
  {
   "cell_type": "code",
   "execution_count": 42,
   "id": "f3dbdd9b",
   "metadata": {},
   "outputs": [
    {
     "data": {
      "text/plain": [
       "array([0, 2, 1, 6, 3, 7])"
      ]
     },
     "execution_count": 42,
     "metadata": {},
     "output_type": "execute_result"
    }
   ],
   "source": [
    "# Extract and display all unique values from the \"missing_values_count\" column in the df_cleaned dataframe\n",
    "unique_missing_values_counts = df_cleaned[\"missing_values_count\"].unique()\n",
    "unique_missing_values_counts\n"
   ]
  },
  {
   "cell_type": "code",
   "execution_count": 43,
   "id": "05e851b8",
   "metadata": {},
   "outputs": [
    {
     "data": {
      "text/plain": [
       "missing_values_count\n",
       "1       2\n",
       "2    3583\n",
       "6      39\n",
       "3      68\n",
       "7      39\n",
       "Name: count, dtype: int64"
      ]
     },
     "execution_count": 43,
     "metadata": {},
     "output_type": "execute_result"
    }
   ],
   "source": [
    "# Count the number of rows with the specified missing values counts\n",
    "missing_values_counts = [1, 2, 6, 3, 7]\n",
    "counts = df_cleaned[\"missing_values_count\"].value_counts().loc[missing_values_counts]\n",
    "\n",
    "counts\n"
   ]
  },
  {
   "cell_type": "code",
   "execution_count": 44,
   "id": "fc2449cc",
   "metadata": {},
   "outputs": [
    {
     "data": {
      "text/plain": [
       "(5349, 27)"
      ]
     },
     "execution_count": 44,
     "metadata": {},
     "output_type": "execute_result"
    }
   ],
   "source": [
    "# Drop the \"missing_values_count\" column from df_cleaned\n",
    "df_cleaned = df_cleaned.drop(columns=[\"missing_values_count\"])\n",
    "\n",
    "# Confirm the shape of the updated dataframe\n",
    "df_cleaned_shape_after_dropping_missing_count = df_cleaned.shape\n",
    "df_cleaned_shape_after_dropping_missing_count\n"
   ]
  },
  {
   "cell_type": "markdown",
   "id": "dd362cf9",
   "metadata": {},
   "source": [
    "We no longer have any misssing values in any column, so we can now cleanse the individual columns to prepare the data types for EDA and modeling."
   ]
  },
  {
   "cell_type": "code",
   "execution_count": 45,
   "id": "d8985d74",
   "metadata": {},
   "outputs": [
    {
     "data": {
      "text/plain": [
       "longitude                 float64\n",
       "Has Parking                  bool\n",
       "Cancellation Policy        object\n",
       "Has Hot Tub                  bool\n",
       "city                       object\n",
       "bedrooms                  float64\n",
       "AirDNA Market              object\n",
       "adr                       float64\n",
       "Pets Allowed                 bool\n",
       "Occupancy Rate LTM        float64\n",
       "Max Guests                float64\n",
       "Listing Type               object\n",
       "Host Type                  object\n",
       "Has Pool                     bool\n",
       "Created Date               object\n",
       "bathrooms                 float64\n",
       "Overall Rating            float64\n",
       "Minimum Stay              float64\n",
       "Location Type              object\n",
       "Cleaning Fee              float64\n",
       "Price Tier                 object\n",
       "Has Kitchen                  bool\n",
       "Number of Reviews         float64\n",
       "Number of Photos          float64\n",
       "Number of Bookings LTM    float64\n",
       "latitude                  float64\n",
       "zipcode                     int64\n",
       "dtype: object"
      ]
     },
     "execution_count": 45,
     "metadata": {},
     "output_type": "execute_result"
    }
   ],
   "source": [
    "# 1. Inspect Data Types\n",
    "\n",
    "# Displaying the data types of each column in df_cleaned\n",
    "data_types = df_cleaned.dtypes\n",
    "data_types\n"
   ]
  },
  {
   "cell_type": "markdown",
   "id": "83c2f52b",
   "metadata": {},
   "source": [
    "Here are the data types of the columns in the df_cleaned dataframe:\n",
    "\n",
    "Float columns (e.g., longitude, bedrooms, adr, Occupancy Rate LTM, bathrooms, etc.)\n",
    "\n",
    "Boolean columns (e.g., Has Parking, Has Hot Tub, Pets Allowed, Has Pool, Has Kitchen)\n",
    "\n",
    "Object columns (e.g., Cancellation Policy, city, AirDNA Market, Listing Type, Host Type, \n",
    "Created Date, Location Type, Price Tier)\n",
    "\n",
    "Integer columns (e.g., zipcode)\n"
   ]
  },
  {
   "cell_type": "markdown",
   "id": "adc46792",
   "metadata": {},
   "source": [
    "For object data types, we should inspect the unique values and their distribution.\n",
    "\n",
    "For numerical (float and integer) columns, we can summarize their statistics to check for any anomalies or values that don't make sense in the given context.\n",
    "\n",
    "For boolean columns, we can check the distribution of True vs. False values.\n"
   ]
  },
  {
   "cell_type": "code",
   "execution_count": 46,
   "id": "09ec062d",
   "metadata": {},
   "outputs": [
    {
     "data": {
      "text/plain": [
       "{'Cancellation Policy': array(['strict', 'moderate', 'super strict', 'flexible'], dtype=object),\n",
       " 'city': array(['Pioneertown', 'Palm Desert', 'Yucca Valley', 'Joshua Tree',\n",
       "        'Desert Hot Springs', 'Landers', 'Cathedral City', 'Rancho Mirage',\n",
       "        'North Palm Springs', 'Whitewater', 'Morongo Valley',\n",
       "        'Thousand Palms'], dtype=object),\n",
       " 'AirDNA Market': array(['JOSHUA TREE, CA', 'COACHELLA VALLEY, CA'], dtype=object),\n",
       " 'Listing Type': array(['Entire home/apt', 'Private room', 'Shared room', 'Hotel room'],\n",
       "       dtype=object),\n",
       " 'Host Type': array(['2-5 Units', '21+ Units', '6-20 Units', '1 Unit'], dtype=object),\n",
       " 'Created Date': array(['2016-04-12', '2016-04-21', '2016-04-11', ..., '2016-03-29',\n",
       "        '2016-04-08', '2016-02-18'], dtype=object),\n",
       " 'Location Type': array(['Destination/Resort - Mountains/Lake'], dtype=object),\n",
       " 'Price Tier': array(['luxury', 'upscale', 'midscale', 'economy', 'budget'], dtype=object)}"
      ]
     },
     "execution_count": 46,
     "metadata": {},
     "output_type": "execute_result"
    }
   ],
   "source": [
    "# Inspecting unique values for columns with data type 'object'\n",
    "object_columns_info = {}\n",
    "for column in df_cleaned.select_dtypes(include=['object']).columns:\n",
    "    object_columns_info[column] = df_cleaned[column].unique()\n",
    "\n",
    "object_columns_info\n"
   ]
  },
  {
   "cell_type": "markdown",
   "id": "03372c34",
   "metadata": {},
   "source": [
    "Cancellation Policy:\n",
    "\n",
    "Values: ['strict', 'moderate', 'super strict', 'flexible']\n",
    "These values seem appropriate and can be treated as categorical data.\n",
    "\n",
    "City:\n",
    "Values: Various city names like ['Pioneertown', 'Palm Desert', ...]\n",
    "These are categorical and seem appropriate.\n",
    "\n",
    "AirDNA Market:\n",
    "Values: ['JOSHUA TREE, CA', 'COACHELLA VALLEY, CA']\n",
    "This can be treated as a categorical variable.\n",
    "\n",
    "Listing Type:\n",
    "Values: ['Entire home/apt', 'Private room', 'Shared room', 'Hotel room']\n",
    "This column can remain as categorical.\n",
    "Host Type:\n",
    "Values: ['2-5 Units', '21+ Units', '6-20 Units', '1 Unit']\n",
    "These represent categories and can be treated as such.\n",
    "Created Date:\n",
    "\n",
    "Values: ['2016-04-12', ...]\n",
    "This seems like a date column. We should convert it to a datetime datatype to facilitate time-based analysis.\n",
    "Location Type:\n",
    "\n",
    "Only one unique value: ['Destination/Resort - Mountains/Lake']\n",
    "Since this column has only one value, it doesn't provide any variance. We should consider dropping it.\n",
    "Price Tier:\n",
    "\n",
    "Values: ['luxury', 'upscale', 'midscale', 'economy', 'budget']\n",
    "These are categorical and seem appropriate.\n"
   ]
  },
  {
   "cell_type": "markdown",
   "id": "b80224bb",
   "metadata": {},
   "source": [
    "Convert the \"Created Date\" column to datetime datatype.\n",
    "\n",
    "Drop the \"Location Type\" column as it has only one unique value.\n",
    "\n",
    "For the other object columns, depending on the subsequent analysis, we can consider converting \n",
    "them to categorical datatype or encoding them for modeling purposes. This can be done in later preprocessing steps or EDA. "
   ]
  },
  {
   "cell_type": "code",
   "execution_count": 47,
   "id": "b6d47320",
   "metadata": {},
   "outputs": [
    {
     "data": {
      "text/plain": [
       "longitude                        float64\n",
       "Has Parking                         bool\n",
       "Cancellation Policy               object\n",
       "Has Hot Tub                         bool\n",
       "city                              object\n",
       "bedrooms                         float64\n",
       "AirDNA Market                     object\n",
       "adr                              float64\n",
       "Pets Allowed                        bool\n",
       "Occupancy Rate LTM               float64\n",
       "Max Guests                       float64\n",
       "Listing Type                      object\n",
       "Host Type                         object\n",
       "Has Pool                            bool\n",
       "Created Date              datetime64[ns]\n",
       "bathrooms                        float64\n",
       "Overall Rating                   float64\n",
       "Minimum Stay                     float64\n",
       "Cleaning Fee                     float64\n",
       "Price Tier                        object\n",
       "Has Kitchen                         bool\n",
       "Number of Reviews                float64\n",
       "Number of Photos                 float64\n",
       "Number of Bookings LTM           float64\n",
       "latitude                         float64\n",
       "zipcode                            int64\n",
       "dtype: object"
      ]
     },
     "execution_count": 47,
     "metadata": {},
     "output_type": "execute_result"
    }
   ],
   "source": [
    "# Convert the \"Created Date\" column to datetime datatype\n",
    "df_cleaned[\"Created Date\"] = pd.to_datetime(df_cleaned[\"Created Date\"])\n",
    "\n",
    "# Drop the \"Location Type\" column as it has only one unique value\n",
    "df_cleaned = df_cleaned.drop(columns=[\"Location Type\"])\n",
    "\n",
    "# Confirm the changes\n",
    "data_types_updated = df_cleaned.dtypes\n",
    "data_types_updated\n"
   ]
  },
  {
   "cell_type": "code",
   "execution_count": 49,
   "id": "d466de5e",
   "metadata": {},
   "outputs": [
    {
     "data": {
      "text/plain": [
       "(5349, 26)"
      ]
     },
     "execution_count": 49,
     "metadata": {},
     "output_type": "execute_result"
    }
   ],
   "source": [
    "df_cleaned.shape"
   ]
  },
  {
   "cell_type": "code",
   "execution_count": 50,
   "id": "97eda42f",
   "metadata": {},
   "outputs": [
    {
     "data": {
      "text/html": [
       "<div>\n",
       "<style scoped>\n",
       "    .dataframe tbody tr th:only-of-type {\n",
       "        vertical-align: middle;\n",
       "    }\n",
       "\n",
       "    .dataframe tbody tr th {\n",
       "        vertical-align: top;\n",
       "    }\n",
       "\n",
       "    .dataframe thead th {\n",
       "        text-align: right;\n",
       "    }\n",
       "</style>\n",
       "<table border=\"1\" class=\"dataframe\">\n",
       "  <thead>\n",
       "    <tr style=\"text-align: right;\">\n",
       "      <th></th>\n",
       "      <th>longitude</th>\n",
       "      <th>bedrooms</th>\n",
       "      <th>adr</th>\n",
       "      <th>Occupancy Rate LTM</th>\n",
       "      <th>Max Guests</th>\n",
       "      <th>Created Date</th>\n",
       "      <th>bathrooms</th>\n",
       "      <th>Overall Rating</th>\n",
       "      <th>Minimum Stay</th>\n",
       "      <th>Cleaning Fee</th>\n",
       "      <th>Number of Reviews</th>\n",
       "      <th>Number of Photos</th>\n",
       "      <th>Number of Bookings LTM</th>\n",
       "      <th>latitude</th>\n",
       "      <th>zipcode</th>\n",
       "    </tr>\n",
       "  </thead>\n",
       "  <tbody>\n",
       "    <tr>\n",
       "      <th>count</th>\n",
       "      <td>5349.000000</td>\n",
       "      <td>5349.000000</td>\n",
       "      <td>5349.000000</td>\n",
       "      <td>5349.000000</td>\n",
       "      <td>5349.000000</td>\n",
       "      <td>5349</td>\n",
       "      <td>5349.000000</td>\n",
       "      <td>5349.000000</td>\n",
       "      <td>5349.000000</td>\n",
       "      <td>5349.000000</td>\n",
       "      <td>5349.000000</td>\n",
       "      <td>5349.000000</td>\n",
       "      <td>5349.000000</td>\n",
       "      <td>5349.000000</td>\n",
       "      <td>5349.000000</td>\n",
       "    </tr>\n",
       "    <tr>\n",
       "      <th>mean</th>\n",
       "      <td>-116.392513</td>\n",
       "      <td>2.254253</td>\n",
       "      <td>266.298134</td>\n",
       "      <td>0.411441</td>\n",
       "      <td>5.474294</td>\n",
       "      <td>2020-04-15 04:55:19.349411072</td>\n",
       "      <td>1.815293</td>\n",
       "      <td>96.878089</td>\n",
       "      <td>7.134044</td>\n",
       "      <td>148.389792</td>\n",
       "      <td>77.367171</td>\n",
       "      <td>36.706674</td>\n",
       "      <td>32.518789</td>\n",
       "      <td>33.991384</td>\n",
       "      <td>92250.727239</td>\n",
       "    </tr>\n",
       "    <tr>\n",
       "      <th>min</th>\n",
       "      <td>-116.724860</td>\n",
       "      <td>0.000000</td>\n",
       "      <td>0.000000</td>\n",
       "      <td>0.000000</td>\n",
       "      <td>1.000000</td>\n",
       "      <td>2009-08-07 00:00:00</td>\n",
       "      <td>0.000000</td>\n",
       "      <td>20.000000</td>\n",
       "      <td>0.000000</td>\n",
       "      <td>0.000000</td>\n",
       "      <td>1.000000</td>\n",
       "      <td>1.000000</td>\n",
       "      <td>0.000000</td>\n",
       "      <td>33.725450</td>\n",
       "      <td>92211.000000</td>\n",
       "    </tr>\n",
       "    <tr>\n",
       "      <th>25%</th>\n",
       "      <td>-116.461720</td>\n",
       "      <td>1.000000</td>\n",
       "      <td>105.180000</td>\n",
       "      <td>0.125000</td>\n",
       "      <td>4.000000</td>\n",
       "      <td>2018-09-10 00:00:00</td>\n",
       "      <td>1.000000</td>\n",
       "      <td>96.338028</td>\n",
       "      <td>1.000000</td>\n",
       "      <td>75.000000</td>\n",
       "      <td>7.000000</td>\n",
       "      <td>22.000000</td>\n",
       "      <td>1.000000</td>\n",
       "      <td>33.797167</td>\n",
       "      <td>92234.000000</td>\n",
       "    </tr>\n",
       "    <tr>\n",
       "      <th>50%</th>\n",
       "      <td>-116.385970</td>\n",
       "      <td>2.000000</td>\n",
       "      <td>221.720000</td>\n",
       "      <td>0.416667</td>\n",
       "      <td>5.000000</td>\n",
       "      <td>2020-12-15 00:00:00</td>\n",
       "      <td>2.000000</td>\n",
       "      <td>99.000000</td>\n",
       "      <td>2.000000</td>\n",
       "      <td>140.000000</td>\n",
       "      <td>30.000000</td>\n",
       "      <td>33.000000</td>\n",
       "      <td>18.000000</td>\n",
       "      <td>34.049710</td>\n",
       "      <td>92252.000000</td>\n",
       "    </tr>\n",
       "    <tr>\n",
       "      <th>75%</th>\n",
       "      <td>-116.321210</td>\n",
       "      <td>3.000000</td>\n",
       "      <td>344.900000</td>\n",
       "      <td>0.642512</td>\n",
       "      <td>7.000000</td>\n",
       "      <td>2022-04-07 00:00:00</td>\n",
       "      <td>2.000000</td>\n",
       "      <td>100.000000</td>\n",
       "      <td>3.000000</td>\n",
       "      <td>200.000000</td>\n",
       "      <td>95.000000</td>\n",
       "      <td>47.000000</td>\n",
       "      <td>52.000000</td>\n",
       "      <td>34.136850</td>\n",
       "      <td>92270.000000</td>\n",
       "    </tr>\n",
       "    <tr>\n",
       "      <th>max</th>\n",
       "      <td>-116.170300</td>\n",
       "      <td>15.000000</td>\n",
       "      <td>5581.450000</td>\n",
       "      <td>1.000000</td>\n",
       "      <td>16.000000</td>\n",
       "      <td>2023-07-22 00:00:00</td>\n",
       "      <td>14.000000</td>\n",
       "      <td>100.000000</td>\n",
       "      <td>360.000000</td>\n",
       "      <td>2250.000000</td>\n",
       "      <td>1290.000000</td>\n",
       "      <td>222.000000</td>\n",
       "      <td>266.000000</td>\n",
       "      <td>34.380450</td>\n",
       "      <td>92285.000000</td>\n",
       "    </tr>\n",
       "    <tr>\n",
       "      <th>std</th>\n",
       "      <td>0.078846</td>\n",
       "      <td>1.275760</td>\n",
       "      <td>309.212324</td>\n",
       "      <td>0.307221</td>\n",
       "      <td>2.827624</td>\n",
       "      <td>NaN</td>\n",
       "      <td>0.896735</td>\n",
       "      <td>5.935442</td>\n",
       "      <td>14.631556</td>\n",
       "      <td>114.140045</td>\n",
       "      <td>120.198521</td>\n",
       "      <td>21.865096</td>\n",
       "      <td>38.377995</td>\n",
       "      <td>0.176777</td>\n",
       "      <td>24.235688</td>\n",
       "    </tr>\n",
       "  </tbody>\n",
       "</table>\n",
       "</div>"
      ],
      "text/plain": [
       "         longitude     bedrooms          adr  Occupancy Rate LTM   Max Guests  \\\n",
       "count  5349.000000  5349.000000  5349.000000         5349.000000  5349.000000   \n",
       "mean   -116.392513     2.254253   266.298134            0.411441     5.474294   \n",
       "min    -116.724860     0.000000     0.000000            0.000000     1.000000   \n",
       "25%    -116.461720     1.000000   105.180000            0.125000     4.000000   \n",
       "50%    -116.385970     2.000000   221.720000            0.416667     5.000000   \n",
       "75%    -116.321210     3.000000   344.900000            0.642512     7.000000   \n",
       "max    -116.170300    15.000000  5581.450000            1.000000    16.000000   \n",
       "std       0.078846     1.275760   309.212324            0.307221     2.827624   \n",
       "\n",
       "                        Created Date    bathrooms  Overall Rating  \\\n",
       "count                           5349  5349.000000     5349.000000   \n",
       "mean   2020-04-15 04:55:19.349411072     1.815293       96.878089   \n",
       "min              2009-08-07 00:00:00     0.000000       20.000000   \n",
       "25%              2018-09-10 00:00:00     1.000000       96.338028   \n",
       "50%              2020-12-15 00:00:00     2.000000       99.000000   \n",
       "75%              2022-04-07 00:00:00     2.000000      100.000000   \n",
       "max              2023-07-22 00:00:00    14.000000      100.000000   \n",
       "std                              NaN     0.896735        5.935442   \n",
       "\n",
       "       Minimum Stay  Cleaning Fee  Number of Reviews  Number of Photos  \\\n",
       "count   5349.000000   5349.000000        5349.000000       5349.000000   \n",
       "mean       7.134044    148.389792          77.367171         36.706674   \n",
       "min        0.000000      0.000000           1.000000          1.000000   \n",
       "25%        1.000000     75.000000           7.000000         22.000000   \n",
       "50%        2.000000    140.000000          30.000000         33.000000   \n",
       "75%        3.000000    200.000000          95.000000         47.000000   \n",
       "max      360.000000   2250.000000        1290.000000        222.000000   \n",
       "std       14.631556    114.140045         120.198521         21.865096   \n",
       "\n",
       "       Number of Bookings LTM     latitude       zipcode  \n",
       "count             5349.000000  5349.000000   5349.000000  \n",
       "mean                32.518789    33.991384  92250.727239  \n",
       "min                  0.000000    33.725450  92211.000000  \n",
       "25%                  1.000000    33.797167  92234.000000  \n",
       "50%                 18.000000    34.049710  92252.000000  \n",
       "75%                 52.000000    34.136850  92270.000000  \n",
       "max                266.000000    34.380450  92285.000000  \n",
       "std                 38.377995     0.176777     24.235688  "
      ]
     },
     "execution_count": 50,
     "metadata": {},
     "output_type": "execute_result"
    }
   ],
   "source": [
    "df_cleaned.describe()"
   ]
  },
  {
   "cell_type": "markdown",
   "id": "a31db742",
   "metadata": {},
   "source": [
    "adr: Average daily rate ranges from 0 to 5581.45. A value of 0 might indicate missing or erroneous data.\n",
    "\n",
    "Cleaning Fee: Ranges from 0 to 2250. While 0 might mean no cleaning fee, very high values might need verification. Some properties might have very high cleaning fees if the property adr is very high itself. "
   ]
  },
  {
   "cell_type": "code",
   "execution_count": 51,
   "id": "758f5d47",
   "metadata": {},
   "outputs": [
    {
     "data": {
      "text/html": [
       "<div>\n",
       "<style scoped>\n",
       "    .dataframe tbody tr th:only-of-type {\n",
       "        vertical-align: middle;\n",
       "    }\n",
       "\n",
       "    .dataframe tbody tr th {\n",
       "        vertical-align: top;\n",
       "    }\n",
       "\n",
       "    .dataframe thead th {\n",
       "        text-align: right;\n",
       "    }\n",
       "</style>\n",
       "<table border=\"1\" class=\"dataframe\">\n",
       "  <thead>\n",
       "    <tr style=\"text-align: right;\">\n",
       "      <th></th>\n",
       "      <th>False</th>\n",
       "      <th>True</th>\n",
       "    </tr>\n",
       "  </thead>\n",
       "  <tbody>\n",
       "    <tr>\n",
       "      <th>Has Parking</th>\n",
       "      <td>120</td>\n",
       "      <td>5229</td>\n",
       "    </tr>\n",
       "    <tr>\n",
       "      <th>Has Hot Tub</th>\n",
       "      <td>1833</td>\n",
       "      <td>3516</td>\n",
       "    </tr>\n",
       "    <tr>\n",
       "      <th>Pets Allowed</th>\n",
       "      <td>2810</td>\n",
       "      <td>2539</td>\n",
       "    </tr>\n",
       "    <tr>\n",
       "      <th>Has Pool</th>\n",
       "      <td>2033</td>\n",
       "      <td>3316</td>\n",
       "    </tr>\n",
       "    <tr>\n",
       "      <th>Has Kitchen</th>\n",
       "      <td>367</td>\n",
       "      <td>4982</td>\n",
       "    </tr>\n",
       "  </tbody>\n",
       "</table>\n",
       "</div>"
      ],
      "text/plain": [
       "              False  True \n",
       "Has Parking     120   5229\n",
       "Has Hot Tub    1833   3516\n",
       "Pets Allowed   2810   2539\n",
       "Has Pool       2033   3316\n",
       "Has Kitchen     367   4982"
      ]
     },
     "execution_count": 51,
     "metadata": {},
     "output_type": "execute_result"
    }
   ],
   "source": [
    "# Inspecting the distribution of True vs. False values for boolean columns\n",
    "boolean_columns_distribution = df_cleaned.select_dtypes(include=['bool']).apply(pd.Series.value_counts).T\n",
    "boolean_columns_distribution\n"
   ]
  },
  {
   "cell_type": "markdown",
   "id": "6d5945b2",
   "metadata": {},
   "source": [
    "The distributions appear reasonable and indicate the presence or absence of certain amenities or features in the listings."
   ]
  },
  {
   "cell_type": "markdown",
   "id": "6a77958c",
   "metadata": {},
   "source": [
    "Let's inspect rows with very high ADR values or very low ADR values."
   ]
  },
  {
   "cell_type": "code",
   "execution_count": 52,
   "id": "703b9ab3",
   "metadata": {},
   "outputs": [
    {
     "data": {
      "text/plain": [
       "(       longitude  Has Parking Cancellation Policy  Has Hot Tub  \\\n",
       " 26    -116.32601         True              strict        False   \n",
       " 34    -116.40567         True              strict         True   \n",
       " 56    -116.43989         True            moderate        False   \n",
       " 75    -116.43968         True              strict        False   \n",
       " 131   -116.43983         True            moderate        False   \n",
       " ...          ...          ...                 ...          ...   \n",
       " 16221 -116.41397         True              strict         True   \n",
       " 16231 -116.32607         True              strict        False   \n",
       " 16263 -116.25436         True              strict        False   \n",
       " 16267 -116.31596         True            moderate         True   \n",
       " 16271 -116.23821         True            flexible        False   \n",
       " \n",
       "                      city  bedrooms         AirDNA Market  adr  Pets Allowed  \\\n",
       " 26            Palm Desert       3.0  COACHELLA VALLEY, CA  0.0         False   \n",
       " 34           Yucca Valley       2.0       JOSHUA TREE, CA  0.0         False   \n",
       " 56     Desert Hot Springs       1.0  COACHELLA VALLEY, CA  0.0         False   \n",
       " 75           Yucca Valley       1.0       JOSHUA TREE, CA  0.0         False   \n",
       " 131    Desert Hot Springs       1.0  COACHELLA VALLEY, CA  0.0         False   \n",
       " ...                   ...       ...                   ...  ...           ...   \n",
       " 16221       Rancho Mirage       3.0  COACHELLA VALLEY, CA  0.0          True   \n",
       " 16231         Joshua Tree       1.0       JOSHUA TREE, CA  0.0         False   \n",
       " 16263         Joshua Tree       0.0       JOSHUA TREE, CA  0.0          True   \n",
       " 16267         Palm Desert       2.0  COACHELLA VALLEY, CA  0.0         False   \n",
       " 16271         Joshua Tree       1.0       JOSHUA TREE, CA  0.0          True   \n",
       " \n",
       "        Occupancy Rate LTM  ...  Overall Rating Minimum Stay Cleaning Fee  \\\n",
       " 26                    0.0  ...      100.000000          3.0        150.0   \n",
       " 34                    0.0  ...       98.000000          2.0         90.0   \n",
       " 56                    0.0  ...      100.000000          1.0          0.0   \n",
       " 75                    0.0  ...       98.000000          1.0         30.0   \n",
       " 131                   0.0  ...       99.000000          1.0          0.0   \n",
       " ...                   ...  ...             ...          ...          ...   \n",
       " 16221                 0.0  ...       98.198675         28.0        200.0   \n",
       " 16231                 0.0  ...      100.000000          1.0         15.0   \n",
       " 16263                 0.0  ...      100.000000          2.0         50.0   \n",
       " 16267                 0.0  ...      100.000000          2.0        100.0   \n",
       " 16271                 0.0  ...       99.000000          1.0          0.0   \n",
       " \n",
       "        Price Tier Has Kitchen  Number of Reviews  Number of Photos  \\\n",
       " 26         luxury        True                4.0              10.0   \n",
       " 34        upscale        True              528.0              27.0   \n",
       " 56        upscale        True               14.0              21.0   \n",
       " 75        economy        True              143.0              11.0   \n",
       " 131       upscale        True               14.0              20.0   \n",
       " ...           ...         ...                ...               ...   \n",
       " 16221    midscale        True              151.0              46.0   \n",
       " 16231     economy        True              243.0              48.0   \n",
       " 16263     upscale        True               88.0             103.0   \n",
       " 16267     upscale        True                4.0              11.0   \n",
       " 16271      budget       False              117.0              20.0   \n",
       " \n",
       "        Number of Bookings LTM  latitude zipcode  \n",
       " 26                        0.0  33.73609   92211  \n",
       " 34                        0.0  34.15233   92284  \n",
       " 56                        0.0  33.91077   92241  \n",
       " 75                        0.0  34.12630   92284  \n",
       " 131                       0.0  33.91117   92241  \n",
       " ...                       ...       ...     ...  \n",
       " 16221                     0.0  33.73753   92270  \n",
       " 16231                     0.0  34.12080   92252  \n",
       " 16263                     0.0  34.13336   92252  \n",
       " 16267                     0.0  33.75138   92211  \n",
       " 16271                     0.0  34.15147   92252  \n",
       " \n",
       " [1141 rows x 26 columns],\n",
       "        longitude  Has Parking Cancellation Policy  Has Hot Tub  \\\n",
       " 206   -116.35200         True              strict         True   \n",
       " 584   -116.32378         True              strict         True   \n",
       " 599   -116.50427         True              strict         True   \n",
       " 2139  -116.45716         True        super strict         True   \n",
       " 2673  -116.28695         True            flexible         True   \n",
       " ...          ...          ...                 ...          ...   \n",
       " 14257 -116.38692         True              strict        False   \n",
       " 14537 -116.43812         True            flexible         True   \n",
       " 14539 -116.23252         True            moderate         True   \n",
       " 14937 -116.41629         True              strict         True   \n",
       " 15601 -116.34684         True              strict         True   \n",
       " \n",
       "                  city  bedrooms         AirDNA Market      adr  Pets Allowed  \\\n",
       " 206      Yucca Valley       5.0       JOSHUA TREE, CA  1472.35         False   \n",
       " 584       Palm Desert       5.0  COACHELLA VALLEY, CA  1141.35         False   \n",
       " 599       Pioneertown       5.0       JOSHUA TREE, CA  1595.16          True   \n",
       " 2139    Rancho Mirage       4.0  COACHELLA VALLEY, CA  2537.03          True   \n",
       " 2673      Joshua Tree       3.0       JOSHUA TREE, CA  1052.52          True   \n",
       " ...               ...       ...                   ...      ...           ...   \n",
       " 14257  Thousand Palms       4.0  COACHELLA VALLEY, CA  1075.00          True   \n",
       " 14537   Rancho Mirage       5.0  COACHELLA VALLEY, CA  1269.50          True   \n",
       " 14539     Joshua Tree      10.0       JOSHUA TREE, CA  1275.89          True   \n",
       " 14937   Rancho Mirage       3.0  COACHELLA VALLEY, CA  1047.16         False   \n",
       " 15601  Thousand Palms       4.0  COACHELLA VALLEY, CA  1001.17          True   \n",
       " \n",
       "        Occupancy Rate LTM  ...  Overall Rating Minimum Stay Cleaning Fee  \\\n",
       " 206              0.788820  ...       98.000000          2.0        250.0   \n",
       " 584              0.409524  ...      100.000000         28.0        395.0   \n",
       " 599              0.715543  ...      100.000000          2.0        599.0   \n",
       " 2139             0.180556  ...       94.875000         28.0        375.0   \n",
       " 2673             0.258621  ...       97.000000          1.0        250.0   \n",
       " ...                   ...  ...             ...          ...          ...   \n",
       " 14257            0.148148  ...      100.000000          2.0        250.0   \n",
       " 14537            0.500000  ...      100.000000         30.0        150.0   \n",
       " 14539            0.432099  ...      100.000000          1.0        545.0   \n",
       " 14937            0.431694  ...      100.000000         28.0        200.0   \n",
       " 15601            0.432877  ...       96.613636          1.0        350.0   \n",
       " \n",
       "        Price Tier Has Kitchen  Number of Reviews  Number of Photos  \\\n",
       " 206        luxury        True               19.0              31.0   \n",
       " 584       economy        True                2.0              53.0   \n",
       " 599        luxury        True              167.0             145.0   \n",
       " 2139       luxury        True                8.0              36.0   \n",
       " 2673       luxury        True               19.0              67.0   \n",
       " ...           ...         ...                ...               ...   \n",
       " 14257      luxury        True                1.0              14.0   \n",
       " 14537      budget        True               21.0              96.0   \n",
       " 14539     upscale        True                1.0             100.0   \n",
       " 14937      luxury        True               45.0              70.0   \n",
       " 15601     upscale        True               88.0              58.0   \n",
       " \n",
       "        Number of Bookings LTM  latitude zipcode  \n",
       " 206                     140.0  34.18779   92284  \n",
       " 584                      16.0  33.76189   92211  \n",
       " 599                      96.0  34.15655   92268  \n",
       " 2139                     19.0  33.76582   92270  \n",
       " 2673                     28.0  34.09897   92252  \n",
       " ...                       ...       ...     ...  \n",
       " 14257                     4.0  33.82147   92276  \n",
       " 14537                     4.0  33.78264   92270  \n",
       " 14539                    15.0  34.15577   92252  \n",
       " 14937                    15.0  33.74226   92270  \n",
       " 15601                    66.0  33.81907   92276  \n",
       " \n",
       " [121 rows x 26 columns])"
      ]
     },
     "execution_count": 52,
     "metadata": {},
     "output_type": "execute_result"
    }
   ],
   "source": [
    "# Inspecting rows with extremely low or high adr values\n",
    "\n",
    "# Define thresholds (for the sake of this inspection, we'll consider values below 10 and above 1000 as extreme)\n",
    "low_threshold = 10\n",
    "high_threshold = 1000\n",
    "\n",
    "# Filter rows based on these thresholds\n",
    "low_adr_rows = df_cleaned[df_cleaned[\"adr\"] < low_threshold]\n",
    "high_adr_rows = df_cleaned[df_cleaned[\"adr\"] > high_threshold]\n",
    "\n",
    "low_adr_rows, high_adr_rows\n"
   ]
  },
  {
   "cell_type": "code",
   "execution_count": 53,
   "id": "aee2f887",
   "metadata": {},
   "outputs": [
    {
     "data": {
      "text/html": [
       "<div>\n",
       "<style scoped>\n",
       "    .dataframe tbody tr th:only-of-type {\n",
       "        vertical-align: middle;\n",
       "    }\n",
       "\n",
       "    .dataframe tbody tr th {\n",
       "        vertical-align: top;\n",
       "    }\n",
       "\n",
       "    .dataframe thead th {\n",
       "        text-align: right;\n",
       "    }\n",
       "</style>\n",
       "<table border=\"1\" class=\"dataframe\">\n",
       "  <thead>\n",
       "    <tr style=\"text-align: right;\">\n",
       "      <th></th>\n",
       "      <th>Occupancy Rate LTM</th>\n",
       "      <th>Number of Reviews</th>\n",
       "      <th>Number of Bookings LTM</th>\n",
       "      <th>Overall Rating</th>\n",
       "    </tr>\n",
       "  </thead>\n",
       "  <tbody>\n",
       "    <tr>\n",
       "      <th>4213</th>\n",
       "      <td>0.0</td>\n",
       "      <td>32.0</td>\n",
       "      <td>0.0</td>\n",
       "      <td>99.00</td>\n",
       "    </tr>\n",
       "    <tr>\n",
       "      <th>10352</th>\n",
       "      <td>0.0</td>\n",
       "      <td>43.0</td>\n",
       "      <td>0.0</td>\n",
       "      <td>96.00</td>\n",
       "    </tr>\n",
       "    <tr>\n",
       "      <th>3803</th>\n",
       "      <td>0.0</td>\n",
       "      <td>66.0</td>\n",
       "      <td>0.0</td>\n",
       "      <td>100.00</td>\n",
       "    </tr>\n",
       "    <tr>\n",
       "      <th>2064</th>\n",
       "      <td>0.0</td>\n",
       "      <td>75.0</td>\n",
       "      <td>0.0</td>\n",
       "      <td>90.08</td>\n",
       "    </tr>\n",
       "    <tr>\n",
       "      <th>12673</th>\n",
       "      <td>0.0</td>\n",
       "      <td>248.0</td>\n",
       "      <td>0.0</td>\n",
       "      <td>98.00</td>\n",
       "    </tr>\n",
       "  </tbody>\n",
       "</table>\n",
       "</div>"
      ],
      "text/plain": [
       "       Occupancy Rate LTM  Number of Reviews  Number of Bookings LTM  \\\n",
       "4213                  0.0               32.0                     0.0   \n",
       "10352                 0.0               43.0                     0.0   \n",
       "3803                  0.0               66.0                     0.0   \n",
       "2064                  0.0               75.0                     0.0   \n",
       "12673                 0.0              248.0                     0.0   \n",
       "\n",
       "       Overall Rating  \n",
       "4213            99.00  \n",
       "10352           96.00  \n",
       "3803           100.00  \n",
       "2064            90.08  \n",
       "12673           98.00  "
      ]
     },
     "execution_count": 53,
     "metadata": {},
     "output_type": "execute_result"
    }
   ],
   "source": [
    "# Extract rows with adr value of 0 and inspect the specified columns\n",
    "adr_zero_rows = df_cleaned[df_cleaned[\"adr\"] == 0][[\"Occupancy Rate LTM\", \"Number of Reviews\", \"Number of Bookings LTM\", \"Overall Rating\"]]\n",
    "\n",
    "# Display a few examples\n",
    "adr_zero_rows_sample = adr_zero_rows.sample(min(5, len(adr_zero_rows)))\n",
    "adr_zero_rows_sample\n"
   ]
  },
  {
   "cell_type": "markdown",
   "id": "ea28e10e",
   "metadata": {},
   "source": [
    "The rows with zero adr tend to have an occupancy rate of zero as well. Let's drop these rows. "
   ]
  },
  {
   "cell_type": "code",
   "execution_count": 54,
   "id": "feec4cfc",
   "metadata": {},
   "outputs": [
    {
     "data": {
      "text/plain": [
       "((4208, 26),\n",
       "      longitude  Has Parking Cancellation Policy  Has Hot Tub          city  \\\n",
       " 12 -116.528970         True              strict        False   Pioneertown   \n",
       " 38 -116.351240         True              strict         True   Palm Desert   \n",
       " 39 -116.328949         True              strict         True   Joshua Tree   \n",
       " 49 -116.435980         True              strict         True  Yucca Valley   \n",
       " 58 -116.391540         True              strict        False       Landers   \n",
       " \n",
       "     bedrooms         AirDNA Market     adr  Pets Allowed  Occupancy Rate LTM  \\\n",
       " 12       1.0       JOSHUA TREE, CA  345.45          True            0.550000   \n",
       " 38       3.0  COACHELLA VALLEY, CA  550.00         False            1.000000   \n",
       " 39       3.0       JOSHUA TREE, CA  261.49          True            0.454795   \n",
       " 49       3.0       JOSHUA TREE, CA  417.13         False            0.750000   \n",
       " 58       1.0       JOSHUA TREE, CA  224.00         False            0.157068   \n",
       " \n",
       "     ...  Overall Rating Minimum Stay Cleaning Fee  Price Tier Has Kitchen  \\\n",
       " 12  ...       99.000000         31.0         75.0      luxury        True   \n",
       " 38  ...       97.000000          4.0        200.0    midscale        True   \n",
       " 39  ...       96.738404          2.0         85.0     economy        True   \n",
       " 49  ...       99.000000          2.0        200.0     upscale        True   \n",
       " 58  ...       97.000000          1.0         35.0     upscale        True   \n",
       " \n",
       "     Number of Reviews  Number of Photos  Number of Bookings LTM   latitude  \\\n",
       " 12              205.0              26.0                    33.0  34.254910   \n",
       " 38              101.0              24.0                     1.0  33.746180   \n",
       " 39              539.0              54.0                    65.0  34.121407   \n",
       " 49              333.0              47.0                    87.0  34.153980   \n",
       " 58               21.0              19.0                    10.0  34.289350   \n",
       " \n",
       "    zipcode  \n",
       " 12   92268  \n",
       " 38   92211  \n",
       " 39   92252  \n",
       " 49   92284  \n",
       " 58   92285  \n",
       " \n",
       " [5 rows x 26 columns])"
      ]
     },
     "execution_count": 54,
     "metadata": {},
     "output_type": "execute_result"
    }
   ],
   "source": [
    "# Drop rows with an adr value of 0\n",
    "df_cleaned = df_cleaned[df_cleaned[\"adr\"] != 0]\n",
    "\n",
    "# Confirm the shape of the updated dataframe and display the first few rows\n",
    "updated_shape = df_cleaned.shape\n",
    "sample_data_after_dropping = df_cleaned.head()\n",
    "\n",
    "updated_shape, sample_data_after_dropping\n"
   ]
  },
  {
   "cell_type": "code",
   "execution_count": 55,
   "id": "df817794",
   "metadata": {},
   "outputs": [
    {
     "data": {
      "image/png": "[encoded data removed]",
      "text/plain": [
       "<Figure size 1500x1000 with 5 Axes>"
      ]
     },
     "metadata": {},
     "output_type": "display_data"
    }
   ],
   "source": [
    "import matplotlib.pyplot as plt\n",
    "import seaborn as sns\n",
    "\n",
    "# Selecting key numerical columns for visualization\n",
    "columns_to_visualize = [\"adr\", \"Occupancy Rate LTM\", \"Number of Reviews\", \"Number of Bookings LTM\", \"Overall Rating\"]\n",
    "\n",
    "# Plotting the distributions for these columns\n",
    "plt.figure(figsize=(15, 10))\n",
    "for i, column in enumerate(columns_to_visualize, 1):\n",
    "    plt.subplot(2, 3, i)\n",
    "    sns.boxplot(x=df_cleaned[column])\n",
    "    plt.title(f'Distribution of {column}')\n",
    "    plt.tight_layout()\n",
    "\n",
    "plt.show()\n"
   ]
  },
  {
   "cell_type": "markdown",
   "id": "d7ceb34c",
   "metadata": {},
   "source": [
    "Given the above visualizations, we should consider inspecting:\n",
    "\n",
    "1) Rows with an extremely high adr.\n",
    "2) Rows with an extremely high Number of Reviews.\n",
    "3) Rows with an extremely high Number of Bookings LTM.\n"
   ]
  },
  {
   "cell_type": "code",
   "execution_count": 56,
   "id": "d8de22ad",
   "metadata": {},
   "outputs": [
    {
     "data": {
      "text/plain": [
       "((288, 26), (345, 26), (95, 26))"
      ]
     },
     "execution_count": 56,
     "metadata": {},
     "output_type": "execute_result"
    }
   ],
   "source": [
    "# Function to compute the outlier threshold based on IQR\n",
    "def compute_outlier_thresholds(data):\n",
    "    Q1 = data.quantile(0.25)\n",
    "    Q3 = data.quantile(0.75)\n",
    "    IQR = Q3 - Q1\n",
    "    lower_bound = Q1 - 1.5 * IQR\n",
    "    upper_bound = Q3 + 1.5 * IQR\n",
    "    return lower_bound, upper_bound\n",
    "\n",
    "# Calculating outlier thresholds for the selected columns\n",
    "adr_lower, adr_upper = compute_outlier_thresholds(df_cleaned[\"adr\"])\n",
    "reviews_lower, reviews_upper = compute_outlier_thresholds(df_cleaned[\"Number of Reviews\"])\n",
    "bookings_lower, bookings_upper = compute_outlier_thresholds(df_cleaned[\"Number of Bookings LTM\"])\n",
    "\n",
    "# Filtering rows based on these thresholds\n",
    "high_adr_rows = df_cleaned[df_cleaned[\"adr\"] > adr_upper]\n",
    "high_reviews_rows = df_cleaned[df_cleaned[\"Number of Reviews\"] > reviews_upper]\n",
    "high_bookings_rows = df_cleaned[df_cleaned[\"Number of Bookings LTM\"] > bookings_upper]\n",
    "\n",
    "# Returning the filtered rows for inspection\n",
    "high_adr_rows.shape, high_reviews_rows.shape, high_bookings_rows.shape\n"
   ]
  },
  {
   "cell_type": "markdown",
   "id": "15a942bb",
   "metadata": {},
   "source": [
    "We have 288 rows with an extremely high adr value.\n",
    "\n",
    "We have 345 rows with an extremely high Number of Reviews.\n",
    "\n",
    "We have 95 rows with an extremely high Number of Bookings LTM.\n",
    "\n",
    "These are likely luxury properties, and not erroneous. \n",
    "\n",
    "Let's now save this cleaned dataset as a CSV."
   ]
  },
  {
   "cell_type": "code",
   "execution_count": 57,
   "id": "5834faae",
   "metadata": {},
   "outputs": [
    {
     "data": {
      "text/plain": [
       "(4208, 26)"
      ]
     },
     "execution_count": 57,
     "metadata": {},
     "output_type": "execute_result"
    }
   ],
   "source": [
    "df_cleaned.shape"
   ]
  },
  {
   "cell_type": "code",
   "execution_count": 59,
   "id": "b51624b0",
   "metadata": {},
   "outputs": [
    {
     "data": {
      "text/plain": [
       "'/Users/arka_bagchi/Desktop/AirDNA/cleaned_joshua_tree_data.csv'"
      ]
     },
     "execution_count": 59,
     "metadata": {},
     "output_type": "execute_result"
    }
   ],
   "source": [
    "# Save the cleaned dataset as a CSV\n",
    "csv_filename = \"/Users/arka_bagchi/Desktop/AirDNA/cleaned_joshua_tree_data.csv\"\n",
    "df_cleaned.to_csv(csv_filename, index=False)\n",
    "\n",
    "csv_filename"
   ]
  },
  {
   "cell_type": "code",
   "execution_count": null,
   "id": "1d8773ab",
   "metadata": {},
   "outputs": [],
   "source": []
  }
 ],
 "metadata": {
  "kernelspec": {
   "display_name": "Python 3 (ipykernel)",
   "language": "python",
   "name": "python3"
  },
  "language_info": {
   "codemirror_mode": {
    "name": "ipython",
    "version": 3
   },
   "file_extension": ".py",
   "mimetype": "text/x-python",
   "name": "python",
   "nbconvert_exporter": "python",
   "pygments_lexer": "ipython3",
   "version": "3.9.18"
  }
 },
 "nbformat": 4,
 "nbformat_minor": 5
}
