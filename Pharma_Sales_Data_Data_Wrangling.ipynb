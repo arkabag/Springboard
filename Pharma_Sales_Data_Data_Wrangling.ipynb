{
 "cells": [
  {
   "cell_type": "code",
   "execution_count": 1,
   "id": "4d67a8b8",
   "metadata": {},
   "outputs": [],
   "source": [
    "#Data loading and imports\n",
    "import pandas as pd\n",
    "import numpy as np\n",
    "import matplotlib.pyplot as plt\n",
    "from sklearn.preprocessing import StandardScaler\n",
    "\n",
    "# Importing the datasets using the paths provided\n",
    "sales_daily = pd.read_csv('/Users/arka_bagchi/Desktop/Springboard/pharma_sales_data/salesdaily.csv')\n",
    "sales_hourly = pd.read_csv('/Users/arka_bagchi/Desktop/Springboard/pharma_sales_data/saleshourly.csv')\n",
    "sales_monthly = pd.read_csv('/Users/arka_bagchi/Desktop/Springboard/pharma_sales_data/salesmonthly.csv')\n",
    "sales_weekly = pd.read_csv('/Users/arka_bagchi/Desktop/Springboard/pharma_sales_data/salesweekly.csv')\n"
   ]
  },
  {
   "cell_type": "code",
   "execution_count": 2,
   "id": "cd5107bf",
   "metadata": {},
   "outputs": [
    {
     "data": {
      "text/plain": [
       "(2106, 13)"
      ]
     },
     "execution_count": 2,
     "metadata": {},
     "output_type": "execute_result"
    }
   ],
   "source": [
    "sales_daily.shape"
   ]
  },
  {
   "cell_type": "code",
   "execution_count": 3,
   "id": "2967de1e",
   "metadata": {},
   "outputs": [
    {
     "name": "stdout",
     "output_type": "stream",
     "text": [
      "<class 'pandas.core.frame.DataFrame'>\n",
      "RangeIndex: 2106 entries, 0 to 2105\n",
      "Data columns (total 13 columns):\n",
      " #   Column        Non-Null Count  Dtype  \n",
      "---  ------        --------------  -----  \n",
      " 0   datum         2106 non-null   object \n",
      " 1   M01AB         2106 non-null   float64\n",
      " 2   M01AE         2106 non-null   float64\n",
      " 3   N02BA         2106 non-null   float64\n",
      " 4   N02BE         2106 non-null   float64\n",
      " 5   N05B          2106 non-null   float64\n",
      " 6   N05C          2106 non-null   float64\n",
      " 7   R03           2106 non-null   float64\n",
      " 8   R06           2106 non-null   float64\n",
      " 9   Year          2106 non-null   int64  \n",
      " 10  Month         2106 non-null   int64  \n",
      " 11  Hour          2106 non-null   int64  \n",
      " 12  Weekday Name  2106 non-null   object \n",
      "dtypes: float64(8), int64(3), object(2)\n",
      "memory usage: 214.0+ KB\n"
     ]
    }
   ],
   "source": [
    "# Display column names and their data types\n",
    "sales_daily.info()"
   ]
  },
  {
   "cell_type": "code",
   "execution_count": 4,
   "id": "0a33481c",
   "metadata": {},
   "outputs": [
    {
     "data": {
      "text/html": [
       "<div>\n",
       "<style scoped>\n",
       "    .dataframe tbody tr th:only-of-type {\n",
       "        vertical-align: middle;\n",
       "    }\n",
       "\n",
       "    .dataframe tbody tr th {\n",
       "        vertical-align: top;\n",
       "    }\n",
       "\n",
       "    .dataframe thead th {\n",
       "        text-align: right;\n",
       "    }\n",
       "</style>\n",
       "<table border=\"1\" class=\"dataframe\">\n",
       "  <thead>\n",
       "    <tr style=\"text-align: right;\">\n",
       "      <th></th>\n",
       "      <th>M01AB</th>\n",
       "      <th>M01AE</th>\n",
       "      <th>N02BA</th>\n",
       "      <th>N02BE</th>\n",
       "      <th>N05B</th>\n",
       "      <th>N05C</th>\n",
       "      <th>R03</th>\n",
       "      <th>R06</th>\n",
       "      <th>Year</th>\n",
       "      <th>Month</th>\n",
       "      <th>Hour</th>\n",
       "    </tr>\n",
       "  </thead>\n",
       "  <tbody>\n",
       "    <tr>\n",
       "      <th>count</th>\n",
       "      <td>2106.000000</td>\n",
       "      <td>2106.000000</td>\n",
       "      <td>2106.000000</td>\n",
       "      <td>2106.000000</td>\n",
       "      <td>2106.000000</td>\n",
       "      <td>2106.000000</td>\n",
       "      <td>2106.000000</td>\n",
       "      <td>2106.000000</td>\n",
       "      <td>2106.000000</td>\n",
       "      <td>2106.000000</td>\n",
       "      <td>2106.000000</td>\n",
       "    </tr>\n",
       "    <tr>\n",
       "      <th>mean</th>\n",
       "      <td>5.033683</td>\n",
       "      <td>3.895830</td>\n",
       "      <td>3.880441</td>\n",
       "      <td>29.917095</td>\n",
       "      <td>8.853627</td>\n",
       "      <td>0.593522</td>\n",
       "      <td>5.512262</td>\n",
       "      <td>2.900198</td>\n",
       "      <td>2016.401235</td>\n",
       "      <td>6.344255</td>\n",
       "      <td>275.945869</td>\n",
       "    </tr>\n",
       "    <tr>\n",
       "      <th>std</th>\n",
       "      <td>2.737579</td>\n",
       "      <td>2.133337</td>\n",
       "      <td>2.384010</td>\n",
       "      <td>15.590966</td>\n",
       "      <td>5.605605</td>\n",
       "      <td>1.092988</td>\n",
       "      <td>6.428736</td>\n",
       "      <td>2.415816</td>\n",
       "      <td>1.665060</td>\n",
       "      <td>3.386954</td>\n",
       "      <td>1.970547</td>\n",
       "    </tr>\n",
       "    <tr>\n",
       "      <th>min</th>\n",
       "      <td>0.000000</td>\n",
       "      <td>0.000000</td>\n",
       "      <td>0.000000</td>\n",
       "      <td>0.000000</td>\n",
       "      <td>0.000000</td>\n",
       "      <td>0.000000</td>\n",
       "      <td>0.000000</td>\n",
       "      <td>0.000000</td>\n",
       "      <td>2014.000000</td>\n",
       "      <td>1.000000</td>\n",
       "      <td>190.000000</td>\n",
       "    </tr>\n",
       "    <tr>\n",
       "      <th>25%</th>\n",
       "      <td>3.000000</td>\n",
       "      <td>2.340000</td>\n",
       "      <td>2.000000</td>\n",
       "      <td>19.000000</td>\n",
       "      <td>5.000000</td>\n",
       "      <td>0.000000</td>\n",
       "      <td>1.000000</td>\n",
       "      <td>1.000000</td>\n",
       "      <td>2015.000000</td>\n",
       "      <td>3.000000</td>\n",
       "      <td>276.000000</td>\n",
       "    </tr>\n",
       "    <tr>\n",
       "      <th>50%</th>\n",
       "      <td>4.990000</td>\n",
       "      <td>3.670000</td>\n",
       "      <td>3.500000</td>\n",
       "      <td>26.900000</td>\n",
       "      <td>8.000000</td>\n",
       "      <td>0.000000</td>\n",
       "      <td>4.000000</td>\n",
       "      <td>2.000000</td>\n",
       "      <td>2016.000000</td>\n",
       "      <td>6.000000</td>\n",
       "      <td>276.000000</td>\n",
       "    </tr>\n",
       "    <tr>\n",
       "      <th>75%</th>\n",
       "      <td>6.670000</td>\n",
       "      <td>5.138000</td>\n",
       "      <td>5.200000</td>\n",
       "      <td>38.300000</td>\n",
       "      <td>12.000000</td>\n",
       "      <td>1.000000</td>\n",
       "      <td>8.000000</td>\n",
       "      <td>4.000000</td>\n",
       "      <td>2018.000000</td>\n",
       "      <td>9.000000</td>\n",
       "      <td>276.000000</td>\n",
       "    </tr>\n",
       "    <tr>\n",
       "      <th>max</th>\n",
       "      <td>17.340000</td>\n",
       "      <td>14.463000</td>\n",
       "      <td>16.000000</td>\n",
       "      <td>161.000000</td>\n",
       "      <td>54.833333</td>\n",
       "      <td>9.000000</td>\n",
       "      <td>45.000000</td>\n",
       "      <td>15.000000</td>\n",
       "      <td>2019.000000</td>\n",
       "      <td>12.000000</td>\n",
       "      <td>276.000000</td>\n",
       "    </tr>\n",
       "  </tbody>\n",
       "</table>\n",
       "</div>"
      ],
      "text/plain": [
       "             M01AB        M01AE        N02BA        N02BE         N05B  \\\n",
       "count  2106.000000  2106.000000  2106.000000  2106.000000  2106.000000   \n",
       "mean      5.033683     3.895830     3.880441    29.917095     8.853627   \n",
       "std       2.737579     2.133337     2.384010    15.590966     5.605605   \n",
       "min       0.000000     0.000000     0.000000     0.000000     0.000000   \n",
       "25%       3.000000     2.340000     2.000000    19.000000     5.000000   \n",
       "50%       4.990000     3.670000     3.500000    26.900000     8.000000   \n",
       "75%       6.670000     5.138000     5.200000    38.300000    12.000000   \n",
       "max      17.340000    14.463000    16.000000   161.000000    54.833333   \n",
       "\n",
       "              N05C          R03          R06         Year        Month  \\\n",
       "count  2106.000000  2106.000000  2106.000000  2106.000000  2106.000000   \n",
       "mean      0.593522     5.512262     2.900198  2016.401235     6.344255   \n",
       "std       1.092988     6.428736     2.415816     1.665060     3.386954   \n",
       "min       0.000000     0.000000     0.000000  2014.000000     1.000000   \n",
       "25%       0.000000     1.000000     1.000000  2015.000000     3.000000   \n",
       "50%       0.000000     4.000000     2.000000  2016.000000     6.000000   \n",
       "75%       1.000000     8.000000     4.000000  2018.000000     9.000000   \n",
       "max       9.000000    45.000000    15.000000  2019.000000    12.000000   \n",
       "\n",
       "              Hour  \n",
       "count  2106.000000  \n",
       "mean    275.945869  \n",
       "std       1.970547  \n",
       "min     190.000000  \n",
       "25%     276.000000  \n",
       "50%     276.000000  \n",
       "75%     276.000000  \n",
       "max     276.000000  "
      ]
     },
     "execution_count": 4,
     "metadata": {},
     "output_type": "execute_result"
    }
   ],
   "source": [
    "# Descriptive statistics of the dataframe\n",
    "sales_daily.describe()"
   ]
  },
  {
   "cell_type": "code",
   "execution_count": 5,
   "id": "70f5a4f5",
   "metadata": {},
   "outputs": [],
   "source": [
    "# Convert 'datum' column to datetime format\n",
    "sales_daily['datum'] = pd.to_datetime(sales_daily['datum'])"
   ]
  },
  {
   "cell_type": "code",
   "execution_count": 6,
   "id": "801a0029",
   "metadata": {},
   "outputs": [
    {
     "data": {
      "text/html": [
       "<div>\n",
       "<style scoped>\n",
       "    .dataframe tbody tr th:only-of-type {\n",
       "        vertical-align: middle;\n",
       "    }\n",
       "\n",
       "    .dataframe tbody tr th {\n",
       "        vertical-align: top;\n",
       "    }\n",
       "\n",
       "    .dataframe thead th {\n",
       "        text-align: right;\n",
       "    }\n",
       "</style>\n",
       "<table border=\"1\" class=\"dataframe\">\n",
       "  <thead>\n",
       "    <tr style=\"text-align: right;\">\n",
       "      <th></th>\n",
       "      <th>datum</th>\n",
       "      <th>M01AB</th>\n",
       "      <th>M01AE</th>\n",
       "      <th>N02BA</th>\n",
       "      <th>N02BE</th>\n",
       "      <th>N05B</th>\n",
       "      <th>N05C</th>\n",
       "      <th>R03</th>\n",
       "      <th>R06</th>\n",
       "      <th>Year</th>\n",
       "      <th>Month</th>\n",
       "      <th>Hour</th>\n",
       "      <th>Weekday Name</th>\n",
       "    </tr>\n",
       "  </thead>\n",
       "  <tbody>\n",
       "    <tr>\n",
       "      <th>0</th>\n",
       "      <td>2014-01-02</td>\n",
       "      <td>0.0</td>\n",
       "      <td>3.67</td>\n",
       "      <td>3.4</td>\n",
       "      <td>32.40</td>\n",
       "      <td>7.0</td>\n",
       "      <td>0.0</td>\n",
       "      <td>0.0</td>\n",
       "      <td>2.0</td>\n",
       "      <td>2014</td>\n",
       "      <td>1</td>\n",
       "      <td>248</td>\n",
       "      <td>Thursday</td>\n",
       "    </tr>\n",
       "    <tr>\n",
       "      <th>1</th>\n",
       "      <td>2014-01-03</td>\n",
       "      <td>8.0</td>\n",
       "      <td>4.00</td>\n",
       "      <td>4.4</td>\n",
       "      <td>50.60</td>\n",
       "      <td>16.0</td>\n",
       "      <td>0.0</td>\n",
       "      <td>20.0</td>\n",
       "      <td>4.0</td>\n",
       "      <td>2014</td>\n",
       "      <td>1</td>\n",
       "      <td>276</td>\n",
       "      <td>Friday</td>\n",
       "    </tr>\n",
       "    <tr>\n",
       "      <th>2</th>\n",
       "      <td>2014-01-04</td>\n",
       "      <td>2.0</td>\n",
       "      <td>1.00</td>\n",
       "      <td>6.5</td>\n",
       "      <td>61.85</td>\n",
       "      <td>10.0</td>\n",
       "      <td>0.0</td>\n",
       "      <td>9.0</td>\n",
       "      <td>1.0</td>\n",
       "      <td>2014</td>\n",
       "      <td>1</td>\n",
       "      <td>276</td>\n",
       "      <td>Saturday</td>\n",
       "    </tr>\n",
       "    <tr>\n",
       "      <th>3</th>\n",
       "      <td>2014-01-05</td>\n",
       "      <td>4.0</td>\n",
       "      <td>3.00</td>\n",
       "      <td>7.0</td>\n",
       "      <td>41.10</td>\n",
       "      <td>8.0</td>\n",
       "      <td>0.0</td>\n",
       "      <td>3.0</td>\n",
       "      <td>0.0</td>\n",
       "      <td>2014</td>\n",
       "      <td>1</td>\n",
       "      <td>276</td>\n",
       "      <td>Sunday</td>\n",
       "    </tr>\n",
       "    <tr>\n",
       "      <th>4</th>\n",
       "      <td>2014-01-06</td>\n",
       "      <td>5.0</td>\n",
       "      <td>1.00</td>\n",
       "      <td>4.5</td>\n",
       "      <td>21.70</td>\n",
       "      <td>16.0</td>\n",
       "      <td>2.0</td>\n",
       "      <td>6.0</td>\n",
       "      <td>2.0</td>\n",
       "      <td>2014</td>\n",
       "      <td>1</td>\n",
       "      <td>276</td>\n",
       "      <td>Monday</td>\n",
       "    </tr>\n",
       "  </tbody>\n",
       "</table>\n",
       "</div>"
      ],
      "text/plain": [
       "       datum  M01AB  M01AE  N02BA  N02BE  N05B  N05C   R03  R06  Year  Month  \\\n",
       "0 2014-01-02    0.0   3.67    3.4  32.40   7.0   0.0   0.0  2.0  2014      1   \n",
       "1 2014-01-03    8.0   4.00    4.4  50.60  16.0   0.0  20.0  4.0  2014      1   \n",
       "2 2014-01-04    2.0   1.00    6.5  61.85  10.0   0.0   9.0  1.0  2014      1   \n",
       "3 2014-01-05    4.0   3.00    7.0  41.10   8.0   0.0   3.0  0.0  2014      1   \n",
       "4 2014-01-06    5.0   1.00    4.5  21.70  16.0   2.0   6.0  2.0  2014      1   \n",
       "\n",
       "   Hour Weekday Name  \n",
       "0   248     Thursday  \n",
       "1   276       Friday  \n",
       "2   276     Saturday  \n",
       "3   276       Sunday  \n",
       "4   276       Monday  "
      ]
     },
     "execution_count": 6,
     "metadata": {},
     "output_type": "execute_result"
    }
   ],
   "source": [
    "sales_daily.head()"
   ]
  },
  {
   "cell_type": "code",
   "execution_count": 7,
   "id": "cb1ee0ca",
   "metadata": {},
   "outputs": [
    {
     "data": {
      "text/plain": [
       "datum           0\n",
       "M01AB           0\n",
       "M01AE           0\n",
       "N02BA           0\n",
       "N02BE           0\n",
       "N05B            0\n",
       "N05C            0\n",
       "R03             0\n",
       "R06             0\n",
       "Year            0\n",
       "Month           0\n",
       "Hour            0\n",
       "Weekday Name    0\n",
       "dtype: int64"
      ]
     },
     "execution_count": 7,
     "metadata": {},
     "output_type": "execute_result"
    }
   ],
   "source": [
    "# Check for missing values in sales_daily\n",
    "missing_values = sales_daily.isnull().sum()\n",
    "\n",
    "missing_values"
   ]
  },
  {
   "cell_type": "code",
   "execution_count": 8,
   "id": "94bb6c68",
   "metadata": {},
   "outputs": [
    {
     "data": {
      "text/plain": [
       "datum           datetime64[ns]\n",
       "M01AB                  float64\n",
       "M01AE                  float64\n",
       "N02BA                  float64\n",
       "N02BE                  float64\n",
       "N05B                   float64\n",
       "N05C                   float64\n",
       "R03                    float64\n",
       "R06                    float64\n",
       "Year                     int64\n",
       "Month                    int64\n",
       "Hour                     int64\n",
       "Weekday Name            object\n",
       "dtype: object"
      ]
     },
     "execution_count": 8,
     "metadata": {},
     "output_type": "execute_result"
    }
   ],
   "source": [
    "# Get data type of each column in sales_daily, check if datum is now datetime\n",
    "sales_daily.dtypes"
   ]
  },
  {
   "cell_type": "code",
   "execution_count": 9,
   "id": "239158ed",
   "metadata": {},
   "outputs": [
    {
     "data": {
      "text/plain": [
       "4.99"
      ]
     },
     "execution_count": 9,
     "metadata": {},
     "output_type": "execute_result"
    }
   ],
   "source": [
    "sales_daily['M01AB'].median()"
   ]
  },
  {
   "cell_type": "code",
   "execution_count": 11,
   "id": "621dad96",
   "metadata": {},
   "outputs": [
    {
     "data": {
      "text/plain": [
       "3.895830316160029"
      ]
     },
     "execution_count": 11,
     "metadata": {},
     "output_type": "execute_result"
    }
   ],
   "source": [
    "sales_daily['M01AE'].mean()"
   ]
  },
  {
   "cell_type": "code",
   "execution_count": 12,
   "id": "d6e587cf",
   "metadata": {},
   "outputs": [
    {
     "data": {
      "text/plain": [
       "26.9"
      ]
     },
     "execution_count": 12,
     "metadata": {},
     "output_type": "execute_result"
    }
   ],
   "source": [
    "sales_daily['N02BE'].median()"
   ]
  },
  {
   "cell_type": "code",
   "execution_count": 14,
   "id": "35ea4471",
   "metadata": {},
   "outputs": [
    {
     "data": {
      "text/plain": [
       "Timestamp('2014-01-02 00:00:00')"
      ]
     },
     "execution_count": 14,
     "metadata": {},
     "output_type": "execute_result"
    }
   ],
   "source": [
    "# Find the minimum and maximum dates in the 'datum' column now that \n",
    "#we've converted 'datum' to datetime\n",
    "\n",
    "sales_daily['datum'].min()"
   ]
  },
  {
   "cell_type": "code",
   "execution_count": 15,
   "id": "97a8516a",
   "metadata": {},
   "outputs": [
    {
     "data": {
      "text/plain": [
       "Timestamp('2019-10-08 00:00:00')"
      ]
     },
     "execution_count": 15,
     "metadata": {},
     "output_type": "execute_result"
    }
   ],
   "source": [
    "sales_daily['datum'].max()"
   ]
  },
  {
   "cell_type": "code",
   "execution_count": 16,
   "id": "e513fb04",
   "metadata": {},
   "outputs": [
    {
     "data": {
      "text/plain": [
       "{'M01AB': 26,\n",
       " 'M01AE': 40,\n",
       " 'N02BA': 31,\n",
       " 'N02BE': 48,\n",
       " 'N05B': 48,\n",
       " 'N05C': 160,\n",
       " 'R03': 124,\n",
       " 'R06': 81}"
      ]
     },
     "execution_count": 16,
     "metadata": {},
     "output_type": "execute_result"
    }
   ],
   "source": [
    "# Define a function to detect outliers using the IQR method\n",
    "def detect_outliers(data, column):\n",
    "    Q1 = data[column].quantile(0.25)\n",
    "    Q3 = data[column].quantile(0.75)\n",
    "    IQR = Q3 - Q1\n",
    "    lower_bound = Q1 - 1.5 * IQR\n",
    "    upper_bound = Q3 + 1.5 * IQR\n",
    "    \n",
    "    # Return a boolean series where True indicates the presence of an outlier\n",
    "    return (data[column] < lower_bound) | (data[column] > upper_bound)\n",
    "\n",
    "# List of drug class columns\n",
    "drug_columns = ['M01AB', 'M01AE', 'N02BA', 'N02BE', 'N05B', 'N05C', 'R03', 'R06']\n",
    "\n",
    "# Check for outliers in each drug class column\n",
    "outliers_dict = {}\n",
    "for column in drug_columns:\n",
    "    outliers_dict[column] = detect_outliers(sales_daily, column).sum()\n",
    "\n",
    "outliers_dict"
   ]
  },
  {
   "cell_type": "code",
   "execution_count": 17,
   "id": "a13a3269",
   "metadata": {},
   "outputs": [],
   "source": [
    "#It seems that the columns N05C (Psycholeptics drugs, Hypnotics, and sedatives) \n",
    "#and R03 (Drugs for obstructive airway diseases) have a relatively higher number of outliers. \n",
    "#These outliers could be due to actual spikes in sales or potential errors in the data. \n"
   ]
  },
  {
   "cell_type": "code",
   "execution_count": 20,
   "id": "0670eefc",
   "metadata": {},
   "outputs": [
    {
     "data": {
      "text/plain": [
       "M01AB     17.340000\n",
       "M01AE     14.463000\n",
       "N02BA     16.000000\n",
       "N02BE    161.000000\n",
       "N05B      54.833333\n",
       "N05C       9.000000\n",
       "R03       45.000000\n",
       "R06       15.000000\n",
       "dtype: float64"
      ]
     },
     "execution_count": 20,
     "metadata": {},
     "output_type": "execute_result"
    }
   ],
   "source": [
    "# Calculate the range of values for each drug class column\n",
    "range_values = sales_daily[drug_columns].max() - sales_daily[drug_columns].min()\n",
    "\n",
    "range_values"
   ]
  },
  {
   "cell_type": "code",
   "execution_count": null,
   "id": "78940ff5",
   "metadata": {},
   "outputs": [],
   "source": []
  }
 ],
 "metadata": {
  "kernelspec": {
   "display_name": "Python 3 (ipykernel)",
   "language": "python",
   "name": "python3"
  },
  "language_info": {
   "codemirror_mode": {
    "name": "ipython",
    "version": 3
   },
   "file_extension": ".py",
   "mimetype": "text/x-python",
   "name": "python",
   "nbconvert_exporter": "python",
   "pygments_lexer": "ipython3",
   "version": "3.9.12"
  }
 },
 "nbformat": 4,
 "nbformat_minor": 5
}
